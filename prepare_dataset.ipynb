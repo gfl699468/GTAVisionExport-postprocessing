{
 "cells": [
  {
   "cell_type": "code",
   "execution_count": 1,
   "metadata": {
    "collapsed": true
   },
   "outputs": [],
   "source": [
    "import numpy as np\n",
    "import matplotlib.pyplot as plt\n",
    "import visualization\n",
    "import os\n",
    "from PIL import Image"
   ]
  },
  {
   "cell_type": "code",
   "execution_count": null,
   "metadata": {},
   "outputs": [],
   "source": [
    "ini_file = \"gta-postprocessing.ini\"\n",
    "visualization.multi_page = False\n",
    "visualization.ini_file = ini_file\n",
    "\n",
    "conn = visualization.get_connection()\n",
    "cur = conn.cursor()"
   ]
  },
  {
   "cell_type": "code",
   "execution_count": null,
   "metadata": {},
   "outputs": [],
   "source": [
    "cur.execute(\"\"\"SELECT DISTINCT scene_id\n",
    "  FROM snapshots \\\n",
    "  WHERE run_id = 6\n",
    "  ORDER BY created ASC \\\n",
    "  \"\"\")\n",
    "\n",
    "scenes = []\n",
    "for row in cur:\n",
    "    res = dict(row)\n",
    "    scenes.append(res)\n",
    "\n",
    "print('There are {} scenes'.format(len(scenes)))\n"
   ]
  },
  {
   "cell_type": "markdown",
   "metadata": {},
   "source": [
    "### for each scene"
   ]
  },
  {
   "cell_type": "code",
   "execution_count": null,
   "metadata": {},
   "outputs": [],
   "source": [
    "from gta_math import points_to_homo, ndc_to_view, construct_proj_matrix, view_to_world\n",
    "from visualization import load_depth\n",
    "\n",
    "\n",
    "def scene_to_pointcloud(scene_id):\n",
    "    conn = visualization.get_connection()\n",
    "    cur = conn.cursor()\n",
    "    cur.execute(\"\"\"SELECT snapshot_id, imagepath, cam_near_clip, camera_fov, width, height, \\\n",
    "      ARRAY[st_x(camera_relative_rotation), st_y(camera_relative_rotation), st_z(camera_relative_rotation)] as relative_cam_rot, \\\n",
    "      ARRAY[st_x(camera_pos), st_y(camera_pos), st_z(camera_pos)] as camera_pos, \\\n",
    "      ARRAY[st_x(camera_rot), st_y(camera_rot), st_z(camera_rot)] as camera_rot\\\n",
    "      FROM snapshots \\\n",
    "      WHERE scene_id = '{}'\n",
    "      ORDER BY created ASC \\\n",
    "    \"\"\".format(scene_id))\n",
    "\n",
    "    cameras = []\n",
    "    for row in cur:\n",
    "        res = dict(row)\n",
    "        res['camera_rot'] = np.array(res['camera_rot'])\n",
    "        res['camera_pos'] = np.array(res['camera_pos'])\n",
    "        res['camera_relative_rotation'] = np.array(res['camera_relative_rotation'])\n",
    "        cameras.append(res)\n",
    "\n",
    "    pointclouds = np.empty((3, None))\n",
    "    for cam in cameras:\n",
    "        pointcloud = camera_to_pointcloud(cam['imagepath'], cam['cam_near_clip'], cam['camera_fov'])\n",
    "        pointclouds = np.append(pointclouds, pointcloud)\n",
    "    return pointclouds\n",
    "        \n",
    "\n",
    "def camera_to_pointcloud(name, near_clip, camera_fov, width, height):\n",
    "    depth = load_depth(name)\n",
    "    vecs = points_to_homo(res, depth)\n",
    "    proj_matrix = construct_proj_matrix(height, width, camera_fov, near_clip)\n",
    "    view_matrix = construct_view_matrix()\n",
    "    vecs_p = ndc_to_view(vecs, proj_matrix)\n",
    "    vecs_p_world = view_to_world(vecs_p, view_matrix)\n",
    "    return vecs_p_world\n"
   ]
  },
  {
   "cell_type": "code",
   "execution_count": null,
   "metadata": {},
   "outputs": [],
   "source": [
    "workers = 10\n",
    "\n",
    "run_id = 6\n",
    "\n",
    "widgets = [progressbar.Percentage(), ' ', progressbar.Counter(), ' ', progressbar.Bar(), ' ',\n",
    "           progressbar.FileTransferSpeed()]\n",
    "\n",
    "conn = visualization.get_connection()\n",
    "cur = conn.cursor()\n",
    "cur.execute(\"\"\"SELECT snapshot_id, imagepath, camera_fov, width, height, cam_near_clip \\\n",
    "    FROM snapshots \\\n",
    "    WHERE run_id = {} \\\n",
    "    ORDER BY snapshot_id DESC \\\n",
    "    \"\"\".format(run_id))\n",
    "\n",
    "results = [dict(res) for res in cur]\n",
    "#files = [os.path.join(in_directory, i['imagepath']) for i in results]\n",
    "records = [(os.path.join(in_directory, i['imagepath']), \n",
    "            {'H': i['height'], 'W': i['width'], 'fov': i['camera_fov'], 'near_clip': i['cam_near_clip']}) for i in results]\n",
    "\n",
    "\n",
    "pbar = progressbar.ProgressBar(widgets=widgets, maxval=len(records) * 2).start()\n",
    "counter = 0\n",
    "\n",
    "Parallel(n_jobs=workers, backend='threading')(delayed(tiff_to_dataset_with_transform)\n",
    "                                              (in_directory, out_directory, name, rgb_format, depth_format, transform)\n",
    "                         for name, transform in records)\n"
   ]
  }
 ],
 "metadata": {
  "kernelspec": {
   "display_name": "Python 2",
   "language": "python",
   "name": "python2"
  },
  "language_info": {
   "codemirror_mode": {
    "name": "ipython",
    "version": 2
   },
   "file_extension": ".py",
   "mimetype": "text/x-python",
   "name": "python",
   "nbconvert_exporter": "python",
   "pygments_lexer": "ipython2",
   "version": "2.7.6"
  }
 },
 "nbformat": 4,
 "nbformat_minor": 0
}
