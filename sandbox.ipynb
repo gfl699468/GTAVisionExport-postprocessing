{
 "cells": [
  {
   "cell_type": "code",
   "execution_count": null,
   "metadata": {
    "collapsed": true
   },
   "outputs": [],
   "source": [
    "import pickle\n",
    "from extract_consecutive_screenshots import get_pickle_name, load_objects, load_snapshot_data\n",
    "from visualization import get_connection, get_gta_image_jpg_dir\n",
    "from os import path\n",
    "import matplotlib.pyplot as plt\n",
    "from PIL import Image\n",
    "from matplotlib import patches\n",
    "import numpy as np"
   ]
  },
  {
   "cell_type": "code",
   "execution_count": null,
   "metadata": {
    "collapsed": true
   },
   "outputs": [],
   "source": [
    "def display_snapshots(car, indices=100):\n",
    "    if type(indices) is int:\n",
    "        snapshots_range = (0, indices)\n",
    "    for snapshot in car['snapshots'][indices[0]:indices[1]]:\n",
    "        # print(snapshot)\n",
    "        plt.figure(figsize=(18,18))\n",
    "        img_path = path.join(get_gta_image_jpg_dir(), 'info-' + snapshot['image'] + '-0.jpg')\n",
    "        print(img_path)\n",
    "        img = Image.open(img_path)\n",
    "        size = img.size\n",
    "        bbox = np.array(snapshot['bbox'])\n",
    "        print(size)\n",
    "        bbox[:, 0] *= size[0]\n",
    "        bbox[:, 1] *= size[1]\n",
    "        print(bbox)\n",
    "        width, height = bbox[0, :] - bbox[1, :]\n",
    "        rect = patches.Rectangle(bbox[1, :], width, height, linewidth=1, edgecolor='r', facecolor='none')\n",
    "        # Add the patch to the Axes\n",
    "        plt.gca().add_patch(rect)\n",
    "        \n",
    "        plt.imshow(img)\n",
    "        plt.show()"
   ]
  },
  {
   "cell_type": "code",
   "execution_count": null,
   "metadata": {},
   "outputs": [],
   "source": [
    "conn = get_connection()\n",
    "run_id = 8\n",
    "cars = load_objects(run_id)\n",
    "len(cars)"
   ]
  },
  {
   "cell_type": "code",
   "execution_count": null,
   "metadata": {},
   "outputs": [],
   "source": [
    "car = list(cars.values())[300]\n",
    "len(car['snapshots'])"
   ]
  },
  {
   "cell_type": "code",
   "execution_count": null,
   "metadata": {
    "collapsed": true,
    "scrolled": false
   },
   "outputs": [],
   "source": [
    "for car in list(cars.values())[500:320]:\n",
    "    display_snapshots(car, (0, 5))"
   ]
  },
  {
   "cell_type": "code",
   "execution_count": null,
   "metadata": {
    "scrolled": false
   },
   "outputs": [],
   "source": [
    "snapshot = car['snapshots'][0]\n",
    "# print(snapshot)\n",
    "bbox = snapshot['bbox']\n",
    "# print(bbox)\n",
    "pos1 = np.array(car['snapshots'][0]['position'])\n",
    "pos2 = np.array(car['snapshots'][1]['position'])\n",
    "print(pos1, pos2)\n",
    "pos2 - pos1\n",
    "snapshot1 = load_snapshot_data(car['snapshots'][0]['snapshot_id'])\n",
    "snapshot2 = load_snapshot_data(car['snapshots'][1]['snapshot_id'])\n",
    "# print(snapshot1, snapshot2)\n",
    "pos1_homo = np.append(pos1, 1)\n",
    "print(pos1_homo)\n",
    "print(snapshot1['view_matrix'])\n",
    "viewed = np.matmul(pos1_homo, snapshot1['view_matrix'])\n",
    "projected = np.matmul(viewed, snapshot1['proj_matrix'])\n",
    "print('viewed', viewed)\n",
    "print('projected', projected)\n",
    "print(viewed / viewed[3])\n",
    "print(projected / projected[3])\n",
    "print(bbox)"
   ]
  },
  {
   "cell_type": "markdown",
   "metadata": {},
   "source": [
    "### Testing whether matpltolib displaying works:"
   ]
  },
  {
   "cell_type": "code",
   "execution_count": null,
   "metadata": {
    "collapsed": true
   },
   "outputs": [],
   "source": [
    "import matplotlib\n",
    "import os\n",
    "import matplotlib.pyplot as plt\n",
    "from PIL import Image"
   ]
  },
  {
   "cell_type": "code",
   "execution_count": null,
   "metadata": {},
   "outputs": [],
   "source": [
    "'DISPLAY' in os.environ"
   ]
  },
  {
   "cell_type": "code",
   "execution_count": null,
   "metadata": {
    "scrolled": false
   },
   "outputs": [],
   "source": [
    "img_path = '/datagrid/personal/racinmat/GTA-jpg/info-2017-11-25--01-59-56--393-0.jpg'\n",
    "img = Image.open(img_path)\n",
    "plt.imshow(img)\n",
    "plt.show()"
   ]
  },
  {
   "cell_type": "code",
   "execution_count": null,
   "metadata": {},
   "outputs": [],
   "source": [
    "exitval = os.system('python -c \"import matplotlib.pyplot as plt; plt.figure()\"')\n",
    "exitval"
   ]
  },
  {
   "cell_type": "code",
   "execution_count": null,
   "metadata": {},
   "outputs": [],
   "source": [
    "arr = [1, 2, 3, 4, 5]\n",
    "arr[4:5]"
   ]
  },
  {
   "cell_type": "code",
   "execution_count": null,
   "metadata": {},
   "outputs": [],
   "source": [
    "test = [0, 5]\n",
    "type(test) in (list, tuple)"
   ]
  },
  {
   "cell_type": "code",
   "execution_count": null,
   "metadata": {
    "collapsed": true
   },
   "outputs": [],
   "source": []
  }
 ],
 "metadata": {
  "kernelspec": {
   "display_name": "Python 3",
   "language": "python",
   "name": "python3"
  },
  "language_info": {
   "codemirror_mode": {
    "name": "ipython",
    "version": 3
   },
   "file_extension": ".py",
   "mimetype": "text/x-python",
   "name": "python",
   "nbconvert_exporter": "python",
   "pygments_lexer": "ipython3",
   "version": "3.6.3"
  }
 },
 "nbformat": 4,
 "nbformat_minor": 2
}
