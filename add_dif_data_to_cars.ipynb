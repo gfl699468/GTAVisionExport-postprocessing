{
 "cells": [
  {
   "cell_type": "code",
   "execution_count": null,
   "metadata": {
    "collapsed": true
   },
   "outputs": [],
   "source": [
    "import pickle\n",
    "from extract_consecutive_screenshots import get_pickle_name, load_objects, load_snapshot_data, analyze_run\n",
    "from visualization import get_connection, get_gta_image_jpg_dir\n",
    "from os import path\n",
    "import matplotlib.pyplot as plt\n",
    "from PIL import Image\n",
    "from matplotlib import patches\n",
    "import numpy as np\n",
    "# JPEG_DIR = get_gta_image_jpg_dir()\n",
    "JPEG_DIR = 'D:/GTAV_extraction_output/rgb-jpeg'"
   ]
  },
  {
   "cell_type": "code",
   "execution_count": null,
   "metadata": {
    "collapsed": true
   },
   "outputs": [],
   "source": [
    "run_id = 52\n",
    "analyze_run(run_id)"
   ]
  },
  {
   "cell_type": "code",
   "execution_count": null,
   "metadata": {
    "collapsed": true
   },
   "outputs": [],
   "source": [
    "cars = load_objects(run_id)\n",
    "len(cars)"
   ]
  },
  {
   "cell_type": "code",
   "execution_count": null,
   "metadata": {
    "collapsed": true
   },
   "outputs": [],
   "source": [
    "def get_pos_diffs(snapshots):\n",
    "    pos_diffs = []\n",
    "    positions = [snap['position'] for snap in snaps]\n",
    "    for i in range(1, len(snaps)):\n",
    "        diff = np.array(positions[i]) - np.array(positions[i - 1])\n",
    "        pos_diffs.append(diff)\n",
    "    return pos_diffs\n",
    "\n",
    "def transform_to_relative(diff, cam):\n",
    "    base = np.array([\n",
    "        [cam[0], cam[1]],\n",
    "        [cam[1], -cam[0]]\n",
    "    ])\n",
    "    return np.matmul(base, diff[0:2])"
   ]
  },
  {
   "cell_type": "code",
   "execution_count": null,
   "metadata": {
    "collapsed": true
   },
   "outputs": [],
   "source": [
    "# todo: udělat i time diff mezi snapshoty a vydělit jím velikost diff_rel, aby to bylo znormované na sekundu\n",
    "for key, car in cars.items():\n",
    "    snaps = car['snapshots']\n",
    "    pos_diffs = get_pos_diffs(snaps)\n",
    "    for i in range(len(pos_diffs)):\n",
    "        snap = snaps[i]\n",
    "        diff = pos_diffs[i]\n",
    "        diff_rel = transform_to_relative(diff, snap['cam_direction'][0:2])\n",
    "        \n",
    "        snap['diff'] = diff\n",
    "        snap['diff_relative'] = diff_rel"
   ]
  }
 ],
 "metadata": {
  "kernelspec": {
   "display_name": "Python 3",
   "language": "python",
   "name": "python3"
  },
  "language_info": {
   "codemirror_mode": {
    "name": "ipython",
    "version": 3
   },
   "file_extension": ".py",
   "mimetype": "text/x-python",
   "name": "python",
   "nbconvert_exporter": "python",
   "pygments_lexer": "ipython3",
   "version": "3.6.3"
  }
 },
 "nbformat": 4,
 "nbformat_minor": 2
}
