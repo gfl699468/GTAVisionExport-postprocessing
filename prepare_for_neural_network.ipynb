{
 "cells": [
  {
   "cell_type": "markdown",
   "metadata": {},
   "source": [
    "Neural network takes data in csv form, as pair rgb, depth per line.\n",
    "\n",
    "So we prepare data in required format and csv for them."
   ]
  },
  {
   "cell_type": "markdown",
   "metadata": {},
   "source": [
    "### converting files from tiff to jpg (RGB) and png (depth) and moving them to new folder"
   ]
  },
  {
   "cell_type": "code",
   "execution_count": 3,
   "metadata": {
    "collapsed": true
   },
   "outputs": [],
   "source": [
    "import glob\n",
    "import os\n",
    "from configparser import ConfigParser\n",
    "import progressbar\n",
    "from joblib import Parallel, delayed\n",
    "from PIL import Image\n",
    "import numpy as np\n",
    "import csv\n",
    "from visualization import load_depth, ndc_to_real\n",
    "from math import tan, atan, radians, degrees"
   ]
  },
  {
   "cell_type": "code",
   "execution_count": 18,
   "metadata": {
    "collapsed": true
   },
   "outputs": [],
   "source": [
    "def get_base_name(name):\n",
    "    return os.path.basename(os.path.splitext(name)[0])\n",
    "\n",
    "\n",
    "def convert_tiff(in_directory, out_directory, out_name, name, out_format, is_depth=False, transform=None):\n",
    "    if 'pbar' in globals() and 'counter' in globals():\n",
    "        global counter\n",
    "        counter += 1\n",
    "        pbar.update(counter)\n",
    "\n",
    "    outfile = os.path.join(out_directory, \"{}.{}\".format(out_name, out_format))\n",
    "    if os.path.exists(outfile):\n",
    "        return\n",
    "\n",
    "    try:\n",
    "        infile = os.path.join(in_directory, name)\n",
    "        # print('infile: ', infile)\n",
    "        # print('is_depth: ', is_depth)\n",
    "        # print('outfile: ', outfile)\n",
    "        if is_depth:\n",
    "            depth = load_depth(name)\n",
    "            if transform is None:\n",
    "                depth = depth * 255.0\n",
    "            else:\n",
    "                H = transform['H']\n",
    "                W = transform['W']\n",
    "                fov = transform['fov']\n",
    "                near_clip = transform['near_clip']\n",
    "                depth = ndc_to_real(depth, construct_proj_matrix(H, W, fov, near_clip))\n",
    "            im = Image.fromarray(depth.astype(np.uint8), mode=\"L\")\n",
    "        else:\n",
    "            im = Image.open(infile)\n",
    "            im = im.convert(mode=\"RGB\")\n",
    "        # print(\"Generating new format for {} to new file {}\".format(name, out_name))\n",
    "        im.save(outfile)\n",
    "    except OSError:\n",
    "        # print(\"Skipping invalid file {}\".format(name))\n",
    "        return\n",
    "\n",
    "\n",
    "def tiff_to_dataset(in_directory, out_directory, name, rgb_format, depth_format):\n",
    "    convert_tiff(in_directory, out_directory, get_base_name(name), get_base_name(name)+'.tiff', rgb_format, is_depth=False)\n",
    "    convert_tiff(in_directory, out_directory, get_base_name(name), get_base_name(name), depth_format, is_depth=True)\n",
    "\n",
    "def construct_proj_matrix(H=1080, W=1914, fov=50.0, near_clip=1.5):\n",
    "    # for z coord\n",
    "    f = near_clip  # the near clip, but f in the book\n",
    "    n = 10003.815  # the far clip, rounded value of median, after very weird values were discarded\n",
    "    # x coord\n",
    "    r = W * n * tan(radians(fov) / 2) / H\n",
    "    l = -r\n",
    "    # y coord\n",
    "    t = n * tan(radians(fov) / 2)\n",
    "    b = -t\n",
    "    # x00 = 2*n/(r-l)\n",
    "    x00 = H / (tan(radians(fov) / 2) * W)\n",
    "    # x11 = 2*n/(t-b)\n",
    "    x11 = 1 / tan(radians(fov) / 2)\n",
    "    return np.array([\n",
    "        [x00, 0, -(r + l) / (r - l), 0],\n",
    "        [0, x11, -(t + b) / (t - b), 0],\n",
    "        [0, 0, -f / (f - n), -f * n / (f - n)],\n",
    "        [0, 0, -1, 0],\n",
    "    ])\n",
    "\n",
    "\n",
    "def tiff_to_dataset_with_transform(in_directory, out_directory, name, rgb_format, depth_format, transform):\n",
    "    convert_tiff(in_directory, out_directory, get_base_name(name), get_base_name(name)+'.tiff', rgb_format, is_depth=False)\n",
    "    convert_tiff(in_directory, out_directory, get_base_name(name), get_base_name(name), depth_format, is_depth=True, transform)\n",
    "\n",
    "\n"
   ]
  },
  {
   "cell_type": "code",
   "execution_count": 19,
   "metadata": {
    "collapsed": true
   },
   "outputs": [],
   "source": [
    "ini_file = \"gta-postprocessing.local.ini\"\n",
    "\n",
    "CONFIG = ConfigParser()\n",
    "CONFIG.read(ini_file)\n",
    "in_directory = CONFIG[\"Images\"][\"Tiff\"]\n",
    "out_directory = CONFIG[\"Images\"][\"MlDataset\"]\n",
    "out_root_directory = 'D:\\projekty\\GTA-V-extractors\\depthEstimationNN1'\n",
    "\n",
    "rgb_format = 'jpg'\n",
    "depth_format = 'png'\n",
    "\n",
    "import visualization\n",
    "visualization.multi_page = False\n",
    "visualization.ini_file = ini_file\n"
   ]
  },
  {
   "cell_type": "markdown",
   "metadata": {},
   "source": [
    "## for raw files, in NDC, without db"
   ]
  },
  {
   "cell_type": "code",
   "execution_count": 21,
   "metadata": {
    "scrolled": true
   },
   "outputs": [
    {
     "name": "stderr",
     "output_type": "stream",
     "text": [
      "  0% 0 |                                                          |   0.00  B/s\r",
      " 10% 1 |#####                                                     |   1.00 kB/s\r",
      " 20% 2 |###########                                               |  20.41  B/s\r",
      " 30% 3 |#################                                         |  20.27  B/s\r"
     ]
    },
    {
     "name": "stdout",
     "output_type": "stream",
     "text": [
      "infile:  D:\\projekty\\GTA-V-extractors\\output\\2018-02-16--17-06-47--891.tiff\n",
      "is_depth:  False\n",
      "outfile:  D:\\projekty\\GTA-V-extractors\\depthEstimationNN1\\data-gta\\2018-02-16--17-06-47--891.jpg\n",
      "Generating new format for 2018-02-16--17-06-47--891.tiff to new file 2018-02-16--17-06-47--891\n",
      "infile:  D:\\projekty\\GTA-V-extractors\\output\\2018-02-16--17-06-47--891\n",
      "is_depth:  True\n",
      "outfile:  D:\\projekty\\GTA-V-extractors\\depthEstimationNN1\\data-gta\\2018-02-16--17-06-47--891.png\n",
      "Generating new format for 2018-02-16--17-06-47--891 to new file 2018-02-16--17-06-47--891\n",
      "infile:  D:\\projekty\\GTA-V-extractors\\output\\2018-02-16--17-06-50--707.tiff\n",
      "is_depth:  False\n",
      "outfile:  D:\\projekty\\GTA-V-extractors\\depthEstimationNN1\\data-gta\\2018-02-16--17-06-50--707.jpg\n",
      "Generating new format for 2018-02-16--17-06-50--707.tiff to new file 2018-02-16--17-06-50--707\n"
     ]
    },
    {
     "name": "stderr",
     "output_type": "stream",
     "text": [
      " 40% 4 |#######################                                   |  14.79  B/s\r",
      " 50% 5 |#############################                             |  16.21  B/s\r",
      " 60% 6 |##################################                        |  14.41  B/s\r",
      " 70% 7 |########################################                  |  15.20  B/s\r"
     ]
    },
    {
     "name": "stdout",
     "output_type": "stream",
     "text": [
      "infile:  D:\\projekty\\GTA-V-extractors\\output\\2018-02-16--17-06-50--707\n",
      "is_depth:  True\n",
      "outfile:  D:\\projekty\\GTA-V-extractors\\depthEstimationNN1\\data-gta\\2018-02-16--17-06-50--707.png\n",
      "Generating new format for 2018-02-16--17-06-50--707 to new file 2018-02-16--17-06-50--707\n",
      "infile:  D:\\projekty\\GTA-V-extractors\\output\\2018-02-16--17-06-51--531.tiff\n",
      "is_depth:  False\n",
      "outfile:  D:\\projekty\\GTA-V-extractors\\depthEstimationNN1\\data-gta\\2018-02-16--17-06-51--531.jpg\n",
      "Generating new format for 2018-02-16--17-06-51--531.tiff to new file 2018-02-16--17-06-51--531\n",
      "infile:  D:\\projekty\\GTA-V-extractors\\output\\2018-02-16--17-06-51--531\n",
      "is_depth:  True\n",
      "outfile:  D:\\projekty\\GTA-V-extractors\\depthEstimationNN1\\data-gta\\2018-02-16--17-06-51--531.png\n",
      "Generating new format for 2018-02-16--17-06-51--531 to new file 2018-02-16--17-06-51--531\n",
      "infile:  D:\\projekty\\GTA-V-extractors\\output\\2018-02-16--17-06-52--376.tiff\n",
      "is_depth:  False\n",
      "outfile:  D:\\projekty\\GTA-V-extractors\\depthEstimationNN1\\data-gta\\2018-02-16--17-06-52--376.jpg\n",
      "Generating new format for 2018-02-16--17-06-52--376.tiff to new file 2018-02-16--17-06-52--376\n",
      "infile:  D:\\projekty\\GTA-V-extractors\\output\\2018-02-16--17-06-52--376\n",
      "is_depth:  True\n",
      "outfile:  D:\\projekty\\GTA-V-extractors\\depthEstimationNN1\\data-gta\\2018-02-16--17-06-52--376.png\n",
      "Generating new format for 2018-02-16--17-06-52--376 to new file 2018-02-16--17-06-52--376\n",
      "infile:  D:\\projekty\\GTA-V-extractors\\output\\2018-02-16--17-06-53--758.tiff\n",
      "is_depth:  False\n",
      "outfile:  D:\\projekty\\GTA-V-extractors\\depthEstimationNN1\\data-gta\\2018-02-16--17-06-53--758.jpg\n",
      "Generating new format for 2018-02-16--17-06-53--758.tiff to new file 2018-02-16--17-06-53--758\n"
     ]
    },
    {
     "name": "stderr",
     "output_type": "stream",
     "text": [
      " 80% 8 |##############################################            |  13.45  B/s\r",
      " 90% 9 |####################################################      |  13.72  B/s\r",
      "100% 10 |#########################################################|  12.97  B/s\r"
     ]
    },
    {
     "name": "stdout",
     "output_type": "stream",
     "text": [
      "infile:  D:\\projekty\\GTA-V-extractors\\output\\2018-02-16--17-06-53--758\n",
      "is_depth:  True\n",
      "outfile:  D:\\projekty\\GTA-V-extractors\\depthEstimationNN1\\data-gta\\2018-02-16--17-06-53--758.png\n",
      "Generating new format for 2018-02-16--17-06-53--758 to new file 2018-02-16--17-06-53--758\n"
     ]
    },
    {
     "data": {
      "text/plain": [
       "[None, None, None, None, None]"
      ]
     },
     "execution_count": 21,
     "metadata": {},
     "output_type": "execute_result"
    }
   ],
   "source": [
    "workers = 10\n",
    "pattern = '[0-9][0-9][0-9][0-9]-[0-9][0-9]-[0-9][0-9]--[0-9][0-9]-[0-9][0-9]-[0-9][0-9]--[0-9][0-9][0-9].tiff'\n",
    "\n",
    "widgets = [progressbar.Percentage(), ' ', progressbar.Counter(), ' ', progressbar.Bar(), ' ',\n",
    "           progressbar.FileTransferSpeed()]\n",
    "\n",
    "files = glob.glob(os.path.join(in_directory, pattern))\n",
    "\n",
    "pbar = progressbar.ProgressBar(widgets=widgets, maxval=len(files) * 2).start()\n",
    "counter = 0\n",
    "\n",
    "Parallel(n_jobs=workers, backend='threading')(delayed(tiff_to_dataset)(in_directory, out_directory, name, rgb_format, depth_format)\n",
    "                         for name in files)\n"
   ]
  },
  {
   "cell_type": "markdown",
   "metadata": {},
   "source": [
    "## for transformation from NDC to world, with db"
   ]
  },
  {
   "cell_type": "code",
   "execution_count": null,
   "metadata": {
    "collapsed": true
   },
   "outputs": [],
   "source": [
    "workers = 10\n",
    "\n",
    "run_id = 6\n",
    "\n",
    "widgets = [progressbar.Percentage(), ' ', progressbar.Counter(), ' ', progressbar.Bar(), ' ',\n",
    "           progressbar.FileTransferSpeed()]\n",
    "\n",
    "conn = visualization.get_connection()\n",
    "cur = conn.cursor()\n",
    "cur.execute(\"\"\"SELECT snapshot_id, imagepath, camera_fov, width, height, cam_near_clip \\\n",
    "    FROM snapshots \\\n",
    "    WHERE run_id = {}\n",
    "    ORDER BY snapshot_id DESC \\\n",
    "    \"\"\".format(run_id))\n",
    "\n",
    "results = [dict(res) for res in cur]\n",
    "#files = [os.path.join(in_directory, i['imagepath']) for i in results]\n",
    "records = [(os.path.join(in_directory, i['imagepath']), \n",
    "            {'H': i['height'], 'W': i['width'], 'fov': i['camera_fov'], 'near_clip': i['cam_near_clip']}) for i in results]\n",
    "\n",
    "\n",
    "pbar = progressbar.ProgressBar(widgets=widgets, maxval=len(files) * 2).start()\n",
    "counter = 0\n",
    "\n",
    "Parallel(n_jobs=workers, backend='threading')(delayed(tiff_to_dataset)\n",
    "                                              (in_directory, out_directory, name, rgb_format, depth_format, transform)\n",
    "                         for name, transform in records)\n"
   ]
  },
  {
   "cell_type": "code",
   "execution_count": 12,
   "metadata": {
    "collapsed": true
   },
   "outputs": [],
   "source": [
    "files = glob.glob(os.path.join(in_directory, pattern))\n",
    "\n",
    "filenames = []\n",
    "for i, name in enumerate(files):\n",
    "    rgb_name = \"{}.{}\".format(get_base_name(name), rgb_format)\n",
    "    rgb_name = os.path.relpath(os.path.join(out_directory, rgb_name), start=out_root_directory)\n",
    "    rgb_name = rgb_name.replace('\\\\', '/')\n",
    "    depth_name = \"{}.{}\".format(get_base_name(name), depth_format)\n",
    "    depth_name = os.path.relpath(os.path.join(out_directory, depth_name), start=out_root_directory)\n",
    "    depth_name = depth_name.replace('\\\\', '/')\n",
    "    filenames.append([rgb_name, depth_name]) \n",
    "\n",
    "    # r je abych nemusel psát zpětná lomítka\n",
    "with open(os.path.join(out_root_directory, 'train-gta.csv'), 'w+', newline='') as f:\n",
    "    csv.writer(f).writerows(filenames)\n"
   ]
  },
  {
   "cell_type": "code",
   "execution_count": null,
   "metadata": {
    "collapsed": true
   },
   "outputs": [],
   "source": []
  }
 ],
 "metadata": {
  "kernelspec": {
   "display_name": "Python 3",
   "language": "python",
   "name": "python3"
  },
  "language_info": {
   "codemirror_mode": {
    "name": "ipython",
    "version": 3
   },
   "file_extension": ".py",
   "mimetype": "text/x-python",
   "name": "python",
   "nbconvert_exporter": "python",
   "pygments_lexer": "ipython3",
   "version": "3.5.3"
  }
 },
 "nbformat": 4,
 "nbformat_minor": 2
}
