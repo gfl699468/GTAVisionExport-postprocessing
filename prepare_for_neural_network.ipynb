{
 "cells": [
  {
   "cell_type": "markdown",
   "metadata": {},
   "source": [
    "Neural network takes data in csv form, as pair rgb, depth per line.\n",
    "\n",
    "So we prepare data in required format and csv for them."
   ]
  },
  {
   "cell_type": "markdown",
   "metadata": {},
   "source": [
    "### converting files from tiff to jpg (RGB) and png (depth) and moving them to new folder"
   ]
  },
  {
   "cell_type": "code",
   "execution_count": 14,
   "metadata": {
    "collapsed": true
   },
   "outputs": [],
   "source": [
    "import glob\n",
    "import os\n",
    "from configparser import ConfigParser\n",
    "import progressbar\n",
    "from joblib import Parallel, delayed\n",
    "from PIL import Image\n",
    "import numpy as np\n",
    "import csv\n",
    "from visualization import load_depth"
   ]
  },
  {
   "cell_type": "code",
   "execution_count": 15,
   "metadata": {
    "collapsed": true
   },
   "outputs": [],
   "source": [
    "def get_base_name(name):\n",
    "    return os.path.basename(os.path.splitext(name)[0])\n",
    "\n",
    "\n",
    "def convert_tiff(in_directory, out_directory, out_name, name, out_format, is_depth=False):\n",
    "    if 'pbar' in globals() and 'counter' in globals():\n",
    "        global counter\n",
    "        counter += 1\n",
    "        pbar.update(counter)\n",
    "\n",
    "    outfile = os.path.join(out_directory, \"{}.{}\".format(out_name, out_format))\n",
    "    if os.path.exists(outfile):\n",
    "        return\n",
    "\n",
    "    try:\n",
    "        infile = os.path.join(in_directory, name)\n",
    "        # print(infile)\n",
    "        if is_depth:\n",
    "            depth = load_depth(name)\n",
    "        else:\n",
    "            im = Image.open(infile)\n",
    "            im = im.convert(mode=\"RGB\")\n",
    "        # print(\"Generating jpeg for {}\".format(name))\n",
    "        im.save(outfile)\n",
    "    except OSError:\n",
    "        # print(\"Skipping invalid file {}\".format(name))\n",
    "        return\n",
    "\n",
    "\n",
    "def tiff_to_dataset(in_directory, out_directory, name, rgb_format, depth_format):\n",
    "    convert_tiff(in_directory, out_directory, get_base_name(name), get_base_name(name)+'.tiff', rgb_format, is_depth=False)\n",
    "    convert_tiff(in_directory, out_directory, get_base_name(name), get_base_name(name)+'-depth.tiff', depth_format, is_depth=True)\n",
    "\n",
    "\n",
    "def ndc_to_real(in_directory, out_directory, name):\n",
    "    # converts ndc depth to real depth in meters\n",
    "    convert_tiff(in_directory, out_directory, get_base_name(name), get_base_name(name)+'.tiff', rgb_format)\n",
    "    convert_tiff(in_directory, out_directory, get_base_name(name), get_base_name(name)+'-depth.tiff', depth_format)\n",
    "\n"
   ]
  },
  {
   "cell_type": "code",
   "execution_count": 16,
   "metadata": {
    "collapsed": true
   },
   "outputs": [],
   "source": [
    "ini_file = \"gta-postprocessing.local.ini\"\n",
    "\n",
    "in_directory = 'D:\\projekty\\GTA-V-extractors\\output'\n",
    "out_directory = 'D:\\projekty\\GTA-V-extractors\\depthEstimationNN1\\data-gta'\n",
    "out_root_directory = 'D:\\projekty\\GTA-V-extractors\\depthEstimationNN1'\n",
    "\n",
    "rgb_format = 'jpg'\n",
    "depth_format = 'png'\n",
    "\n",
    "import visualization\n",
    "visualization.multi_page = False\n",
    "visualization.ini_file = 'gta-postprocessing.local.ini'\n",
    "\n",
    "# CONFIG = ConfigParser()\n",
    "# CONFIG.read(ini_file)\n",
    "# in_directory = CONFIG[\"Images\"][\"Tiff\"]\n",
    "# out_directory = CONFIG[\"Images\"][\"Jpg\"]"
   ]
  },
  {
   "cell_type": "code",
   "execution_count": null,
   "metadata": {
    "scrolled": true
   },
   "outputs": [
    {
     "name": "stderr",
     "output_type": "stream",
     "text": [
      " 20% 2820 |###########                                            |  31.49  B/s\r"
     ]
    }
   ],
   "source": [
    "workers = 10\n",
    "pattern = '[0-9][0-9][0-9][0-9]-[0-9][0-9]-[0-9][0-9]--[0-9][0-9]-[0-9][0-9]-[0-9][0-9]--[0-9][0-9][0-9].tiff'\n",
    "\n",
    "widgets = [progressbar.Percentage(), ' ', progressbar.Counter(), ' ', progressbar.Bar(), ' ',\n",
    "           progressbar.FileTransferSpeed()]\n",
    "\n",
    "files = glob.glob(os.path.join(in_directory, pattern))\n",
    "\n",
    "pbar = progressbar.ProgressBar(widgets=widgets, maxval=len(files) * 2).start()\n",
    "counter = 0\n",
    "\n",
    "Parallel(n_jobs=workers, backend='threading')(delayed(tiff_to_dataset)(in_directory, out_directory, name, rgb_format, depth_format)\n",
    "                         for name in files)\n"
   ]
  },
  {
   "cell_type": "code",
   "execution_count": 12,
   "metadata": {
    "collapsed": true
   },
   "outputs": [],
   "source": [
    "files = glob.glob(os.path.join(in_directory, pattern))\n",
    "\n",
    "filenames = []\n",
    "for i, name in enumerate(files):\n",
    "    rgb_name = \"{}.{}\".format(get_base_name(name), rgb_format)\n",
    "    rgb_name = os.path.relpath(os.path.join(out_directory, rgb_name), start=out_root_directory)\n",
    "    rgb_name = rgb_name.replace('\\\\', '/')\n",
    "    depth_name = \"{}.{}\".format(get_base_name(name), depth_format)\n",
    "    depth_name = os.path.relpath(os.path.join(out_directory, depth_name), start=out_root_directory)\n",
    "    depth_name = depth_name.replace('\\\\', '/')\n",
    "    filenames.append([rgb_name, depth_name]) \n",
    "\n",
    "    # r je abych nemusel psát zpětná lomítka\n",
    "with open(os.path.join(out_root_directory, 'train-gta.csv'), 'w+', newline='') as f:\n",
    "    csv.writer(f).writerows(filenames)\n"
   ]
  },
  {
   "cell_type": "code",
   "execution_count": null,
   "metadata": {
    "collapsed": true
   },
   "outputs": [],
   "source": []
  },
  {
   "cell_type": "code",
   "execution_count": null,
   "metadata": {
    "collapsed": true
   },
   "outputs": [],
   "source": []
  }
 ],
 "metadata": {
  "kernelspec": {
   "display_name": "Python 3",
   "language": "python",
   "name": "python3"
  },
  "language_info": {
   "codemirror_mode": {
    "name": "ipython",
    "version": 3
   },
   "file_extension": ".py",
   "mimetype": "text/x-python",
   "name": "python",
   "nbconvert_exporter": "python",
   "pygments_lexer": "ipython3",
   "version": "3.5.3"
  }
 },
 "nbformat": 4,
 "nbformat_minor": 2
}
