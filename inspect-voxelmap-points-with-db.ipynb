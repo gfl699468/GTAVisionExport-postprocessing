{
 "cells": [
  {
   "cell_type": "code",
   "execution_count": 1,
   "metadata": {},
   "outputs": [],
   "source": [
    "import numpy as np\n",
    "import matplotlib.pyplot as plt\n",
    "import visualization\n",
    "import os\n",
    "from gta_math import points_to_homo, ndc_to_view, construct_proj_matrix, view_to_world, construct_view_matrix\n",
    "from visualization import load_depth, save_pointcloud_csv\n",
    "import progressbar\n",
    "from pointcloud_to_voxelmap import pointclouds_to_voxelmap\n",
    "from joblib import Parallel, delayed\n",
    "from configparser import ConfigParser\n",
    "from PIL import Image\n",
    "import pickle\n",
    "import json\n",
    "from voxelmaps import camera_to_pointcloud, load_scene_db_data, get_main_image_name, scene_to_voxelmap, get_main_image, scene_to_voxelmap_with_map"
   ]
  },
  {
   "cell_type": "code",
   "execution_count": 2,
   "metadata": {
    "collapsed": true
   },
   "outputs": [],
   "source": [
    "ini_file = \"gta-postprocessing.ini\"\n",
    "visualization.multi_page = False\n",
    "visualization.ini_file = ini_file\n",
    "\n",
    "base_name = '2018-03-30--04-05-57--208'\n",
    "\n",
    "conn = visualization.get_connection_pooled()\n",
    "cur = conn.cursor()\n",
    "\n",
    "CONFIG = ConfigParser()\n",
    "CONFIG.read(ini_file)\n",
    "in_directory = CONFIG[\"Images\"][\"Tiff\"]\n",
    "out_directory = CONFIG[\"Images\"][\"MlDatasetVoxel\"]"
   ]
  },
  {
   "cell_type": "code",
   "execution_count": 3,
   "metadata": {},
   "outputs": [],
   "source": [
    "scene_id = '0249a724-faa8-40b9-b097-70ffd0eb9607'\n",
    "\n",
    "cameras = load_scene_db_data(scene_id)\n",
    "\n",
    "image_name = get_main_image_name(cameras)\n",
    "voxels, values, map_voxel_size, map_obj = scene_to_voxelmap_with_map(cameras)"
   ]
  },
  {
   "cell_type": "code",
   "execution_count": 4,
   "metadata": {},
   "outputs": [],
   "source": [
    "cam = get_main_image(cameras)\n",
    "proj_matrix = cam['proj_matrix']\n",
    "view_matrix = cam['view_matrix']\n",
    "width = cam['width']\n",
    "height = cam['height']\n"
   ]
  },
  {
   "cell_type": "code",
   "execution_count": 5,
   "metadata": {},
   "outputs": [],
   "source": [
    "x_min = -1\n",
    "x_max = 1\n",
    "y_min = -1\n",
    "y_max = 1\n",
    "x_range = 1\n",
    "y_range = 1\n",
    "z_meters_min = 1.5\n",
    "z_meters_max = 50\n",
    "# z min calc\n",
    "z_min = proj_matrix @ [1, 1, -z_meters_max, 1]\n",
    "z_min = z_min[2] / z_min[3]\n",
    "# z max calc\n",
    "z_max = proj_matrix @ [1, 1, -z_meters_min, 1]\n",
    "z_max = z_max[2] / z_max[3]\n",
    "z_range = 100\n",
    "x_bin = (x_max - x_min) / x_range\n",
    "y_bin = (y_max - y_min) / y_range\n",
    "z_bin = (z_max - z_min) / z_range\n"
   ]
  },
  {
   "cell_type": "code",
   "execution_count": 6,
   "metadata": {
    "collapsed": true
   },
   "outputs": [],
   "source": [
    "X, Y, Z, W = np.mgrid[x_min:x_max:x_bin, y_min:y_max:y_bin, z_min:z_max:z_bin, 1:2:1]  # W is here as homo coordinate\n",
    "positions = np.vstack([X.ravel(), Y.ravel(), Z.ravel(), W.ravel()])"
   ]
  },
  {
   "cell_type": "code",
   "execution_count": 26,
   "metadata": {},
   "outputs": [
    {
     "ename": "ArgumentError",
     "evalue": "Python argument types in\n    VoxelMap.get_voxels(VoxelMap, numpy.ndarray)\ndid not match C++ signature:\n    get_voxels(class voxel_map::PyVoxelMap {lvalue}, struct _object * __ptr64, struct _object * __ptr64)\n    get_voxels(class voxel_map::PyVoxelMap {lvalue})",
     "output_type": "error",
     "traceback": [
      "\u001b[1;31m---------------------------------------------------------------------------\u001b[0m",
      "\u001b[1;31mArgumentError\u001b[0m                             Traceback (most recent call last)",
      "\u001b[1;32m<ipython-input-26-cad4daa4f520>\u001b[0m in \u001b[0;36m<module>\u001b[1;34m()\u001b[0m\n\u001b[0;32m      8\u001b[0m \u001b[0mpoints_world\u001b[0m \u001b[1;33m=\u001b[0m \u001b[0mview_to_world\u001b[0m\u001b[1;33m(\u001b[0m\u001b[0mpoints_view\u001b[0m\u001b[1;33m,\u001b[0m \u001b[0mview_matrix\u001b[0m\u001b[1;33m)\u001b[0m\u001b[1;33m\u001b[0m\u001b[0m\n\u001b[0;32m      9\u001b[0m \u001b[1;31m# here I find corresponding voxels for generated points, by obtaining voxelmap reference\u001b[0m\u001b[1;33m\u001b[0m\u001b[1;33m\u001b[0m\u001b[0m\n\u001b[1;32m---> 10\u001b[1;33m \u001b[0mvoxel_values\u001b[0m \u001b[1;33m=\u001b[0m \u001b[0mmap_obj\u001b[0m\u001b[1;33m.\u001b[0m\u001b[0mget_voxels\u001b[0m\u001b[1;33m(\u001b[0m\u001b[0mpoints_world\u001b[0m\u001b[1;33m[\u001b[0m\u001b[1;36m0\u001b[0m\u001b[1;33m:\u001b[0m\u001b[1;36m3\u001b[0m\u001b[1;33m,\u001b[0m \u001b[1;33m:\u001b[0m\u001b[1;33m]\u001b[0m\u001b[1;33m)\u001b[0m\u001b[1;33m\u001b[0m\u001b[0m\n\u001b[0m\u001b[0;32m     11\u001b[0m \u001b[1;33m\u001b[0m\u001b[0m\n\u001b[0;32m     12\u001b[0m \u001b[0mw\u001b[0m \u001b[1;33m=\u001b[0m \u001b[0mnp\u001b[0m\u001b[1;33m.\u001b[0m\u001b[0mones\u001b[0m\u001b[1;33m(\u001b[0m\u001b[1;33m(\u001b[0m\u001b[1;36m1\u001b[0m\u001b[1;33m,\u001b[0m\u001b[0mvoxels\u001b[0m\u001b[1;33m.\u001b[0m\u001b[0mshape\u001b[0m\u001b[1;33m[\u001b[0m\u001b[1;36m1\u001b[0m\u001b[1;33m]\u001b[0m\u001b[1;33m)\u001b[0m\u001b[1;33m)\u001b[0m\u001b[1;33m\u001b[0m\u001b[0m\n",
      "\u001b[1;31mArgumentError\u001b[0m: Python argument types in\n    VoxelMap.get_voxels(VoxelMap, numpy.ndarray)\ndid not match C++ signature:\n    get_voxels(class voxel_map::PyVoxelMap {lvalue}, struct _object * __ptr64, struct _object * __ptr64)\n    get_voxels(class voxel_map::PyVoxelMap {lvalue})"
     ]
    }
   ],
   "source": [
    "params = {\n",
    "    'width': width,\n",
    "    'height': height,\n",
    "    'proj_matrix': proj_matrix,\n",
    "}\n",
    "\n",
    "points_view = ndc_to_view(positions, proj_matrix)\n",
    "points_world = view_to_world(points_view, view_matrix)\n",
    "# here I find corresponding voxels for generated points, by obtaining voxelmap reference\n",
    "voxel_values = map_obj.get_voxels(points_world[0:3, :])\n",
    "\n",
    "w = np.ones((1,voxels.shape[1]))\n",
    "voxels_homo = np.vstack([voxels, w])\n",
    "voxels_view = view_matrix @ voxels_homo"
   ]
  },
  {
   "cell_type": "code",
   "execution_count": 18,
   "metadata": {},
   "outputs": [],
   "source": [
    "save_pointcloud_csv(points_view.T[:, 0:3], '{}/{}.csv'.format(in_directory, base_name))\n",
    "save_pointcloud_csv(positions.T[:, 0:3], '{}/ndc-{}.csv'.format(in_directory, base_name))"
   ]
  },
  {
   "cell_type": "code",
   "execution_count": 16,
   "metadata": {},
   "outputs": [
    {
     "data": {
      "text/plain": [
       "(3, 136698)"
      ]
     },
     "execution_count": 16,
     "metadata": {},
     "output_type": "execute_result"
    }
   ],
   "source": [
    "voxels.shape"
   ]
  },
  {
   "cell_type": "code",
   "execution_count": 17,
   "metadata": {},
   "outputs": [],
   "source": [
    "w = np.ones((1,voxels.shape[1]))"
   ]
  },
  {
   "cell_type": "code",
   "execution_count": 27,
   "metadata": {},
   "outputs": [
    {
     "data": {
      "text/plain": [
       "(3, 136698)"
      ]
     },
     "execution_count": 27,
     "metadata": {},
     "output_type": "execute_result"
    }
   ],
   "source": [
    "voxels.shape"
   ]
  },
  {
   "cell_type": "code",
   "execution_count": 29,
   "metadata": {},
   "outputs": [
    {
     "data": {
      "text/plain": [
       "(3, 100)"
      ]
     },
     "execution_count": 29,
     "metadata": {},
     "output_type": "execute_result"
    }
   ],
   "source": [
    "points_world[0:3, :].shape"
   ]
  },
  {
   "cell_type": "code",
   "execution_count": null,
   "metadata": {
    "collapsed": true
   },
   "outputs": [],
   "source": []
  }
 ],
 "metadata": {
  "kernelspec": {
   "display_name": "Python 3",
   "language": "python",
   "name": "python3"
  },
  "language_info": {
   "codemirror_mode": {
    "name": "ipython",
    "version": 3
   },
   "file_extension": ".py",
   "mimetype": "text/x-python",
   "name": "python",
   "nbconvert_exporter": "python",
   "pygments_lexer": "ipython3",
   "version": "3.6.3"
  }
 },
 "nbformat": 4,
 "nbformat_minor": 2
}
