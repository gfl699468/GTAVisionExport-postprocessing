{
 "cells": [
  {
   "cell_type": "code",
   "execution_count": 6,
   "metadata": {
    "collapsed": true
   },
   "outputs": [],
   "source": [
    "import numpy as np\n",
    "import matplotlib.pyplot as plt\n",
    "import visualization\n",
    "import os\n",
    "from gta_math import points_to_homo, ndc_to_view, construct_proj_matrix, view_to_world, construct_view_matrix\n",
    "from visualization import load_depth\n",
    "import progressbar\n",
    "from pointcloud_to_voxelmap import pointclouds_to_voxelmap\n",
    "from joblib import Parallel, delayed\n",
    "from configparser import ConfigParser\n",
    "from PIL import Image\n",
    "import pickle"
   ]
  },
  {
   "cell_type": "code",
   "execution_count": 7,
   "metadata": {
    "collapsed": true
   },
   "outputs": [],
   "source": [
    "ini_file = \"gta-postprocessing.ini\"\n",
    "visualization.multi_page = False\n",
    "visualization.ini_file = ini_file\n",
    "\n",
    "conn = visualization.get_connection()\n",
    "cur = conn.cursor()\n",
    "\n",
    "CONFIG = ConfigParser()\n",
    "CONFIG.read(ini_file)\n",
    "in_directory = CONFIG[\"Images\"][\"Tiff\"]\n",
    "out_directory = CONFIG[\"Images\"][\"MlDatasetVoxel\"]\n"
   ]
  },
  {
   "cell_type": "code",
   "execution_count": 8,
   "metadata": {},
   "outputs": [
    {
     "name": "stdout",
     "output_type": "stream",
     "text": [
      "There are 8438 scenes\n"
     ]
    }
   ],
   "source": [
    "cur.execute(\"\"\"SELECT DISTINCT scene_id \\\n",
    "  FROM snapshots \\\n",
    "  WHERE run_id = 6 \\\n",
    "  \"\"\")\n",
    "\n",
    "scenes = []\n",
    "for row in cur:\n",
    "    res = dict(row)\n",
    "    scenes.append(res)\n",
    "\n",
    "print('There are {} scenes'.format(len(scenes)))\n"
   ]
  },
  {
   "cell_type": "markdown",
   "metadata": {},
   "source": [
    "### functions for each scene"
   ]
  },
  {
   "cell_type": "code",
   "execution_count": 33,
   "metadata": {
    "collapsed": true
   },
   "outputs": [],
   "source": [
    "def get_base_name(name):\n",
    "    return os.path.basename(os.path.splitext(name)[0])\n",
    "\n",
    "\n",
    "def scene_to_pointcloud(cameras):\n",
    "    pointclouds = []\n",
    "    cam_positions = []\n",
    "    \n",
    "    for cam in cameras:\n",
    "        pointcloud = camera_to_pointcloud(cam)\n",
    "        pointclouds.append(pointcloud)\n",
    "        cam_positions.append(cam['camera_pos'])\n",
    "    return pointclouds, cam_positions\n",
    "\n",
    "\n",
    "def get_main_image_name(cameras):\n",
    "    for cam in cameras:\n",
    "        # this is the main camera\n",
    "        if np.array_equal(cam['camera_relative_rotation'], [0, 0, 0]):\n",
    "            return cam['imagepath']\n",
    "    raise Exception('no main image')\n",
    "\n",
    "    \n",
    "def load_scene_db_data(scene_id):\n",
    "    conn = visualization.get_connection()\n",
    "    cur = conn.cursor()\n",
    "    cur.execute(\"\"\"SELECT snapshot_id, imagepath, cam_near_clip, camera_fov, width, height, \\\n",
    "      ARRAY[st_x(camera_relative_rotation), st_y(camera_relative_rotation), st_z(camera_relative_rotation)] as camera_relative_rotation, \\\n",
    "      ARRAY[st_x(camera_pos), st_y(camera_pos), st_z(camera_pos)] as camera_pos, \\\n",
    "      ARRAY[st_x(camera_rot), st_y(camera_rot), st_z(camera_rot)] as camera_rot \\\n",
    "      FROM snapshots \\\n",
    "      WHERE scene_id = '{}'\n",
    "      ORDER BY timestamp ASC \\\n",
    "    \"\"\".format(scene_id))\n",
    "\n",
    "    cameras = []\n",
    "    for row in cur:\n",
    "        res = dict(row)\n",
    "        res['camera_rot'] = np.array(res['camera_rot'])\n",
    "        res['camera_pos'] = np.array(res['camera_pos'])\n",
    "        res['camera_relative_rotation'] = np.array(res['camera_relative_rotation'])\n",
    "        res['view_matrix'] = construct_view_matrix(res['camera_pos'], res['camera_rot'])\n",
    "        res['proj_matrix'] = construct_proj_matrix(res['height'], res['width'], res['camera_fov'], res['cam_near_clip'])\n",
    "        cameras.append(res)\n",
    "    return cameras\n",
    "\n",
    "\n",
    "def camera_to_pointcloud(cam):\n",
    "    name = cam['imagepath']\n",
    "    depth = load_depth(name)\n",
    "    cam['cam_far_clip'] = 50  # meaning I care only for point up to 50 meters\n",
    "    vecs, _ = points_to_homo(cam, depth)\n",
    "    assert(vecs.shape[0] == 4)\n",
    "    vecs_p = ndc_to_view(vecs, cam['proj_matrix'])\n",
    "    vecs_p_world = view_to_world(vecs_p, cam['view_matrix'])\n",
    "    assert(vecs_p_world.shape[0] == 4)\n",
    "    return vecs_p_world[0:3, :]\n",
    "\n",
    "\n",
    "def scene_to_voxelmap(scene_id):\n",
    "    if 'pbar' in globals() and 'counter' in globals():\n",
    "        global counter\n",
    "        counter += 1\n",
    "        pbar.update(counter)\n",
    "\n",
    "    pointclouds, cam_positions = scene_to_pointcloud(scene_id)\n",
    "    assert(pointclouds[0].shape[0] == 3)\n",
    "    voxelmap = pointclouds_to_voxelmap(pointclouds, cam_positions)\n",
    "    return voxelmap\n",
    "\n",
    "\n",
    "def convert_tiff(in_directory, out_directory, out_name, name):\n",
    "    if 'pbar' in globals() and 'counter' in globals():\n",
    "        global counter\n",
    "        counter += 1\n",
    "        pbar.update(counter)\n",
    "\n",
    "    out_format = 'jpg'\n",
    "    outfile = os.path.join(out_directory, \"{}.{}\".format(out_name, out_format))\n",
    "    if os.path.exists(outfile):\n",
    "        return\n",
    "\n",
    "    try:\n",
    "        infile = os.path.join(in_directory, name)\n",
    "        im = Image.open(infile)\n",
    "        im = im.convert(mode=\"RGB\")\n",
    "        # print(\"Generating new format for {} to new file {}\".format(name, out_name))\n",
    "        im.save(outfile)\n",
    "    except OSError:\n",
    "        # print(\"Skipping invalid file {}\".format(name))\n",
    "        return\n",
    "\n",
    "\n",
    "def convert_scene_to_img_and_voxelmap(in_directory, out_directory, scene_id):\n",
    "    if 'pbar' in globals() and 'counter' in globals():\n",
    "        global counter\n",
    "        counter += 1\n",
    "        pbar.update(counter)\n",
    "\n",
    "    cameras = load_scene_db_data(scene_id)\n",
    "    image_name = get_main_image_name(cameras)\n",
    "\n",
    "    convert_tiff(in_directory, out_directory, image_name, image_name+'.tiff')\n",
    "\n",
    "    outfile = os.path.join(out_directory, \"{}.rick\".format(image_name))\n",
    "    if os.path.exists(outfile):\n",
    "        return\n",
    "    \n",
    "    voxelmap, image_name = scene_to_voxelmap(cameras)\n",
    "    with open(outfile, 'wb+') as f:\n",
    "        pickle.dump(voxelmap, f)\n"
   ]
  },
  {
   "cell_type": "markdown",
   "metadata": {},
   "source": [
    "### actually running the extraction"
   ]
  },
  {
   "cell_type": "code",
   "execution_count": null,
   "metadata": {
    "collapsed": true
   },
   "outputs": [],
   "source": [
    "workers = 10\n",
    "run_id = 6\n",
    "\n",
    "widgets = [progressbar.Percentage(), ' ', progressbar.Counter(), ' ', progressbar.Bar(), ' ',\n",
    "           progressbar.FileTransferSpeed()]\n",
    "\n",
    "pbar = progressbar.ProgressBar(widgets=widgets, maxval=len(scenes)).start()\n",
    "counter = 0\n",
    "\n",
    "Parallel(n_jobs=workers, backend='threading')(delayed(convert_scene_to_img_and_voxelmap)(in_directory, out_directory, i['scene_id']) for i in scenes)\n"
   ]
  },
  {
   "cell_type": "markdown",
   "metadata": {},
   "source": [
    "### running extraction for one scene"
   ]
  },
  {
   "cell_type": "code",
   "execution_count": 34,
   "metadata": {},
   "outputs": [
    {
     "ename": "NameError",
     "evalue": "name 'name' is not defined",
     "output_type": "error",
     "traceback": [
      "\u001b[1;31m---------------------------------------------------------------------------\u001b[0m",
      "\u001b[1;31mNameError\u001b[0m                                 Traceback (most recent call last)",
      "\u001b[1;32m<ipython-input-34-279d26755e52>\u001b[0m in \u001b[0;36m<module>\u001b[1;34m()\u001b[0m\n\u001b[1;32m----> 1\u001b[1;33m \u001b[0mconvert_scene_to_img_and_voxelmap\u001b[0m\u001b[1;33m(\u001b[0m\u001b[0min_directory\u001b[0m\u001b[1;33m,\u001b[0m \u001b[0mout_directory\u001b[0m\u001b[1;33m,\u001b[0m \u001b[0mscenes\u001b[0m\u001b[1;33m[\u001b[0m\u001b[1;36m0\u001b[0m\u001b[1;33m]\u001b[0m\u001b[1;33m[\u001b[0m\u001b[1;34m'scene_id'\u001b[0m\u001b[1;33m]\u001b[0m\u001b[1;33m)\u001b[0m\u001b[1;33m\u001b[0m\u001b[0m\n\u001b[0m",
      "\u001b[1;32m<ipython-input-33-e20c379f2e3a>\u001b[0m in \u001b[0;36mconvert_scene_to_img_and_voxelmap\u001b[1;34m(in_directory, out_directory, scene_id)\u001b[0m\n\u001b[0;32m    102\u001b[0m         \u001b[1;32mreturn\u001b[0m\u001b[1;33m\u001b[0m\u001b[0m\n\u001b[0;32m    103\u001b[0m \u001b[1;33m\u001b[0m\u001b[0m\n\u001b[1;32m--> 104\u001b[1;33m     \u001b[0mvoxelmap\u001b[0m\u001b[1;33m,\u001b[0m \u001b[0mimage_name\u001b[0m \u001b[1;33m=\u001b[0m \u001b[0mscene_to_voxelmap\u001b[0m\u001b[1;33m(\u001b[0m\u001b[0mcameras\u001b[0m\u001b[1;33m)\u001b[0m\u001b[1;33m\u001b[0m\u001b[0m\n\u001b[0m\u001b[0;32m    105\u001b[0m     \u001b[1;32mwith\u001b[0m \u001b[0mopen\u001b[0m\u001b[1;33m(\u001b[0m\u001b[0moutfile\u001b[0m\u001b[1;33m,\u001b[0m \u001b[1;34m'wb+'\u001b[0m\u001b[1;33m)\u001b[0m \u001b[1;32mas\u001b[0m \u001b[0mf\u001b[0m\u001b[1;33m:\u001b[0m\u001b[1;33m\u001b[0m\u001b[0m\n\u001b[0;32m    106\u001b[0m         \u001b[0mpickle\u001b[0m\u001b[1;33m.\u001b[0m\u001b[0mdump\u001b[0m\u001b[1;33m(\u001b[0m\u001b[0mvoxelmap\u001b[0m\u001b[1;33m,\u001b[0m \u001b[0mf\u001b[0m\u001b[1;33m)\u001b[0m\u001b[1;33m\u001b[0m\u001b[0m\n",
      "\u001b[1;32m<ipython-input-33-e20c379f2e3a>\u001b[0m in \u001b[0;36mscene_to_voxelmap\u001b[1;34m(scene_id)\u001b[0m\n\u001b[0;32m     61\u001b[0m     \u001b[0mpointclouds\u001b[0m\u001b[1;33m,\u001b[0m \u001b[0mcam_positions\u001b[0m \u001b[1;33m=\u001b[0m \u001b[0mscene_to_pointcloud\u001b[0m\u001b[1;33m(\u001b[0m\u001b[0mscene_id\u001b[0m\u001b[1;33m)\u001b[0m\u001b[1;33m\u001b[0m\u001b[0m\n\u001b[0;32m     62\u001b[0m     \u001b[1;32massert\u001b[0m\u001b[1;33m(\u001b[0m\u001b[0mpointclouds\u001b[0m\u001b[1;33m[\u001b[0m\u001b[1;36m0\u001b[0m\u001b[1;33m]\u001b[0m\u001b[1;33m.\u001b[0m\u001b[0mshape\u001b[0m\u001b[1;33m[\u001b[0m\u001b[1;36m0\u001b[0m\u001b[1;33m]\u001b[0m \u001b[1;33m==\u001b[0m \u001b[1;36m3\u001b[0m\u001b[1;33m)\u001b[0m\u001b[1;33m\u001b[0m\u001b[0m\n\u001b[1;32m---> 63\u001b[1;33m     \u001b[0mvoxelmap\u001b[0m \u001b[1;33m=\u001b[0m \u001b[0mpointclouds_to_voxelmap\u001b[0m\u001b[1;33m(\u001b[0m\u001b[0mpointclouds\u001b[0m\u001b[1;33m,\u001b[0m \u001b[0mcam_positions\u001b[0m\u001b[1;33m)\u001b[0m\u001b[1;33m\u001b[0m\u001b[0m\n\u001b[0m\u001b[0;32m     64\u001b[0m     \u001b[1;32mreturn\u001b[0m \u001b[0mvoxelmap\u001b[0m\u001b[1;33m\u001b[0m\u001b[0m\n\u001b[0;32m     65\u001b[0m \u001b[1;33m\u001b[0m\u001b[0m\n",
      "\u001b[1;32mD:\\Projects\\GTAVisionExport_postprocessing\\pointcloud_to_voxelmap.py\u001b[0m in \u001b[0;36mpointclouds_to_voxelmap\u001b[1;34m(pointclouds, camera_posisions, voxel_size, free_update, hit_update)\u001b[0m\n\u001b[0;32m     34\u001b[0m     \u001b[1;31m# můžu získávat i hodnoty konkrétních voxelů přes map.get_voxels(voxels, levels)\u001b[0m\u001b[1;33m\u001b[0m\u001b[1;33m\u001b[0m\u001b[0m\n\u001b[0;32m     35\u001b[0m     \u001b[1;31m# voxely zobrazovat jako pointcloud\u001b[0m\u001b[1;33m\u001b[0m\u001b[1;33m\u001b[0m\u001b[0m\n\u001b[1;32m---> 36\u001b[1;33m     \u001b[1;32mwith\u001b[0m \u001b[0mopen\u001b[0m\u001b[1;33m(\u001b[0m\u001b[1;34m'voxelmap-{}.rick'\u001b[0m\u001b[1;33m.\u001b[0m\u001b[0mformat\u001b[0m\u001b[1;33m(\u001b[0m\u001b[0mname\u001b[0m\u001b[1;33m)\u001b[0m\u001b[1;33m,\u001b[0m \u001b[1;34m'wb+'\u001b[0m\u001b[1;33m)\u001b[0m \u001b[1;32mas\u001b[0m \u001b[0mf\u001b[0m\u001b[1;33m:\u001b[0m\u001b[1;33m\u001b[0m\u001b[0m\n\u001b[0m\u001b[0;32m     37\u001b[0m         \u001b[0mpickle\u001b[0m\u001b[1;33m.\u001b[0m\u001b[0mdump\u001b[0m\u001b[1;33m(\u001b[0m\u001b[1;33m[\u001b[0m\u001b[0mvoxels\u001b[0m\u001b[1;33m,\u001b[0m \u001b[0mvalues\u001b[0m\u001b[1;33m,\u001b[0m \u001b[0mmap\u001b[0m\u001b[1;33m.\u001b[0m\u001b[0mvoxel_size\u001b[0m\u001b[1;33m]\u001b[0m\u001b[1;33m,\u001b[0m \u001b[0mf\u001b[0m\u001b[1;33m)\u001b[0m\u001b[1;33m\u001b[0m\u001b[0m\n\u001b[0;32m     38\u001b[0m \u001b[1;33m\u001b[0m\u001b[0m\n",
      "\u001b[1;31mNameError\u001b[0m: name 'name' is not defined"
     ]
    }
   ],
   "source": [
    "convert_scene_to_img_and_voxelmap(in_directory, out_directory, scenes[0]['scene_id'])"
   ]
  },
  {
   "cell_type": "code",
   "execution_count": null,
   "metadata": {
    "collapsed": true
   },
   "outputs": [],
   "source": []
  }
 ],
 "metadata": {
  "kernelspec": {
   "display_name": "Python 3",
   "language": "python",
   "name": "python3"
  },
  "language_info": {
   "codemirror_mode": {
    "name": "ipython",
    "version": 3
   },
   "file_extension": ".py",
   "mimetype": "text/x-python",
   "name": "python",
   "nbconvert_exporter": "python",
   "pygments_lexer": "ipython3",
   "version": "3.6.3"
  }
 },
 "nbformat": 4,
 "nbformat_minor": 1
}
