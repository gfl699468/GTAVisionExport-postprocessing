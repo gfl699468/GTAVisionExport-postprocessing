{
 "cells": [
  {
   "cell_type": "code",
   "execution_count": 1,
   "metadata": {
    "collapsed": true
   },
   "outputs": [],
   "source": [
    "import numpy as np\n",
    "import matplotlib.pyplot as plt\n",
    "import visualization\n",
    "import os\n",
    "from gta_math import points_to_homo, ndc_to_view, construct_proj_matrix, view_to_world, construct_view_matrix, ndcs_to_pixels\n",
    "from visualization import load_depth\n",
    "import progressbar\n",
    "from pointcloud_to_voxelmap import pointclouds_to_voxelmap\n",
    "from joblib import Parallel, delayed\n",
    "from configparser import ConfigParser\n",
    "from PIL import Image\n",
    "import pickle\n",
    "from voxelmaps import camera_to_pointcloud, load_scene_db_data, get_main_image_name, scene_to_pointcloud, scene_to_voxelmap, NoMainImageException, scene_to_voxelmap_with_map, get_main_image\n",
    "import voxelmaps\n",
    "import time\n",
    "import csv\n",
    "import random"
   ]
  },
  {
   "cell_type": "code",
   "execution_count": 2,
   "metadata": {
    "collapsed": true
   },
   "outputs": [],
   "source": [
    "ini_file = \"gta-postprocessing.ini\"\n",
    "visualization.multi_page = False\n",
    "visualization.ini_file = ini_file\n",
    "\n",
    "conn = visualization.get_connection()\n",
    "cur = conn.cursor()\n",
    "\n",
    "CONFIG = ConfigParser()\n",
    "CONFIG.read(ini_file)\n",
    "in_directory = CONFIG[\"Images\"][\"Tiff\"]\n",
    "out_directory = CONFIG[\"Images\"][\"MlDatasetVoxel\"]\n",
    "out_root_directory = r'D:\\\\'\n",
    "\n",
    "\n",
    "# setting linear samping of voxelmap in view space\n",
    "linear_view_sampling = True # otherwise, it is linear in NDC depth -> hyperbolic in view"
   ]
  },
  {
   "cell_type": "code",
   "execution_count": 3,
   "metadata": {},
   "outputs": [
    {
     "name": "stdout",
     "output_type": "stream",
     "text": [
      "There are 8438 scenes\n"
     ]
    }
   ],
   "source": [
    "run_id = 6\n",
    "\n",
    "cur.execute(\"\"\"SELECT DISTINCT scene_id \\\n",
    "  FROM snapshots \\\n",
    "  WHERE run_id = {} \\\n",
    "  \"\"\".format(run_id))\n",
    "\n",
    "scenes = []\n",
    "for row in cur:\n",
    "    res = dict(row)\n",
    "    scenes.append(res)\n",
    "\n",
    "image_names = {}\n",
    "\n",
    "print('There are {} scenes'.format(len(scenes)))\n"
   ]
  },
  {
   "cell_type": "markdown",
   "metadata": {},
   "source": [
    "### functions for each scene"
   ]
  },
  {
   "cell_type": "code",
   "execution_count": 4,
   "metadata": {
    "collapsed": true
   },
   "outputs": [],
   "source": [
    "# import time\n",
    "voxelmaps.MAX_DISTANCE = 25 # in meters, meaning I care only for point up to 25 meters, in depth for 100 bins, it corresponds to 25 centimers big voxels\n",
    "\n",
    "points_cache = {}\n",
    "\n",
    "def get_base_name(name):\n",
    "    return os.path.basename(os.path.splitext(name)[0])\n",
    "\n",
    "\n",
    "def convert_tiff(in_directory, out_directory, out_name, name):\n",
    "    # throws OSError\n",
    "    out_format = 'jpg'\n",
    "    outfile = os.path.join(out_directory, \"{}.{}\".format(out_name, out_format))\n",
    "    if os.path.exists(outfile):\n",
    "        return outfile\n",
    "    infile = os.path.join(in_directory, name)\n",
    "    im = Image.open(infile)\n",
    "    im = im.convert(mode=\"RGB\")\n",
    "    # print(\"Generating new format for {} to new file {}\".format(name, out_name))\n",
    "    im.save(outfile)\n",
    "    return outfile\n",
    "\n",
    "def generate_frustum_points(proj_matrix):\n",
    "    x_min = -1  # NDC corners\n",
    "    x_max = 1  # NDC corners\n",
    "    y_min = -1  # NDC corners\n",
    "    y_max = 1  # NDC corners\n",
    "    x_range = 240  # X output size of NN\n",
    "    y_range = 160  # Y output size of NN\n",
    "    z_range = 100  # Z output size of NN\n",
    "    z_meters_min = 1.5\n",
    "    z_meters_max = voxelmaps.MAX_DISTANCE\n",
    "    # z min calc\n",
    "    z_min = proj_matrix @ [1, 1, -z_meters_max, 1]\n",
    "    z_min = z_min[2] / z_min[3]\n",
    "    # z max calc\n",
    "    z_max = proj_matrix @ [1, 1, -z_meters_min, 1]\n",
    "    z_max = z_max[2] / z_max[3]\n",
    "\n",
    "    if proj_matrix.tobytes() in points_cache:\n",
    "        return points_cache[proj_matrix.tobytes()].copy(), x_range, y_range, z_range, z_max, z_min\n",
    "\n",
    "    X, Y, Z, W = np.meshgrid(np.linspace(x_min,x_max,x_range), np.linspace(y_min,y_max,y_range), np.linspace(z_min,z_max,z_range), np.linspace(1,2,1))\n",
    "    if linear_view_sampling:\n",
    "        X_view, Y_view, Z_view, W_view = np.meshgrid(np.linspace(1,2,1), np.linspace(1,2,1), np.linspace(-z_meters_max,-z_meters_min,z_range), np.linspace(1,2,1))\n",
    "        view_positions = np.vstack([X_view.ravel(), Y_view.ravel(), Z_view.ravel(), W_view.ravel()])\n",
    "        ndc_positions = proj_matrix @ view_positions\n",
    "        ndc_positions /= ndc_positions[3, :]\n",
    "        ndc_z = ndc_positions[2, :]\n",
    "        Z = np.tile(ndc_z,(x_range, y_range, 1))[:, :, :, np.newaxis]\n",
    "\n",
    "    positions = np.vstack([X.ravel(), Y.ravel(), Z.ravel(), W.ravel()])\n",
    "    \n",
    "    points_cache[proj_matrix.tobytes()] = positions\n",
    "    return positions, x_range, y_range, z_range, z_max, z_min\n",
    "\n",
    "def convert_ndc_pointcloud_to_bool_grid(x_range, y_range, z_range, occupied_ndc_positions, z_max, z_min):\n",
    "    # now I create x X y X z grid with 0s and 1s as grid\n",
    "    # so now I have data in pointcloud. And I need to convert these NDC values\n",
    "    # into indices, so x:[-1, 1] into [0, 239], y:[-1, 1] to [0, 159], \n",
    "    # and z:[z_min, z_max] into [0, 99]\n",
    "    voxelmap_ndc_grid = np.zeros((x_range, y_range, z_range), dtype=np.bool)\n",
    "    vecs = ndcs_to_pixels(occupied_ndc_positions[0:2, :], (y_range, x_range))\n",
    "    vec_y = vecs[0, :]\n",
    "    vec_x = vecs[1, :]\n",
    "    vec_z = ((occupied_ndc_positions[2, :] - z_min) * ((z_range-1) / (z_max - z_min))).astype(np.int32)\n",
    "    #print(z_range)\n",
    "    #print(vec_z)\n",
    "    #print(vec_z.min())\n",
    "    #print(vec_z.max())\n",
    "    voxelmap_ndc_grid[vec_x, vec_y, vec_z] = 1\n",
    "    return voxelmap_ndc_grid\n",
    "\n",
    "def convert_scene_to_ndc_voxelmap(cameras):\n",
    "    # this method is just fucking slow, because of scene_to_voxelmap_with_map\n",
    "    # here I generate points cuboid which will be output of NN.\n",
    "    # these points will be transferred into camera view frustum\n",
    "    # for this frustum, I take voxel values of calculated voxelmap\n",
    "    # I use these voxel values as values for cuboid in NDC, the NN output\n",
    "    #start = time.time()\n",
    "\n",
    "    voxels, values, map_voxel_size, map_obj = scene_to_voxelmap_with_map(cameras, subsampling_size=1e-1)\n",
    "\n",
    "    #end = time.time()\n",
    "    #print('scene to whole voxelmap:', end - start)\n",
    "    #start = time.time()\n",
    "\n",
    "    cam = get_main_image(cameras)\n",
    "    proj_matrix = cam['proj_matrix']\n",
    "    view_matrix = cam['view_matrix']\n",
    "\n",
    "    #end = time.time()\n",
    "    #print('getting main cam and stuff:', end - start)\n",
    "    #start = time.time()\n",
    "\n",
    "    positions, x_range, y_range, z_range, z_max, z_min = generate_frustum_points(proj_matrix)\n",
    "\n",
    "    #end = time.time()\n",
    "    #print('generating frustum points:', end - start)\n",
    "    #start = time.time()\n",
    "\n",
    "    points_view = ndc_to_view(positions, proj_matrix)\n",
    "    points_world = view_to_world(points_view, view_matrix)\n",
    "\n",
    "    #end = time.time()\n",
    "    #print('obtaining world frustum:', end - start)\n",
    "    #start = time.time()\n",
    "\n",
    "    # here I find corresponding voxels for generated points, by obtaining voxelmap reference\n",
    "    voxel_values = map_obj.get_voxels(points_world[0:3, :], np.zeros((points_world.shape[1], 1)))\n",
    "    occupied_ndc_positions = positions[:, voxel_values > 0]\n",
    "\n",
    "    #end = time.time()\n",
    "    #print('obtaining voxelmap in NDC:', end - start)\n",
    "    #start = time.time()\n",
    "    # this converts ndc pointcloud to bool grid\n",
    "    occupied_ndc_grid = convert_ndc_pointcloud_to_bool_grid(x_range, y_range, z_range, occupied_ndc_positions, z_max, z_min)\n",
    "\n",
    "    #end = time.time()\n",
    "    #print('pointcloud to bool grid:', end - start)\n",
    "\n",
    "    return occupied_ndc_grid\n",
    "\n",
    "    \n",
    "def convert_scene_to_img_and_voxelmap(in_directory, out_directory, scene_id):\n",
    "    if 'pbar' in globals() and 'counter' in globals():\n",
    "        global counter\n",
    "        counter += 1\n",
    "        pbar.update(counter)\n",
    "\n",
    "    # start = time.time()\n",
    "    cameras = load_scene_db_data(scene_id)\n",
    "    try:\n",
    "        image_name = get_main_image_name(cameras)\n",
    "        rgb_outfile = convert_tiff(in_directory, out_directory, image_name, image_name+'.tiff')\n",
    "        outfile = os.path.join(out_directory, \"{}.bin\".format(image_name))\n",
    "\n",
    "        image_names[scene_id] = (rgb_outfile, outfile)\n",
    "        if os.path.exists(outfile):\n",
    "            return\n",
    "        \n",
    "        #start = time.time()\n",
    "        occupied_ndc_positions = convert_scene_to_ndc_voxelmap(cameras)\n",
    "        #end = time.time()\n",
    "        #print('time to do whole scene to voxelmap:', end - start)\n",
    "        #start = time.time()\n",
    "        \n",
    "        occupied_ndc_positions.tofile(outfile)\n",
    "        #end = time.time()\n",
    "        #print('time to save:', end - start)\n",
    "        \n",
    "    except (OSError, NoMainImageException) as e:\n",
    "        print('No main image for scene {}, skipping.'.format(scene_id))\n"
   ]
  },
  {
   "cell_type": "markdown",
   "metadata": {},
   "source": [
    "### actually running the extraction"
   ]
  },
  {
   "cell_type": "code",
   "execution_count": null,
   "metadata": {
    "scrolled": false
   },
   "outputs": [
    {
     "name": "stderr",
     "output_type": "stream",
     "text": [
      "  2% 217 |#                                                         |  40.2 B/s"
     ]
    },
    {
     "name": "stdout",
     "output_type": "stream",
     "text": [
      "No main image for scene 592377fd-866a-4d81-bdb0-4e63ae584bab, skipping.\n"
     ]
    },
    {
     "name": "stderr",
     "output_type": "stream",
     "text": [
      "  2% 243 |#                                                         |  41.2 B/s"
     ]
    },
    {
     "name": "stdout",
     "output_type": "stream",
     "text": [
      "No main image for scene c70fe8d1-e628-483e-a27a-6a2c7b862857, skipping.\n"
     ]
    },
    {
     "name": "stderr",
     "output_type": "stream",
     "text": [
      "  3% 333 |##                                                        |  44.8 B/s"
     ]
    }
   ],
   "source": [
    "workers = 10\n",
    "\n",
    "widgets = [progressbar.Percentage(), ' ', progressbar.Counter(), ' ', progressbar.Bar(), ' ',\n",
    "           progressbar.FileTransferSpeed()]\n",
    "\n",
    "pbar = progressbar.ProgressBar(widgets=widgets, maxval=len(scenes)).start()\n",
    "counter = 0\n",
    "\n",
    "Parallel(n_jobs=workers, backend='threading')(delayed(convert_scene_to_img_and_voxelmap)(in_directory, out_directory, i['scene_id']) for i in scenes)\n"
   ]
  },
  {
   "cell_type": "markdown",
   "metadata": {},
   "source": [
    "### generating filenames list"
   ]
  },
  {
   "cell_type": "code",
   "execution_count": null,
   "metadata": {
    "collapsed": true
   },
   "outputs": [],
   "source": [
    "filenames = []\n",
    "for scene_id, (rgb_outfile, outfile) in image_names.items():\n",
    "    rgb_name = os.path.relpath(os.path.join(out_directory, rgb_outfile), start=out_root_directory)\n",
    "    rgb_name = rgb_name.replace('\\\\', '/')\n",
    "    voxelmap_name = os.path.relpath(os.path.join(out_directory, outfile), start=out_root_directory)\n",
    "    voxelmap_name = voxelmap_name.replace('\\\\', '/')\n",
    "    filenames.append([rgb_name, voxelmap_name])\n",
    "\n",
    "    # r je abych nemusel psát zpětná lomítka\n",
    "with open(os.path.join(out_root_directory, 'whole-voxel-gta.csv'), mode='w+', newline='') as f:\n",
    "    csv.writer(f).writerows(filenames)\n",
    "\n",
    "random.shuffle(filenames)\n",
    "\n",
    "train_ratio = 0.8\n",
    "train_threshold = int(train_ratio * len(image_names))\n",
    "train_filenames = filenames[:train_threshold]\n",
    "test_filenames = filenames[train_threshold:]\n",
    "\n",
    "with open(os.path.join(out_root_directory, 'train-voxel-gta.csv'), mode='w+', newline='') as f:\n",
    "    csv.writer(f).writerows(train_filenames)\n",
    "with open(os.path.join(out_root_directory, 'test-voxel-gta.csv'), mode='w+', newline='') as f:\n",
    "    csv.writer(f).writerows(test_filenames)\n"
   ]
  },
  {
   "cell_type": "markdown",
   "metadata": {},
   "source": [
    "### running extraction for one scene"
   ]
  },
  {
   "cell_type": "code",
   "execution_count": null,
   "metadata": {
    "collapsed": true
   },
   "outputs": [],
   "source": [
    "convert_scene_to_img_and_voxelmap(in_directory, out_directory, scenes[20]['scene_id'])"
   ]
  },
  {
   "cell_type": "code",
   "execution_count": null,
   "metadata": {
    "collapsed": true
   },
   "outputs": [],
   "source": [
    "# just some timing experiments\n",
    "for i in range(5):\n",
    "    convert_scene_to_img_and_voxelmap(in_directory, out_directory, scenes[i]['scene_id'])"
   ]
  },
  {
   "cell_type": "code",
   "execution_count": null,
   "metadata": {
    "collapsed": true
   },
   "outputs": [],
   "source": [
    "prev = None\n",
    "for i in range(5):\n",
    "    cameras = load_scene_db_data(scenes[i]['scene_id'])\n",
    "    cam = get_main_image(cameras)\n",
    "    proj_matrix = cam['proj_matrix']\n",
    "    if prev is not None:\n",
    "        print(np.array_equal(prev, proj_matrix))\n",
    "    prev = proj_matrix"
   ]
  },
  {
   "cell_type": "code",
   "execution_count": null,
   "metadata": {
    "collapsed": true
   },
   "outputs": [],
   "source": [
    "prev"
   ]
  },
  {
   "cell_type": "code",
   "execution_count": null,
   "metadata": {
    "collapsed": true
   },
   "outputs": [],
   "source": []
  },
  {
   "cell_type": "code",
   "execution_count": null,
   "metadata": {
    "collapsed": true
   },
   "outputs": [],
   "source": []
  }
 ],
 "metadata": {
  "kernelspec": {
   "display_name": "Python 3",
   "language": "python",
   "name": "python3"
  },
  "language_info": {
   "codemirror_mode": {
    "name": "ipython",
    "version": 3
   },
   "file_extension": ".py",
   "mimetype": "text/x-python",
   "name": "python",
   "nbconvert_exporter": "python",
   "pygments_lexer": "ipython3",
   "version": "3.6.3"
  }
 },
 "nbformat": 4,
 "nbformat_minor": 1
}
