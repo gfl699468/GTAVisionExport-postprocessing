{
 "cells": [
  {
   "cell_type": "code",
   "execution_count": 7,
   "metadata": {},
   "outputs": [],
   "source": [
    "import numpy as np\n",
    "import matplotlib.pyplot as plt\n",
    "import visualization\n",
    "import os\n",
    "from gta_math import points_to_homo, ndc_to_view, construct_proj_matrix, view_to_world, construct_view_matrix\n",
    "from visualization import load_depth\n",
    "import progressbar\n",
    "from pointcloud_to_voxelmap import pointclouds_to_voxelmap\n",
    "from joblib import Parallel, delayed\n",
    "from configparser import ConfigParser\n",
    "from PIL import Image\n",
    "import pickle\n",
    "from voxelmaps import camera_to_pointcloud, load_scene_db_data, get_main_image_name, scene_to_pointcloud, scene_to_voxelmap, NoMainImageException, scene_to_voxelmap_with_map, get_main_image\n",
    "import voxelmaps\n",
    "import time"
   ]
  },
  {
   "cell_type": "code",
   "execution_count": 2,
   "metadata": {
    "collapsed": true
   },
   "outputs": [],
   "source": [
    "ini_file = \"gta-postprocessing.ini\"\n",
    "visualization.multi_page = False\n",
    "visualization.ini_file = ini_file\n",
    "\n",
    "conn = visualization.get_connection()\n",
    "cur = conn.cursor()\n",
    "\n",
    "CONFIG = ConfigParser()\n",
    "CONFIG.read(ini_file)\n",
    "in_directory = CONFIG[\"Images\"][\"Tiff\"]\n",
    "out_directory = CONFIG[\"Images\"][\"MlDatasetVoxel\"]\n",
    "out_root_directory = r'D:\\Projects\\GTAVisionExport_postprocessing'\n"
   ]
  },
  {
   "cell_type": "code",
   "execution_count": 3,
   "metadata": {},
   "outputs": [
    {
     "name": "stdout",
     "output_type": "stream",
     "text": [
      "There are 8438 scenes\n"
     ]
    }
   ],
   "source": [
    "run_id = 6\n",
    "\n",
    "cur.execute(\"\"\"SELECT DISTINCT scene_id \\\n",
    "  FROM snapshots \\\n",
    "  WHERE run_id = {} \\\n",
    "  \"\"\".format(run_id))\n",
    "\n",
    "scenes = []\n",
    "for row in cur:\n",
    "    res = dict(row)\n",
    "    scenes.append(res)\n",
    "\n",
    "image_names = {}\n",
    "\n",
    "print('There are {} scenes'.format(len(scenes)))\n"
   ]
  },
  {
   "cell_type": "markdown",
   "metadata": {},
   "source": [
    "### functions for each scene"
   ]
  },
  {
   "cell_type": "code",
   "execution_count": 15,
   "metadata": {},
   "outputs": [],
   "source": [
    "# import time\n",
    "voxelmaps.MAX_DISTANCE = 30 # in meters, meaning I care only for point up to 20 meters\n",
    "\n",
    "points_cache = {}\n",
    "\n",
    "def get_base_name(name):\n",
    "    return os.path.basename(os.path.splitext(name)[0])\n",
    "\n",
    "\n",
    "def convert_tiff(in_directory, out_directory, out_name, name):\n",
    "    # throws OSError\n",
    "    out_format = 'jpg'\n",
    "    outfile = os.path.join(out_directory, \"{}.{}\".format(out_name, out_format))\n",
    "    if os.path.exists(outfile):\n",
    "        return outfile\n",
    "    infile = os.path.join(in_directory, name)\n",
    "    im = Image.open(infile)\n",
    "    im = im.convert(mode=\"RGB\")\n",
    "    # print(\"Generating new format for {} to new file {}\".format(name, out_name))\n",
    "    im.save(outfile)\n",
    "    return outfile\n",
    "\n",
    "def generate_frustum_points(proj_matrix):\n",
    "    if proj_matrix.tobytes() in points_cache:\n",
    "        return points_cache[proj_matrix.tobytes()].copy()\n",
    "\n",
    "    x_min = -1  # NDC corners\n",
    "    x_max = 1  # NDC corners\n",
    "    y_min = -1  # NDC corners\n",
    "    y_max = 1  # NDC corners\n",
    "    x_range = 240  # X output size of NN\n",
    "    y_range = 160  # Y output size of NN\n",
    "    z_range = 100  # Z output size of NN\n",
    "    z_meters_min = 1.5\n",
    "    z_meters_max = voxelmaps.MAX_DISTANCE\n",
    "    # z min calc\n",
    "    z_min = proj_matrix @ [1, 1, -z_meters_max, 1]\n",
    "    z_min = z_min[2] / z_min[3]\n",
    "    # z max calc\n",
    "    z_max = proj_matrix @ [1, 1, -z_meters_min, 1]\n",
    "    z_max = z_max[2] / z_max[3]\n",
    "    x_bin = (x_max - x_min) / x_range\n",
    "    y_bin = (y_max - y_min) / y_range\n",
    "    z_bin = (z_max - z_min) / z_range\n",
    "    X, Y, Z, W = np.mgrid[x_min:x_max:x_bin, y_min:y_max:y_bin, z_min:z_max:z_bin, 1:2:1]  # W is here as homo coordinate\n",
    "    positions = np.vstack([X.ravel(), Y.ravel(), Z.ravel(), W.ravel()])\n",
    "    \n",
    "    points_cache[proj_matrix.tobytes()] = positions\n",
    "    return positions\n",
    "\n",
    "def convert_scene_to_ndc_voxelmap(cameras):\n",
    "    # here I generate points cuboid which will be output of NN.\n",
    "    # these points will be transferred into camera view frustum\n",
    "    # for this frustum, I take voxel values of calculated voxelmap\n",
    "    # I use these voxel values as values for cuboid in NDC, the NN output\n",
    "    voxels, values, map_voxel_size, map_obj = scene_to_voxelmap_with_map(cameras)\n",
    "    cam = get_main_image(cameras)\n",
    "    proj_matrix = cam['proj_matrix']\n",
    "    view_matrix = cam['view_matrix']\n",
    "    start = time.time()\n",
    "    positions = generate_frustum_points(proj_matrix)\n",
    "    end = time.time()\n",
    "    print('time diff:', end - start)\n",
    "    points_view = ndc_to_view(positions, proj_matrix)\n",
    "    points_world = view_to_world(points_view, view_matrix)\n",
    "    # here I find corresponding voxels for generated points, by obtaining voxelmap reference\n",
    "    voxel_values = map_obj.get_voxels(points_world[0:3, :], np.zeros((points_world.shape[1], 1)))\n",
    "    occupied_ndc_positions = positions[:, voxel_values > 0]\n",
    "    return occupied_ndc_positions\n",
    "\n",
    "    \n",
    "def convert_scene_to_img_and_voxelmap(in_directory, out_directory, scene_id):\n",
    "    if 'pbar' in globals() and 'counter' in globals():\n",
    "        global counter\n",
    "        counter += 1\n",
    "        pbar.update(counter)\n",
    "\n",
    "    # start = time.time()\n",
    "    cameras = load_scene_db_data(scene_id)\n",
    "    try:\n",
    "        image_name = get_main_image_name(cameras)\n",
    "        rgb_outfile = convert_tiff(in_directory, out_directory, image_name, image_name+'.tiff')\n",
    "        outfile = os.path.join(out_directory, \"{}.bin\".format(image_name))\n",
    "\n",
    "        if os.path.exists(outfile):\n",
    "            return\n",
    "        \n",
    "        occupied_ndc_positions = convert_scene_to_ndc_voxelmap(cameras)\n",
    "        occupied_ndc_positions.tofile(outfile)\n",
    "        \n",
    "        image_names[scene_id] = (rgb_outfile, outfile)\n",
    "    except (OSError, NoMainImageException) as e:\n",
    "        print('No main image for scene {}, skipping.'.format(scene_id))\n"
   ]
  },
  {
   "cell_type": "markdown",
   "metadata": {},
   "source": [
    "### actually running the extraction"
   ]
  },
  {
   "cell_type": "code",
   "execution_count": null,
   "metadata": {
    "scrolled": false
   },
   "outputs": [
    {
     "name": "stderr",
     "output_type": "stream",
     "text": [
      "  0% 13 |                                                           | 121.5 B/s"
     ]
    },
    {
     "name": "stdout",
     "output_type": "stream",
     "text": [
      "time diff: 0.2249898910522461\n"
     ]
    }
   ],
   "source": [
    "workers = 10\n",
    "\n",
    "widgets = [progressbar.Percentage(), ' ', progressbar.Counter(), ' ', progressbar.Bar(), ' ',\n",
    "           progressbar.FileTransferSpeed()]\n",
    "\n",
    "pbar = progressbar.ProgressBar(widgets=widgets, maxval=len(scenes)).start()\n",
    "counter = 0\n",
    "\n",
    "Parallel(n_jobs=workers, backend='threading')(delayed(convert_scene_to_img_and_voxelmap)(in_directory, out_directory, i['scene_id']) for i in scenes)\n"
   ]
  },
  {
   "cell_type": "markdown",
   "metadata": {},
   "source": [
    "### generating filenames list"
   ]
  },
  {
   "cell_type": "code",
   "execution_count": null,
   "metadata": {},
   "outputs": [],
   "source": [
    "filenames = []\n",
    "for scene_id, (rgb_outfile, outfile) in image_names.items():\n",
    "    rgb_name = os.path.relpath(os.path.join(out_directory, rgb_outfile), start=out_root_directory)\n",
    "    rgb_name = rgb_name.replace('\\\\', '/')\n",
    "    voxelmap_name = os.path.relpath(os.path.join(out_directory, outfile), start=out_root_directory)\n",
    "    voxelmap_name = depth_name.replace('\\\\', '/')\n",
    "    filenames.append([rgb_name, depth_name])\n",
    "\n",
    "    # r je abych nemusel psát zpětná lomítka\n",
    "with open(os.path.join(out_root_directory, 'whole-voxel-gta.csv'), mode='w+', newline='') as f:\n",
    "    csv.writer(f).writerows(filenames)\n",
    "\n",
    "random.shuffle(filenames)\n",
    "\n",
    "train_ratio = 0.8\n",
    "train_threshold = int(train_ratio * len(image_names))\n",
    "train_filenames = filenames[:train_threshold]\n",
    "test_filenames = filenames[train_threshold:]\n",
    "\n",
    "with open(os.path.join(out_root_directory, 'train-voxel-gta.csv'), mode='w+', newline='') as f:\n",
    "    csv.writer(f).writerows(train_filenames)\n",
    "with open(os.path.join(out_root_directory, 'test-voxel-gta.csv'), mode='w+', newline='') as f:\n",
    "    csv.writer(f).writerows(test_filenames)\n"
   ]
  },
  {
   "cell_type": "markdown",
   "metadata": {},
   "source": [
    "### running extraction for one scene"
   ]
  },
  {
   "cell_type": "code",
   "execution_count": 16,
   "metadata": {},
   "outputs": [
    {
     "name": "stderr",
     "output_type": "stream",
     "text": [
      "\r",
      "                                                                               \r",
      "\r",
      "  0% 26 |                                                           |  30.6 s/B"
     ]
    },
    {
     "name": "stdout",
     "output_type": "stream",
     "text": [
      "time diff: 0.19000768661499023\n"
     ]
    },
    {
     "name": "stderr",
     "output_type": "stream",
     "text": [
      "C:\\ProgramData\\Anaconda3\\lib\\site-packages\\ipykernel_launcher.py:68: RuntimeWarning: invalid value encountered in greater\n"
     ]
    }
   ],
   "source": [
    "convert_scene_to_img_and_voxelmap(in_directory, out_directory, scenes[0]['scene_id'])"
   ]
  },
  {
   "cell_type": "code",
   "execution_count": 17,
   "metadata": {},
   "outputs": [
    {
     "name": "stderr",
     "output_type": "stream",
     "text": [
      "\r",
      "                                                                               \r",
      "\r",
      "  0% 27 |                                                           |  30.1 s/B"
     ]
    },
    {
     "name": "stdout",
     "output_type": "stream",
     "text": [
      "time diff: 0.03800010681152344\n"
     ]
    },
    {
     "name": "stderr",
     "output_type": "stream",
     "text": [
      "C:\\ProgramData\\Anaconda3\\lib\\site-packages\\ipykernel_launcher.py:68: RuntimeWarning: invalid value encountered in greater\n",
      "\r",
      "                                                                               \r",
      "\r",
      "  0% 28 |                                                           |  29.4 s/B"
     ]
    },
    {
     "name": "stdout",
     "output_type": "stream",
     "text": [
      "time diff: 0.03700137138366699\n"
     ]
    },
    {
     "name": "stderr",
     "output_type": "stream",
     "text": [
      "\r",
      "                                                                               \r",
      "\r",
      "  0% 29 |                                                           |  28.8 s/B"
     ]
    },
    {
     "name": "stdout",
     "output_type": "stream",
     "text": [
      "time diff: 0.0390017032623291\n"
     ]
    },
    {
     "name": "stderr",
     "output_type": "stream",
     "text": [
      "\r",
      "                                                                               \r",
      "\r",
      "  0% 30 |                                                           |  28.2 s/B"
     ]
    },
    {
     "name": "stdout",
     "output_type": "stream",
     "text": [
      "time diff: 0.037989139556884766\n"
     ]
    },
    {
     "name": "stderr",
     "output_type": "stream",
     "text": [
      "\r",
      "                                                                               \r",
      "\r",
      "  0% 31 |                                                           |  27.6 s/B"
     ]
    },
    {
     "name": "stdout",
     "output_type": "stream",
     "text": [
      "time diff: 0.038001060485839844\n"
     ]
    }
   ],
   "source": [
    "# just some timing experiments\n",
    "for i in range(5):\n",
    "    convert_scene_to_img_and_voxelmap(in_directory, out_directory, scenes[i]['scene_id'])"
   ]
  },
  {
   "cell_type": "code",
   "execution_count": 12,
   "metadata": {},
   "outputs": [
    {
     "name": "stdout",
     "output_type": "stream",
     "text": [
      "True\n",
      "True\n",
      "True\n",
      "True\n"
     ]
    }
   ],
   "source": [
    "prev = None\n",
    "for i in range(5):\n",
    "    cameras = load_scene_db_data(scenes[i]['scene_id'])\n",
    "    cam = get_main_image(cameras)\n",
    "    proj_matrix = cam['proj_matrix']\n",
    "    if prev is not None:\n",
    "        print(np.array_equal(prev, proj_matrix))\n",
    "    prev = proj_matrix"
   ]
  },
  {
   "cell_type": "code",
   "execution_count": 10,
   "metadata": {},
   "outputs": [
    {
     "ename": "NameError",
     "evalue": "name 'prev' is not defined",
     "output_type": "error",
     "traceback": [
      "\u001b[1;31m---------------------------------------------------------------------------\u001b[0m",
      "\u001b[1;31mNameError\u001b[0m                                 Traceback (most recent call last)",
      "\u001b[1;32m<ipython-input-10-889e0a424e47>\u001b[0m in \u001b[0;36m<module>\u001b[1;34m()\u001b[0m\n\u001b[1;32m----> 1\u001b[1;33m \u001b[0mprev\u001b[0m\u001b[1;33m\u001b[0m\u001b[0m\n\u001b[0m",
      "\u001b[1;31mNameError\u001b[0m: name 'prev' is not defined"
     ]
    }
   ],
   "source": [
    "prev"
   ]
  },
  {
   "cell_type": "code",
   "execution_count": null,
   "metadata": {
    "collapsed": true
   },
   "outputs": [],
   "source": []
  }
 ],
 "metadata": {
  "kernelspec": {
   "display_name": "Python 3",
   "language": "python",
   "name": "python3"
  },
  "language_info": {
   "codemirror_mode": {
    "name": "ipython",
    "version": 3
   },
   "file_extension": ".py",
   "mimetype": "text/x-python",
   "name": "python",
   "nbconvert_exporter": "python",
   "pygments_lexer": "ipython3",
   "version": "3.6.3"
  }
 },
 "nbformat": 4,
 "nbformat_minor": 1
}
