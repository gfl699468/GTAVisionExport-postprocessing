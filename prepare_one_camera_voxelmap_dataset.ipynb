{
 "cells": [
  {
   "cell_type": "code",
   "execution_count": 18,
   "metadata": {},
   "outputs": [],
   "source": [
    "import numpy as np\n",
    "import matplotlib.pyplot as plt\n",
    "import visualization\n",
    "import os\n",
    "from gta_math import points_to_homo, ndc_to_view, construct_proj_matrix, view_to_world, construct_view_matrix, ndcs_to_pixels\n",
    "from visualization import load_depth\n",
    "import progressbar\n",
    "from pointcloud_to_voxelmap import pointclouds_to_voxelmap\n",
    "from joblib import Parallel, delayed\n",
    "from configparser import ConfigParser\n",
    "from PIL import Image\n",
    "import pickle\n",
    "from voxelmaps import camera_to_pointcloud, load_scene_db_data, get_main_image_name, scene_to_pointcloud, scene_to_voxelmap, NoMainImageException, scene_to_voxelmap_with_map, get_main_image\n",
    "import voxelmaps\n",
    "import time"
   ]
  },
  {
   "cell_type": "code",
   "execution_count": 2,
   "metadata": {
    "collapsed": true
   },
   "outputs": [],
   "source": [
    "ini_file = \"gta-postprocessing.ini\"\n",
    "visualization.multi_page = False\n",
    "visualization.ini_file = ini_file\n",
    "\n",
    "conn = visualization.get_connection()\n",
    "cur = conn.cursor()\n",
    "\n",
    "CONFIG = ConfigParser()\n",
    "CONFIG.read(ini_file)\n",
    "in_directory = CONFIG[\"Images\"][\"Tiff\"]\n",
    "out_directory = CONFIG[\"Images\"][\"MlDatasetVoxel\"]\n",
    "out_root_directory = r'D:\\Projects\\GTAVisionExport_postprocessing'\n"
   ]
  },
  {
   "cell_type": "code",
   "execution_count": 3,
   "metadata": {},
   "outputs": [
    {
     "name": "stdout",
     "output_type": "stream",
     "text": [
      "There are 8438 scenes\n"
     ]
    }
   ],
   "source": [
    "run_id = 6\n",
    "\n",
    "cur.execute(\"\"\"SELECT DISTINCT scene_id \\\n",
    "  FROM snapshots \\\n",
    "  WHERE run_id = {} \\\n",
    "  \"\"\".format(run_id))\n",
    "\n",
    "scenes = []\n",
    "for row in cur:\n",
    "    res = dict(row)\n",
    "    scenes.append(res)\n",
    "\n",
    "image_names = {}\n",
    "\n",
    "print('There are {} scenes'.format(len(scenes)))\n"
   ]
  },
  {
   "cell_type": "markdown",
   "metadata": {},
   "source": [
    "### functions for each scene"
   ]
  },
  {
   "cell_type": "code",
   "execution_count": 16,
   "metadata": {},
   "outputs": [],
   "source": [
    "# import time\n",
    "voxelmaps.MAX_DISTANCE = 30 # in meters, meaning I care only for point up to 20 meters\n",
    "\n",
    "points_cache = {}\n",
    "\n",
    "def get_base_name(name):\n",
    "    return os.path.basename(os.path.splitext(name)[0])\n",
    "\n",
    "\n",
    "def convert_tiff(in_directory, out_directory, out_name, name):\n",
    "    # throws OSError\n",
    "    out_format = 'jpg'\n",
    "    outfile = os.path.join(out_directory, \"{}.{}\".format(out_name, out_format))\n",
    "    if os.path.exists(outfile):\n",
    "        return outfile\n",
    "    infile = os.path.join(in_directory, name)\n",
    "    im = Image.open(infile)\n",
    "    im = im.convert(mode=\"RGB\")\n",
    "    # print(\"Generating new format for {} to new file {}\".format(name, out_name))\n",
    "    im.save(outfile)\n",
    "    return outfile\n",
    "\n",
    "def generate_frustum_points(proj_matrix):\n",
    "    x_min = -1  # NDC corners\n",
    "    x_max = 1  # NDC corners\n",
    "    y_min = -1  # NDC corners\n",
    "    y_max = 1  # NDC corners\n",
    "    x_range = 240  # X output size of NN\n",
    "    y_range = 160  # Y output size of NN\n",
    "    z_range = 100  # Z output size of NN\n",
    "    z_meters_min = 1.5\n",
    "    z_meters_max = voxelmaps.MAX_DISTANCE\n",
    "    # z min calc\n",
    "    z_min = proj_matrix @ [1, 1, -z_meters_max, 1]\n",
    "    z_min = z_min[2] / z_min[3]\n",
    "    # z max calc\n",
    "    z_max = proj_matrix @ [1, 1, -z_meters_min, 1]\n",
    "    z_max = z_max[2] / z_max[3]\n",
    "\n",
    "    x_bin = (x_max - x_min) / x_range\n",
    "    y_bin = (y_max - y_min) / y_range\n",
    "    z_bin = (z_max - z_min) / z_range\n",
    "\n",
    "    if proj_matrix.tobytes() in points_cache:\n",
    "        return points_cache[proj_matrix.tobytes()].copy(), x_range, y_range, z_range, z_bin, z_min\n",
    "\n",
    "    X, Y, Z, W = np.mgrid[x_min:x_max:x_bin, y_min:y_max:y_bin, z_min:z_max:z_bin, 1:2:1]  # W is here as homo coordinate\n",
    "    positions = np.vstack([X.ravel(), Y.ravel(), Z.ravel(), W.ravel()])\n",
    "    \n",
    "    points_cache[proj_matrix.tobytes()] = positions\n",
    "    return positions, x_range, y_range, z_range, z_bin, z_min\n",
    "\n",
    "def convert_ndc_pointcloud_to_bool_grid(x_range, y_range, z_range, occupied_ndc_positions, z_bin, z_min):\n",
    "    # now I create x X y X z grid with 0s and 1s as grid\n",
    "    # so now I have data in pointcloud. And I need to convert these NDC values\n",
    "    # into indices, so x:[-1, 1] into [0, 239], y:[-1, 1] to [0, 159], \n",
    "    # and z:[z_min, z_max] into [0, 99]\n",
    "    voxelmap_ndc_grid = np.zeros((x_range, y_range, z_range), dtype=np.bool)\n",
    "    vecs = ndcs_to_pixels(occupied_ndc_positions[0:2, :], (y_range, x_range))\n",
    "    vec_y = vecs[0, :]\n",
    "    vec_x = vecs[1, :]\n",
    "    vec_z = ((occupied_ndc_positions[2, :] - z_min) / z_bin).astype(np.int32)\n",
    "    voxelmap_ndc_grid[vec_x, vec_y, vec_z] = 1\n",
    "    return voxelmap_ndc_grid\n",
    "\n",
    "def convert_scene_to_ndc_voxelmap(cameras):\n",
    "    # this method is just fucking slow, because of scene_to_voxelmap_with_map\n",
    "    # here I generate points cuboid which will be output of NN.\n",
    "    # these points will be transferred into camera view frustum\n",
    "    # for this frustum, I take voxel values of calculated voxelmap\n",
    "    # I use these voxel values as values for cuboid in NDC, the NN output\n",
    "    start = time.time()\n",
    "\n",
    "    voxels, values, map_voxel_size, map_obj = scene_to_voxelmap_with_map(cameras)\n",
    "\n",
    "    end = time.time()\n",
    "    print('scene to whole voxelmap:', end - start)\n",
    "    start = time.time()\n",
    "\n",
    "    cam = get_main_image(cameras)\n",
    "    proj_matrix = cam['proj_matrix']\n",
    "    view_matrix = cam['view_matrix']\n",
    "\n",
    "    end = time.time()\n",
    "    print('getting main cam and stuff:', end - start)\n",
    "    start = time.time()\n",
    "\n",
    "    positions, x_range, y_range, z_range, z_bin, z_min = generate_frustum_points(proj_matrix)\n",
    "\n",
    "    end = time.time()\n",
    "    print('generating frustum points:', end - start)\n",
    "    start = time.time()\n",
    "\n",
    "    points_view = ndc_to_view(positions, proj_matrix)\n",
    "    points_world = view_to_world(points_view, view_matrix)\n",
    "\n",
    "    end = time.time()\n",
    "    print('obtaining world frustum:', end - start)\n",
    "    start = time.time()\n",
    "\n",
    "    # here I find corresponding voxels for generated points, by obtaining voxelmap reference\n",
    "    voxel_values = map_obj.get_voxels(points_world[0:3, :], np.zeros((points_world.shape[1], 1)))\n",
    "    occupied_ndc_positions = positions[:, voxel_values > 0]\n",
    "\n",
    "    end = time.time()\n",
    "    print('obtaining voxelmap in NDC:', end - start)\n",
    "    start = time.time()\n",
    "    # this converts ndc pointcloud to bool grid\n",
    "    occupied_ndc_grid = convert_ndc_pointcloud_to_bool_grid(x_range, y_range, z_range, occupied_ndc_positions, z_bin, z_min)\n",
    "\n",
    "    end = time.time()\n",
    "    print('pointcloud to bool grid:', end - start)\n",
    "\n",
    "    return occupied_ndc_grid\n",
    "\n",
    "    \n",
    "def convert_scene_to_img_and_voxelmap(in_directory, out_directory, scene_id):\n",
    "    if 'pbar' in globals() and 'counter' in globals():\n",
    "        global counter\n",
    "        counter += 1\n",
    "        pbar.update(counter)\n",
    "\n",
    "    # start = time.time()\n",
    "    cameras = load_scene_db_data(scene_id)\n",
    "    try:\n",
    "        image_name = get_main_image_name(cameras)\n",
    "        rgb_outfile = convert_tiff(in_directory, out_directory, image_name, image_name+'.tiff')\n",
    "        outfile = os.path.join(out_directory, \"{}.bin\".format(image_name))\n",
    "\n",
    "        if os.path.exists(outfile):\n",
    "            return\n",
    "        \n",
    "        #start = time.time()\n",
    "        occupied_ndc_positions = convert_scene_to_ndc_voxelmap(cameras)\n",
    "        #end = time.time()\n",
    "        #print('time to do whole scene to voxelmap:', end - start)\n",
    "        #start = time.time()\n",
    "        \n",
    "        occupied_ndc_positions.tofile(outfile)\n",
    "        #end = time.time()\n",
    "        #print('time to save:', end - start)\n",
    "        \n",
    "        image_names[scene_id] = (rgb_outfile, outfile)\n",
    "    except (OSError, NoMainImageException) as e:\n",
    "        print('No main image for scene {}, skipping.'.format(scene_id))\n"
   ]
  },
  {
   "cell_type": "markdown",
   "metadata": {},
   "source": [
    "### actually running the extraction"
   ]
  },
  {
   "cell_type": "code",
   "execution_count": 5,
   "metadata": {
    "scrolled": true
   },
   "outputs": [
    {
     "name": "stderr",
     "output_type": "stream",
     "text": [
      "  0% 11 |                                                           |  71.9 B/sC:\\ProgramData\\Anaconda3\\lib\\site-packages\\ipykernel_launcher.py:88: RuntimeWarning: invalid value encountered in greater\n"
     ]
    },
    {
     "name": "stdout",
     "output_type": "stream",
     "text": [
      "time to do whole scene to voxelmap: 45.40229940414429\n"
     ]
    },
    {
     "name": "stderr",
     "output_type": "stream",
     "text": [
      "\r",
      "                                                                               \r",
      "\r",
      "  0% 16 |                                                           |   0.3 B/s"
     ]
    },
    {
     "name": "stdout",
     "output_type": "stream",
     "text": [
      "time to do whole scene to voxelmap:time to save:time to do whole scene to voxelmap:  57.48637008666992 65.94342851638794\n",
      "3.898021936416626\n",
      "\n"
     ]
    },
    {
     "name": "stderr",
     "output_type": "stream",
     "text": [
      "\r",
      "                                                                               \r",
      "\r",
      "  0% 17 |                                                           |   0.2 B/s"
     ]
    },
    {
     "name": "stdout",
     "output_type": "stream",
     "text": [
      "time to do whole scene to voxelmap:time to save:time to save:  9.045057535171509 4.916018962860107\n",
      "70.86445999145508\n",
      "\n"
     ]
    },
    {
     "name": "stderr",
     "output_type": "stream",
     "text": [
      "\r",
      "                                                                               \r",
      "\r",
      "  0% 19 |                                                           |   0.2 B/s"
     ]
    },
    {
     "name": "stdout",
     "output_type": "stream",
     "text": [
      "time to save: 7.838059425354004\n",
      "time to do whole scene to voxelmap: 93.36960959434509\n",
      "time to save:"
     ]
    },
    {
     "name": "stderr",
     "output_type": "stream",
     "text": [
      "  0% 21 |                                                           |   0.2 B/s"
     ]
    },
    {
     "name": "stdout",
     "output_type": "stream",
     "text": [
      " 0.19901561737060547\n",
      "time to do whole scene to voxelmap: 96.62462425231934\n",
      "time to save: 0.21100521087646484\n",
      "time to do whole scene to voxelmap: time to do whole scene to voxelmap:98.26663732528687\n",
      " 98.12563872337341\n",
      "time to do whole scene to voxelmap: 98.32964420318604\n",
      "time to do whole scene to voxelmap:time to save: 98.53264236450195\n",
      " 0.2310187816619873time to save:\n",
      " 0.17501354217529297\n",
      "time to save:"
     ]
    },
    {
     "name": "stderr",
     "output_type": "stream",
     "text": [
      "  0% 25 |                                                           |   0.3 B/s"
     ]
    },
    {
     "name": "stdout",
     "output_type": "stream",
     "text": [
      " 0.14800596237182617\n",
      "time to save: 0.11598086357116699\n",
      "time to do whole scene to voxelmap: 51.26532793045044\n"
     ]
    },
    {
     "name": "stderr",
     "output_type": "stream",
     "text": [
      "\r",
      "                                                                               \r",
      "\r",
      "  0% 26 |                                                           |   0.2 B/s"
     ]
    },
    {
     "name": "stdout",
     "output_type": "stream",
     "text": [
      "time to do whole scene to voxelmap:time to save: 1.4590163230895996 \n",
      "53.3903443813324\n"
     ]
    },
    {
     "name": "stderr",
     "output_type": "stream",
     "text": [
      "\r",
      "                                                                               \r",
      "\r",
      "  0% 27 |                                                           |   0.2 B/s"
     ]
    },
    {
     "name": "stdout",
     "output_type": "stream",
     "text": [
      "time to save: 2.9030187129974365\n"
     ]
    },
    {
     "name": "stderr",
     "output_type": "stream",
     "text": [
      "\r",
      "                                                                               \r",
      "\r",
      "  0% 28 |                                                           |   0.2 B/s"
     ]
    },
    {
     "name": "stdout",
     "output_type": "stream",
     "text": [
      "time to do whole scene to voxelmap:time to do whole scene to voxelmap: 60.91639471054077 \n",
      "60.531386852264404\n",
      "time to save: 0.0740058422088623\n",
      "time to save: 0.12900519371032715\n",
      "time to do whole scene to voxelmap: 63.539411544799805\n",
      "time to save: 0.11299562454223633\n"
     ]
    },
    {
     "name": "stderr",
     "output_type": "stream",
     "text": [
      "\r",
      "                                                                               \r",
      "\r",
      "  0% 30 |                                                           |   0.2 B/s"
     ]
    },
    {
     "name": "stdout",
     "output_type": "stream",
     "text": [
      "time to do whole scene to voxelmap: 72.66947484016418\n"
     ]
    },
    {
     "name": "stderr",
     "output_type": "stream",
     "text": [
      "\r",
      "                                                                               \r",
      "\r",
      "  0% 31 |                                                           |   0.2 B/s"
     ]
    },
    {
     "name": "stdout",
     "output_type": "stream",
     "text": [
      "time to save: 1.8780083656311035\n",
      "time to do whole scene to voxelmap: 95.38361883163452\n"
     ]
    },
    {
     "name": "stderr",
     "output_type": "stream",
     "text": [
      "\r",
      "                                                                               \r",
      "\r",
      "  0% 32 |                                                           |   0.2 B/s"
     ]
    },
    {
     "name": "stdout",
     "output_type": "stream",
     "text": [
      "time to save: 0.2770085334777832\n",
      "time to do whole scene to voxelmap: 95.94862222671509\n",
      "time to save:time to do whole scene to voxelmap: 96.34762501716614\n",
      " 0.1799933910369873\n"
     ]
    },
    {
     "name": "stderr",
     "output_type": "stream",
     "text": [
      "\r",
      "                                                                               \r",
      "\r",
      "  0% 33 |                                                           |   0.2 B/s"
     ]
    },
    {
     "name": "stdout",
     "output_type": "stream",
     "text": [
      "time to save: 0.13300204277038574\n"
     ]
    },
    {
     "name": "stderr",
     "output_type": "stream",
     "text": [
      "\r",
      "                                                                               \r",
      "\r",
      "  0% 35 |                                                           |   0.2 B/s"
     ]
    },
    {
     "name": "stdout",
     "output_type": "stream",
     "text": [
      "time to do whole scene to voxelmap: 97.12862610816956\n",
      "time to save: 0.1510014533996582\n"
     ]
    },
    {
     "ename": "KeyboardInterrupt",
     "evalue": "",
     "output_type": "error",
     "traceback": [
      "\u001b[1;31m---------------------------------------------------------------------------\u001b[0m",
      "\u001b[1;31mKeyboardInterrupt\u001b[0m                         Traceback (most recent call last)",
      "\u001b[1;32m<ipython-input-5-8f65a9186758>\u001b[0m in \u001b[0;36m<module>\u001b[1;34m()\u001b[0m\n\u001b[0;32m      7\u001b[0m \u001b[0mcounter\u001b[0m \u001b[1;33m=\u001b[0m \u001b[1;36m0\u001b[0m\u001b[1;33m\u001b[0m\u001b[0m\n\u001b[0;32m      8\u001b[0m \u001b[1;33m\u001b[0m\u001b[0m\n\u001b[1;32m----> 9\u001b[1;33m \u001b[0mParallel\u001b[0m\u001b[1;33m(\u001b[0m\u001b[0mn_jobs\u001b[0m\u001b[1;33m=\u001b[0m\u001b[0mworkers\u001b[0m\u001b[1;33m,\u001b[0m \u001b[0mbackend\u001b[0m\u001b[1;33m=\u001b[0m\u001b[1;34m'threading'\u001b[0m\u001b[1;33m)\u001b[0m\u001b[1;33m(\u001b[0m\u001b[0mdelayed\u001b[0m\u001b[1;33m(\u001b[0m\u001b[0mconvert_scene_to_img_and_voxelmap\u001b[0m\u001b[1;33m)\u001b[0m\u001b[1;33m(\u001b[0m\u001b[0min_directory\u001b[0m\u001b[1;33m,\u001b[0m \u001b[0mout_directory\u001b[0m\u001b[1;33m,\u001b[0m \u001b[0mi\u001b[0m\u001b[1;33m[\u001b[0m\u001b[1;34m'scene_id'\u001b[0m\u001b[1;33m]\u001b[0m\u001b[1;33m)\u001b[0m \u001b[1;32mfor\u001b[0m \u001b[0mi\u001b[0m \u001b[1;32min\u001b[0m \u001b[0mscenes\u001b[0m\u001b[1;33m)\u001b[0m\u001b[1;33m\u001b[0m\u001b[0m\n\u001b[0m",
      "\u001b[1;32mC:\\ProgramData\\Anaconda3\\lib\\site-packages\\joblib\\parallel.py\u001b[0m in \u001b[0;36m__call__\u001b[1;34m(self, iterable)\u001b[0m\n\u001b[0;32m    787\u001b[0m                 \u001b[1;31m# consumption.\u001b[0m\u001b[1;33m\u001b[0m\u001b[1;33m\u001b[0m\u001b[0m\n\u001b[0;32m    788\u001b[0m                 \u001b[0mself\u001b[0m\u001b[1;33m.\u001b[0m\u001b[0m_iterating\u001b[0m \u001b[1;33m=\u001b[0m \u001b[1;32mFalse\u001b[0m\u001b[1;33m\u001b[0m\u001b[0m\n\u001b[1;32m--> 789\u001b[1;33m             \u001b[0mself\u001b[0m\u001b[1;33m.\u001b[0m\u001b[0mretrieve\u001b[0m\u001b[1;33m(\u001b[0m\u001b[1;33m)\u001b[0m\u001b[1;33m\u001b[0m\u001b[0m\n\u001b[0m\u001b[0;32m    790\u001b[0m             \u001b[1;31m# Make sure that we get a last message telling us we are done\u001b[0m\u001b[1;33m\u001b[0m\u001b[1;33m\u001b[0m\u001b[0m\n\u001b[0;32m    791\u001b[0m             \u001b[0melapsed_time\u001b[0m \u001b[1;33m=\u001b[0m \u001b[0mtime\u001b[0m\u001b[1;33m.\u001b[0m\u001b[0mtime\u001b[0m\u001b[1;33m(\u001b[0m\u001b[1;33m)\u001b[0m \u001b[1;33m-\u001b[0m \u001b[0mself\u001b[0m\u001b[1;33m.\u001b[0m\u001b[0m_start_time\u001b[0m\u001b[1;33m\u001b[0m\u001b[0m\n",
      "\u001b[1;32mC:\\ProgramData\\Anaconda3\\lib\\site-packages\\joblib\\parallel.py\u001b[0m in \u001b[0;36mretrieve\u001b[1;34m(self)\u001b[0m\n\u001b[0;32m    697\u001b[0m             \u001b[1;32mtry\u001b[0m\u001b[1;33m:\u001b[0m\u001b[1;33m\u001b[0m\u001b[0m\n\u001b[0;32m    698\u001b[0m                 \u001b[1;32mif\u001b[0m \u001b[0mgetattr\u001b[0m\u001b[1;33m(\u001b[0m\u001b[0mself\u001b[0m\u001b[1;33m.\u001b[0m\u001b[0m_backend\u001b[0m\u001b[1;33m,\u001b[0m \u001b[1;34m'supports_timeout'\u001b[0m\u001b[1;33m,\u001b[0m \u001b[1;32mFalse\u001b[0m\u001b[1;33m)\u001b[0m\u001b[1;33m:\u001b[0m\u001b[1;33m\u001b[0m\u001b[0m\n\u001b[1;32m--> 699\u001b[1;33m                     \u001b[0mself\u001b[0m\u001b[1;33m.\u001b[0m\u001b[0m_output\u001b[0m\u001b[1;33m.\u001b[0m\u001b[0mextend\u001b[0m\u001b[1;33m(\u001b[0m\u001b[0mjob\u001b[0m\u001b[1;33m.\u001b[0m\u001b[0mget\u001b[0m\u001b[1;33m(\u001b[0m\u001b[0mtimeout\u001b[0m\u001b[1;33m=\u001b[0m\u001b[0mself\u001b[0m\u001b[1;33m.\u001b[0m\u001b[0mtimeout\u001b[0m\u001b[1;33m)\u001b[0m\u001b[1;33m)\u001b[0m\u001b[1;33m\u001b[0m\u001b[0m\n\u001b[0m\u001b[0;32m    700\u001b[0m                 \u001b[1;32melse\u001b[0m\u001b[1;33m:\u001b[0m\u001b[1;33m\u001b[0m\u001b[0m\n\u001b[0;32m    701\u001b[0m                     \u001b[0mself\u001b[0m\u001b[1;33m.\u001b[0m\u001b[0m_output\u001b[0m\u001b[1;33m.\u001b[0m\u001b[0mextend\u001b[0m\u001b[1;33m(\u001b[0m\u001b[0mjob\u001b[0m\u001b[1;33m.\u001b[0m\u001b[0mget\u001b[0m\u001b[1;33m(\u001b[0m\u001b[1;33m)\u001b[0m\u001b[1;33m)\u001b[0m\u001b[1;33m\u001b[0m\u001b[0m\n",
      "\u001b[1;32mC:\\ProgramData\\Anaconda3\\lib\\multiprocessing\\pool.py\u001b[0m in \u001b[0;36mget\u001b[1;34m(self, timeout)\u001b[0m\n\u001b[0;32m    636\u001b[0m \u001b[1;33m\u001b[0m\u001b[0m\n\u001b[0;32m    637\u001b[0m     \u001b[1;32mdef\u001b[0m \u001b[0mget\u001b[0m\u001b[1;33m(\u001b[0m\u001b[0mself\u001b[0m\u001b[1;33m,\u001b[0m \u001b[0mtimeout\u001b[0m\u001b[1;33m=\u001b[0m\u001b[1;32mNone\u001b[0m\u001b[1;33m)\u001b[0m\u001b[1;33m:\u001b[0m\u001b[1;33m\u001b[0m\u001b[0m\n\u001b[1;32m--> 638\u001b[1;33m         \u001b[0mself\u001b[0m\u001b[1;33m.\u001b[0m\u001b[0mwait\u001b[0m\u001b[1;33m(\u001b[0m\u001b[0mtimeout\u001b[0m\u001b[1;33m)\u001b[0m\u001b[1;33m\u001b[0m\u001b[0m\n\u001b[0m\u001b[0;32m    639\u001b[0m         \u001b[1;32mif\u001b[0m \u001b[1;32mnot\u001b[0m \u001b[0mself\u001b[0m\u001b[1;33m.\u001b[0m\u001b[0mready\u001b[0m\u001b[1;33m(\u001b[0m\u001b[1;33m)\u001b[0m\u001b[1;33m:\u001b[0m\u001b[1;33m\u001b[0m\u001b[0m\n\u001b[0;32m    640\u001b[0m             \u001b[1;32mraise\u001b[0m \u001b[0mTimeoutError\u001b[0m\u001b[1;33m\u001b[0m\u001b[0m\n",
      "\u001b[1;32mC:\\ProgramData\\Anaconda3\\lib\\multiprocessing\\pool.py\u001b[0m in \u001b[0;36mwait\u001b[1;34m(self, timeout)\u001b[0m\n\u001b[0;32m    633\u001b[0m \u001b[1;33m\u001b[0m\u001b[0m\n\u001b[0;32m    634\u001b[0m     \u001b[1;32mdef\u001b[0m \u001b[0mwait\u001b[0m\u001b[1;33m(\u001b[0m\u001b[0mself\u001b[0m\u001b[1;33m,\u001b[0m \u001b[0mtimeout\u001b[0m\u001b[1;33m=\u001b[0m\u001b[1;32mNone\u001b[0m\u001b[1;33m)\u001b[0m\u001b[1;33m:\u001b[0m\u001b[1;33m\u001b[0m\u001b[0m\n\u001b[1;32m--> 635\u001b[1;33m         \u001b[0mself\u001b[0m\u001b[1;33m.\u001b[0m\u001b[0m_event\u001b[0m\u001b[1;33m.\u001b[0m\u001b[0mwait\u001b[0m\u001b[1;33m(\u001b[0m\u001b[0mtimeout\u001b[0m\u001b[1;33m)\u001b[0m\u001b[1;33m\u001b[0m\u001b[0m\n\u001b[0m\u001b[0;32m    636\u001b[0m \u001b[1;33m\u001b[0m\u001b[0m\n\u001b[0;32m    637\u001b[0m     \u001b[1;32mdef\u001b[0m \u001b[0mget\u001b[0m\u001b[1;33m(\u001b[0m\u001b[0mself\u001b[0m\u001b[1;33m,\u001b[0m \u001b[0mtimeout\u001b[0m\u001b[1;33m=\u001b[0m\u001b[1;32mNone\u001b[0m\u001b[1;33m)\u001b[0m\u001b[1;33m:\u001b[0m\u001b[1;33m\u001b[0m\u001b[0m\n",
      "\u001b[1;32mC:\\ProgramData\\Anaconda3\\lib\\threading.py\u001b[0m in \u001b[0;36mwait\u001b[1;34m(self, timeout)\u001b[0m\n\u001b[0;32m    549\u001b[0m             \u001b[0msignaled\u001b[0m \u001b[1;33m=\u001b[0m \u001b[0mself\u001b[0m\u001b[1;33m.\u001b[0m\u001b[0m_flag\u001b[0m\u001b[1;33m\u001b[0m\u001b[0m\n\u001b[0;32m    550\u001b[0m             \u001b[1;32mif\u001b[0m \u001b[1;32mnot\u001b[0m \u001b[0msignaled\u001b[0m\u001b[1;33m:\u001b[0m\u001b[1;33m\u001b[0m\u001b[0m\n\u001b[1;32m--> 551\u001b[1;33m                 \u001b[0msignaled\u001b[0m \u001b[1;33m=\u001b[0m \u001b[0mself\u001b[0m\u001b[1;33m.\u001b[0m\u001b[0m_cond\u001b[0m\u001b[1;33m.\u001b[0m\u001b[0mwait\u001b[0m\u001b[1;33m(\u001b[0m\u001b[0mtimeout\u001b[0m\u001b[1;33m)\u001b[0m\u001b[1;33m\u001b[0m\u001b[0m\n\u001b[0m\u001b[0;32m    552\u001b[0m             \u001b[1;32mreturn\u001b[0m \u001b[0msignaled\u001b[0m\u001b[1;33m\u001b[0m\u001b[0m\n\u001b[0;32m    553\u001b[0m \u001b[1;33m\u001b[0m\u001b[0m\n",
      "\u001b[1;32mC:\\ProgramData\\Anaconda3\\lib\\threading.py\u001b[0m in \u001b[0;36mwait\u001b[1;34m(self, timeout)\u001b[0m\n\u001b[0;32m    293\u001b[0m         \u001b[1;32mtry\u001b[0m\u001b[1;33m:\u001b[0m    \u001b[1;31m# restore state no matter what (e.g., KeyboardInterrupt)\u001b[0m\u001b[1;33m\u001b[0m\u001b[0m\n\u001b[0;32m    294\u001b[0m             \u001b[1;32mif\u001b[0m \u001b[0mtimeout\u001b[0m \u001b[1;32mis\u001b[0m \u001b[1;32mNone\u001b[0m\u001b[1;33m:\u001b[0m\u001b[1;33m\u001b[0m\u001b[0m\n\u001b[1;32m--> 295\u001b[1;33m                 \u001b[0mwaiter\u001b[0m\u001b[1;33m.\u001b[0m\u001b[0macquire\u001b[0m\u001b[1;33m(\u001b[0m\u001b[1;33m)\u001b[0m\u001b[1;33m\u001b[0m\u001b[0m\n\u001b[0m\u001b[0;32m    296\u001b[0m                 \u001b[0mgotit\u001b[0m \u001b[1;33m=\u001b[0m \u001b[1;32mTrue\u001b[0m\u001b[1;33m\u001b[0m\u001b[0m\n\u001b[0;32m    297\u001b[0m             \u001b[1;32melse\u001b[0m\u001b[1;33m:\u001b[0m\u001b[1;33m\u001b[0m\u001b[0m\n",
      "\u001b[1;31mKeyboardInterrupt\u001b[0m: "
     ]
    },
    {
     "name": "stdout",
     "output_type": "stream",
     "text": [
      "time to do whole scene to voxelmap: 70.37145781517029\n",
      "time to do whole scene to voxelmap:time to do whole scene to voxelmap:time to save:   2.999011516571045103.56367254257202104.13567876815796\n",
      "\n",
      "\n",
      "time to save: 0.08500075340270996\n",
      "time to save: 0.0989999771118164\n",
      "time to do whole scene to voxelmap: 105.03668332099915\n",
      "time to save:time to do whole scene to voxelmap:  0.1250023841857910269.89045524597168\n",
      "\n",
      "time to save: 2.0770153999328613\n",
      "time to do whole scene to voxelmap: 109.95371437072754\n",
      "time to save: 0.04900217056274414\n",
      "time to do whole scene to voxelmap: 108.96970725059509\n",
      "time to save: 4.885041952133179\n",
      "time to do whole scene to voxelmap: 117.48276448249817\n",
      "time to save: 0.10500502586364746\n",
      "time to do whole scene to voxelmap: 117.47276282310486\n",
      "time to save: 0.21500539779663086\n",
      "time to do whole scene to voxelmap: 118.4377670288086\n",
      "time to save: 0.04399919509887695\n"
     ]
    }
   ],
   "source": [
    "workers = 10\n",
    "\n",
    "widgets = [progressbar.Percentage(), ' ', progressbar.Counter(), ' ', progressbar.Bar(), ' ',\n",
    "           progressbar.FileTransferSpeed()]\n",
    "\n",
    "pbar = progressbar.ProgressBar(widgets=widgets, maxval=len(scenes)).start()\n",
    "counter = 0\n",
    "\n",
    "Parallel(n_jobs=workers, backend='threading')(delayed(convert_scene_to_img_and_voxelmap)(in_directory, out_directory, i['scene_id']) for i in scenes)\n"
   ]
  },
  {
   "cell_type": "markdown",
   "metadata": {},
   "source": [
    "### generating filenames list"
   ]
  },
  {
   "cell_type": "code",
   "execution_count": null,
   "metadata": {},
   "outputs": [],
   "source": [
    "filenames = []\n",
    "for scene_id, (rgb_outfile, outfile) in image_names.items():\n",
    "    rgb_name = os.path.relpath(os.path.join(out_directory, rgb_outfile), start=out_root_directory)\n",
    "    rgb_name = rgb_name.replace('\\\\', '/')\n",
    "    voxelmap_name = os.path.relpath(os.path.join(out_directory, outfile), start=out_root_directory)\n",
    "    voxelmap_name = depth_name.replace('\\\\', '/')\n",
    "    filenames.append([rgb_name, depth_name])\n",
    "\n",
    "    # r je abych nemusel psát zpětná lomítka\n",
    "with open(os.path.join(out_root_directory, 'whole-voxel-gta.csv'), mode='w+', newline='') as f:\n",
    "    csv.writer(f).writerows(filenames)\n",
    "\n",
    "random.shuffle(filenames)\n",
    "\n",
    "train_ratio = 0.8\n",
    "train_threshold = int(train_ratio * len(image_names))\n",
    "train_filenames = filenames[:train_threshold]\n",
    "test_filenames = filenames[train_threshold:]\n",
    "\n",
    "with open(os.path.join(out_root_directory, 'train-voxel-gta.csv'), mode='w+', newline='') as f:\n",
    "    csv.writer(f).writerows(train_filenames)\n",
    "with open(os.path.join(out_root_directory, 'test-voxel-gta.csv'), mode='w+', newline='') as f:\n",
    "    csv.writer(f).writerows(test_filenames)\n"
   ]
  },
  {
   "cell_type": "markdown",
   "metadata": {},
   "source": [
    "### running extraction for one scene"
   ]
  },
  {
   "cell_type": "code",
   "execution_count": 19,
   "metadata": {},
   "outputs": [
    {
     "name": "stderr",
     "output_type": "stream",
     "text": [
      "\r",
      "                                                                               \r",
      "\r",
      "  0% 41 |                                                           |  44.6 s/B"
     ]
    },
    {
     "name": "stdout",
     "output_type": "stream",
     "text": [
      "scene to whole voxelmap: 10.923073530197144\n",
      "getting main cam and stuff: 0.0\n",
      "generating frustum points: 0.03501081466674805\n",
      "obtaining world frustum: 0.23198962211608887\n",
      "obtaining voxelmap in NDC: 0.26500391960144043\n",
      "pointcloud to bool grid: 0.011000394821166992\n"
     ]
    },
    {
     "name": "stderr",
     "output_type": "stream",
     "text": [
      "C:\\ProgramData\\Anaconda3\\lib\\site-packages\\ipykernel_launcher.py:103: RuntimeWarning: invalid value encountered in greater\n"
     ]
    }
   ],
   "source": [
    "convert_scene_to_img_and_voxelmap(in_directory, out_directory, scenes[0]['scene_id'])"
   ]
  },
  {
   "cell_type": "code",
   "execution_count": 20,
   "metadata": {},
   "outputs": [
    {
     "name": "stderr",
     "output_type": "stream",
     "text": [
      "\r",
      "                                                                               \r",
      "\r",
      "  0% 42 |                                                           |  44.1 s/B"
     ]
    },
    {
     "name": "stdout",
     "output_type": "stream",
     "text": [
      "scene to whole voxelmap: 11.031072616577148\n",
      "getting main cam and stuff: 0.0009903907775878906\n",
      "generating frustum points: 0.03500843048095703\n",
      "obtaining world frustum: 0.23499274253845215\n"
     ]
    },
    {
     "name": "stderr",
     "output_type": "stream",
     "text": [
      "C:\\ProgramData\\Anaconda3\\lib\\site-packages\\ipykernel_launcher.py:103: RuntimeWarning: invalid value encountered in greater\n",
      "\r",
      "                                                                               \r",
      "\r",
      "  0% 43 |                                                           |  43.4 s/B"
     ]
    },
    {
     "name": "stdout",
     "output_type": "stream",
     "text": [
      "obtaining voxelmap in NDC: 0.250011682510376\n",
      "pointcloud to bool grid: 0.01300048828125\n",
      "scene to whole voxelmap: 11.20207691192627\n",
      "getting main cam and stuff: 0.0\n",
      "generating frustum points: 0.03500795364379883\n",
      "obtaining world frustum: 0.24100065231323242\n"
     ]
    },
    {
     "name": "stderr",
     "output_type": "stream",
     "text": [
      "\r",
      "                                                                               \r",
      "\r",
      "  0% 44 |                                                           |  42.7 s/B"
     ]
    },
    {
     "name": "stdout",
     "output_type": "stream",
     "text": [
      "obtaining voxelmap in NDC: 0.2460010051727295\n",
      "pointcloud to bool grid: 0.011999845504760742\n",
      "scene to whole voxelmap: 11.562061071395874\n",
      "getting main cam and stuff: 0.0\n",
      "generating frustum points: 0.03501558303833008\n",
      "obtaining world frustum: 0.23299527168273926\n"
     ]
    },
    {
     "name": "stderr",
     "output_type": "stream",
     "text": [
      "\r",
      "                                                                               \r",
      "\r",
      "  0% 45 |                                                           |  42.0 s/B"
     ]
    },
    {
     "name": "stdout",
     "output_type": "stream",
     "text": [
      "obtaining voxelmap in NDC: 0.26199936866760254\n",
      "pointcloud to bool grid: 0.007999897003173828\n",
      "scene to whole voxelmap: 9.643060684204102\n",
      "getting main cam and stuff: 0.0\n",
      "generating frustum points: 0.03500175476074219\n",
      "obtaining world frustum: 0.2350025177001953\n"
     ]
    },
    {
     "name": "stderr",
     "output_type": "stream",
     "text": [
      "\r",
      "                                                                               \r",
      "\r",
      "  0% 46 |                                                           |  41.3 s/B"
     ]
    },
    {
     "name": "stdout",
     "output_type": "stream",
     "text": [
      "obtaining voxelmap in NDC: 0.2590045928955078\n",
      "pointcloud to bool grid: 0.010005712509155273\n",
      "scene to whole voxelmap: 8.779057502746582\n",
      "getting main cam and stuff: 0.0\n",
      "generating frustum points: 0.03400087356567383\n",
      "obtaining world frustum: 0.23399925231933594\n",
      "obtaining voxelmap in NDC: 0.25101304054260254\n",
      "pointcloud to bool grid: 0.008988618850708008\n"
     ]
    }
   ],
   "source": [
    "# just some timing experiments\n",
    "for i in range(5):\n",
    "    convert_scene_to_img_and_voxelmap(in_directory, out_directory, scenes[i]['scene_id'])"
   ]
  },
  {
   "cell_type": "code",
   "execution_count": null,
   "metadata": {},
   "outputs": [],
   "source": [
    "prev = None\n",
    "for i in range(5):\n",
    "    cameras = load_scene_db_data(scenes[i]['scene_id'])\n",
    "    cam = get_main_image(cameras)\n",
    "    proj_matrix = cam['proj_matrix']\n",
    "    if prev is not None:\n",
    "        print(np.array_equal(prev, proj_matrix))\n",
    "    prev = proj_matrix"
   ]
  },
  {
   "cell_type": "code",
   "execution_count": null,
   "metadata": {},
   "outputs": [],
   "source": [
    "prev"
   ]
  },
  {
   "cell_type": "code",
   "execution_count": null,
   "metadata": {
    "collapsed": true
   },
   "outputs": [],
   "source": []
  }
 ],
 "metadata": {
  "kernelspec": {
   "display_name": "Python 3",
   "language": "python",
   "name": "python3"
  },
  "language_info": {
   "codemirror_mode": {
    "name": "ipython",
    "version": 3
   },
   "file_extension": ".py",
   "mimetype": "text/x-python",
   "name": "python",
   "nbconvert_exporter": "python",
   "pygments_lexer": "ipython3",
   "version": "3.6.3"
  }
 },
 "nbformat": 4,
 "nbformat_minor": 1
}
