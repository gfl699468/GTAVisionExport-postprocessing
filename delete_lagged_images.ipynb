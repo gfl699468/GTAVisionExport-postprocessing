{
 "cells": [
  {
   "cell_type": "code",
   "execution_count": 1,
   "metadata": {
    "collapsed": true
   },
   "outputs": [],
   "source": [
    "import os\n",
    "import numpy as np\n",
    "from PIL import Image, ImageFile\n",
    "from skimage import io\n",
    "import matplotlib.pyplot as plt\n",
    "import psycopg2\n",
    "import tifffile\n",
    "from scipy import misc\n",
    "from tifffile import TiffFile\n",
    "from tifffile.tifffile import TIFF_DECOMPESSORS\n",
    "from configparser import ConfigParser\n",
    "from batch_tiff_to_jpeg import tiff_to_jpg\n",
    "from psycopg2.extras import DictCursor\n",
    "from visualization import get_connection, get_gta_image_jpg_dir\n",
    "import progressbar\n",
    "import random\n",
    "from os import path\n",
    "import math\n",
    "import humanize\n",
    "JPEG_DIR = 'D:/GTAV_extraction_output/rgb-jpeg'\n",
    "JPEG_DIR_2 = 'Y:/GTA-jpg'\n",
    "JPEG_DIRS = [JPEG_DIR, JPEG_DIR_2]\n",
    "TIFF_DIR = 'D:/GTAV_extraction_output'"
   ]
  },
  {
   "cell_type": "code",
   "execution_count": 2,
   "metadata": {
    "collapsed": true
   },
   "outputs": [],
   "source": [
    "# threaded connection pooling\n",
    "from psycopg2.pool import PersistentConnectionPool\n",
    "from psycopg2.extensions import ISOLATION_LEVEL_AUTOCOMMIT\n",
    "\n",
    "conn_pool = None\n",
    "\n",
    "def get_connection_pooled():\n",
    "    \"\"\"\n",
    "    :rtype: connection\n",
    "    \"\"\"\n",
    "    global conn_pool\n",
    "    if conn_pool is None:\n",
    "        CONFIG = ConfigParser()\n",
    "        CONFIG.read(\"gta-postprocessing.ini\")\n",
    "        minimum = 1\n",
    "        maximum = 28\n",
    "        conn_pool = PersistentConnectionPool(minimum, maximum, CONFIG[\"Postgres\"][\"db\"], cursor_factory=DictCursor)\n",
    "    conn = conn_pool.getconn()\n",
    "    conn.set_isolation_level(ISOLATION_LEVEL_AUTOCOMMIT)\n",
    "    return conn"
   ]
  },
  {
   "cell_type": "markdown",
   "metadata": {},
   "source": [
    "#### selecting images metadata, grouping by position"
   ]
  },
  {
   "cell_type": "code",
   "execution_count": 3,
   "metadata": {},
   "outputs": [
    {
     "name": "stdout",
     "output_type": "stream",
     "text": [
      "2000\n"
     ]
    },
    {
     "name": "stderr",
     "output_type": "stream",
     "text": [
      "  1% 3809 |                                                       |  22.5 KiB/s"
     ]
    },
    {
     "name": "stdout",
     "output_type": "stream",
     "text": [
      "positions_total: 366781\n"
     ]
    },
    {
     "name": "stderr",
     "output_type": "stream",
     "text": [
      "100% 300842 |#####################################################|  19.0 KiB/s\n"
     ]
    },
    {
     "name": "stdout",
     "output_type": "stream",
     "text": [
      "total 300842 positions\n"
     ]
    }
   ],
   "source": [
    "conn = get_connection()\n",
    "cur = conn.cursor()\n",
    "\n",
    "# for each position, select first time and last time car was in this position\n",
    "cur.execute(\"SELECT DISTINCT COUNT(camera_pos) AS count FROM snapshots\")\n",
    "\n",
    "position_count = cur.fetchone()['count']\n",
    "# cur = conn.cursor('server_cursor_{}'.format(random.randint(0, 1e9)))\n",
    "cur = conn.cursor()\n",
    "print(cur.itersize)\n",
    "\n",
    "cur.execute(\"\"\"SELECT \\\n",
    "        ARRAY[st_x(camera_pos), st_y(camera_pos), st_z(camera_pos)] as position, \\\n",
    "    camera_pos, min(timestamp) AS minimum, max(timestamp) AS maximum, \\\n",
    "    min(imagepath), min(proj_matrix), \\\n",
    "    count(camera_pos) as count \\\n",
    "    FROM snapshots \\\n",
    "    GROUP BY camera_pos \\\n",
    "    ORDER BY min(timestamp) \\\n",
    "    \"\"\")\n",
    "\n",
    "positions = {}\n",
    "print('positions_total: {}'.format(position_count))\n",
    "\n",
    "widgets = [progressbar.Percentage(), ' ', progressbar.Counter(), ' ', progressbar.Bar(), ' ', progressbar.FileTransferSpeed()]\n",
    "pbar = progressbar.ProgressBar(widgets=widgets, max_value = cur.rowcount).start()\n",
    "\n",
    "for i, row in enumerate(cur):\n",
    "    pbar.update(i)\n",
    "    positions[tuple(row['position'])] = {\n",
    "        'min': row['minimum'],\n",
    "        'max': row['maximum'],\n",
    "        'time': row['maximum'] - row['minimum'],\n",
    "        'position': row['position'],\n",
    "        'count': row['count'],\n",
    "        'index': i,\n",
    "    }\n",
    "pbar.finish()\n",
    "\n",
    "print('total {} positions'.format(len(positions)))\n",
    "# timespans = {key:pos['max'] - pos['min'] for key, pos in positions.items()}\n"
   ]
  },
  {
   "cell_type": "markdown",
   "metadata": {},
   "source": [
    "#### selecting images metadata, grouping by projection matrix"
   ]
  },
  {
   "cell_type": "code",
   "execution_count": 4,
   "metadata": {},
   "outputs": [
    {
     "name": "stdout",
     "output_type": "stream",
     "text": [
      "2000\n"
     ]
    },
    {
     "name": "stderr",
     "output_type": "stream",
     "text": [
      "\r",
      "                                                                               \r",
      "\r",
      "N/A% 0 |                                                            |   0.0 s/B"
     ]
    },
    {
     "name": "stdout",
     "output_type": "stream",
     "text": [
      "positions_total: 366872\n"
     ]
    },
    {
     "name": "stderr",
     "output_type": "stream",
     "text": [
      "100% 110600 |#####################################################|  14.7 KiB/s\n"
     ]
    },
    {
     "name": "stdout",
     "output_type": "stream",
     "text": [
      "total 110600 projections\n"
     ]
    }
   ],
   "source": [
    "conn = get_connection()\n",
    "cur = conn.cursor()\n",
    "lag_interval_min = 30\n",
    "\n",
    "# for each position, select first time and last time car was in this position\n",
    "cur.execute(\"SELECT DISTINCT COUNT(camera_pos) AS count FROM snapshots\")\n",
    "\n",
    "position_count = cur.fetchone()['count']\n",
    "# cur = conn.cursor('server_cursor_{}'.format(random.randint(0, 1e9)))\n",
    "cur = conn.cursor()\n",
    "print(cur.itersize)\n",
    "\n",
    "# somehow, grouping by proj matrix shows me same images, but grouping by camera pos does not\n",
    "cur.execute(\"\"\"SELECT \\\n",
    "        min(ARRAY[st_x(camera_pos), st_y(camera_pos), st_z(camera_pos)]) as position, \\\n",
    "    min(camera_pos), min(timestamp) AS minimum, max(timestamp) AS maximum, \\\n",
    "    min(imagepath), \\\n",
    "    proj_matrix, \\\n",
    "    count(proj_matrix) as count \\\n",
    "    FROM snapshots \\\n",
    "    GROUP BY proj_matrix \\\n",
    "    ORDER BY min(timestamp) \\\n",
    "    \"\"\")\n",
    "\n",
    "projections = {}\n",
    "print('positions_total: {}'.format(position_count))\n",
    "\n",
    "widgets = [progressbar.Percentage(), ' ', progressbar.Counter(), ' ', progressbar.Bar(), ' ', progressbar.FileTransferSpeed()]\n",
    "pbar = progressbar.ProgressBar(widgets=widgets, max_value = cur.rowcount).start()\n",
    "\n",
    "for i, row in enumerate(cur):\n",
    "    pbar.update(i)\n",
    "#    print(tuple(tuple(x) for x in row['proj_matrix']))\n",
    "    projections[tuple(tuple(x) for x in row['proj_matrix'])] = {\n",
    "        'min': row['minimum'],\n",
    "        'max': row['maximum'],\n",
    "        'time': row['maximum'] - row['minimum'],\n",
    "        'position': row['position'],\n",
    "        'proj_matrix': row['proj_matrix'],\n",
    "        'count': row['count'],\n",
    "        'index': i,\n",
    "    }\n",
    "pbar.finish()\n",
    "\n",
    "print('total {} projections'.format(len(projections)))\n",
    "# timespans = {key:pos['max'] - pos['min'] for key, pos in positions.items()}\n"
   ]
  },
  {
   "cell_type": "markdown",
   "metadata": {
    "collapsed": true
   },
   "source": [
    "#### display images per position"
   ]
  },
  {
   "cell_type": "code",
   "execution_count": null,
   "metadata": {
    "collapsed": true,
    "scrolled": true
   },
   "outputs": [],
   "source": [
    "offset = 38100\n",
    "stride = 1\n",
    "for position, data in sorted(positions.items(), key=lambda x:x[1]['index'])[offset::stride]:\n",
    "    i = data['index']\n",
    "    cur = conn.cursor()\n",
    "    print(position)\n",
    "# fucking python has only 1e-12 float position, which is not enough for postgres\n",
    "    cur.execute(\"\"\"SELECT \\\n",
    "        imagepath, \\\n",
    "        ARRAY[st_x(camera_pos), st_y(camera_pos)::double precision, st_z(camera_pos)::double precision] as position, \\\n",
    "        camera_pos \\\n",
    "    FROM snapshots \\\n",
    "      WHERE st_distance(camera_pos, ST_GeomFromText('POINT({} {} {})')) < 1e-9 \\\n",
    "    \"\"\".format(position[0], position[1], position[2]))\n",
    "\n",
    "    print(\"i: {}, time: {}, same position images: {}\".format(i, data['min'], cur.rowcount))\n",
    "    for row in cur:\n",
    "        img_path = path.join(JPEG_DIR, 'info-' + row['imagepath'] + '-0.jpg')\n",
    "        if not path.exists(img_path):\n",
    "            print('image not found')\n",
    "            continue\n",
    "        plt.figure(figsize=(15,15))\n",
    "        img = Image.open(img_path)\n",
    "        plt.imshow(img)\n",
    "        plt.show()\n"
   ]
  },
  {
   "cell_type": "markdown",
   "metadata": {},
   "source": [
    "#### display images per projection matrix"
   ]
  },
  {
   "cell_type": "code",
   "execution_count": null,
   "metadata": {
    "collapsed": true,
    "scrolled": true
   },
   "outputs": [],
   "source": [
    "offset = 39700\n",
    "stride = 1\n",
    "for projection, data in sorted(projections.items(), key=lambda x:x[1]['index'])[offset::stride]:\n",
    "    i = data['index']\n",
    "    cur = conn.cursor()\n",
    "    print(projection)\n",
    "# fucking python has only 1e-12 float position, which is not enough for postgres\n",
    "    cur.execute(\"\"\"SELECT \\\n",
    "        imagepath, \\\n",
    "        ARRAY[st_x(camera_pos), st_y(camera_pos)::double precision, st_z(camera_pos)::double precision] as position, \\\n",
    "        camera_pos \\\n",
    "    FROM snapshots \\\n",
    "      WHERE proj_matrix::NUMERIC[] = ARRAY{} \\\n",
    "    \"\"\".format(data['proj_matrix']))\n",
    "\n",
    "    print(\"i: {}, time: {}, same proj_matrix images: {}\".format(i, data['min'], cur.rowcount))\n",
    "    for row in cur:\n",
    "        img_path = path.join(JPEG_DIR, 'info-' + row['imagepath'] + '-0.jpg')\n",
    "        if not path.exists(img_path):\n",
    "            print('image not found')\n",
    "            continue\n",
    "        plt.figure(figsize=(15,15))\n",
    "        img = Image.open(img_path)\n",
    "        plt.imshow(img)\n",
    "        plt.show()\n"
   ]
  },
  {
   "cell_type": "code",
   "execution_count": null,
   "metadata": {
    "collapsed": true
   },
   "outputs": [],
   "source": [
    "from decimal import *\n",
    "print(float(\"431.63467407226560000\"))\n",
    "print(Decimal('431.63467407226560000'))\n",
    "print(float(\"-55309.14581298830000000\"))\n",
    "              55309.1458129883\n",
    "# float('431.63467')"
   ]
  },
  {
   "cell_type": "code",
   "execution_count": null,
   "metadata": {
    "collapsed": true
   },
   "outputs": [],
   "source": [
    "sorted(positions.items(), key=lambda x:x[1]['min'])"
   ]
  },
  {
   "cell_type": "markdown",
   "metadata": {
    "collapsed": true
   },
   "source": [
    "#### showing proj_image histogram"
   ]
  },
  {
   "cell_type": "code",
   "execution_count": 5,
   "metadata": {},
   "outputs": [
    {
     "data": {
      "image/png": "[encoded data removed]",
      "text/plain": [
       "<matplotlib.figure.Figure at 0x20e71b9d908>"
      ]
     },
     "metadata": {},
     "output_type": "display_data"
    },
    {
     "data": {
      "image/png": "[encoded data removed]",
      "text/plain": [
       "<matplotlib.figure.Figure at 0x20e1d8375c0>"
      ]
     },
     "metadata": {},
     "output_type": "display_data"
    }
   ],
   "source": [
    "keys = [x['index'] for key, x in positions.items()]\n",
    "values = [x['count'] for key, x in positions.items()]\n",
    "plt.plot(keys, values)\n",
    "plt.title('count of images per position')\n",
    "plt.grid(True)\n",
    "plt.show()\n",
    "\n",
    "keys = [x['index'] for key, x in projections.items()]\n",
    "values = [x['count'] for key, x in projections.items()]\n",
    "plt.plot(keys, values)\n",
    "plt.title('count of images per projection')\n",
    "plt.grid(True)\n",
    "plt.show()"
   ]
  },
  {
   "cell_type": "code",
   "execution_count": 6,
   "metadata": {},
   "outputs": [
    {
     "data": {
      "image/png": "[encoded data removed]",
      "text/plain": [
       "<matplotlib.figure.Figure at 0x20e71c0b7f0>"
      ]
     },
     "metadata": {},
     "output_type": "display_data"
    },
    {
     "data": {
      "image/png": "[encoded data removed]",
      "text/plain": [
       "<matplotlib.figure.Figure at 0x20e1f7ba6d8>"
      ]
     },
     "metadata": {},
     "output_type": "display_data"
    }
   ],
   "source": [
    "keys = [x['index'] for key, x in positions.items()]\n",
    "values = [math.log(x['count']) for key, x in positions.items()]\n",
    "plt.plot(keys, values)\n",
    "plt.title('logarithmed count of images per position')\n",
    "plt.grid(True)\n",
    "plt.show()\n",
    "\n",
    "keys = [x['index'] for key, x in projections.items()]\n",
    "values = [math.log(x['count']) for key, x in projections.items()]\n",
    "plt.plot(keys, values)\n",
    "plt.title('logarithmed count of images per projection')\n",
    "plt.grid(True)\n",
    "plt.show()"
   ]
  },
  {
   "cell_type": "code",
   "execution_count": 7,
   "metadata": {},
   "outputs": [
    {
     "data": {
      "image/png": "[encoded data removed]",
      "text/plain": [
       "<matplotlib.figure.Figure at 0x20e6f1422e8>"
      ]
     },
     "metadata": {},
     "output_type": "display_data"
    },
    {
     "data": {
      "image/png": "[encoded data removed]",
      "text/plain": [
       "<matplotlib.figure.Figure at 0x20e1d8b2c50>"
      ]
     },
     "metadata": {},
     "output_type": "display_data"
    }
   ],
   "source": [
    "keys = [x['index'] for key, x in positions.items()]\n",
    "values = [(x['max'] - x['min']).seconds / 60 for key, x in positions.items()]\n",
    "plt.plot(keys, values)\n",
    "plt.title('minutes in same position')\n",
    "plt.grid(True)\n",
    "plt.show()\n",
    "\n",
    "keys = [x['index'] for key, x in projections.items()]\n",
    "values = [(x['max'] - x['min']).seconds / 60 for key, x in projections.items()]\n",
    "plt.plot(keys, values)\n",
    "plt.title('minutes in same projection')\n",
    "plt.grid(True)\n",
    "plt.show()\n"
   ]
  },
  {
   "cell_type": "markdown",
   "metadata": {},
   "source": [
    "#### filtering function"
   ]
  },
  {
   "cell_type": "code",
   "execution_count": 18,
   "metadata": {
    "collapsed": true
   },
   "outputs": [],
   "source": [
    "lag_interval_min = 30\n",
    "treshold = 3000\n",
    "\n",
    "def filter_lagged(data):\n",
    "    return {key: x for key, x in data.items() if (((x['max'] - x['min']).seconds / 60) > lag_interval_min) if x['count'] >= treshold}"
   ]
  },
  {
   "cell_type": "markdown",
   "metadata": {},
   "source": [
    "#### showing number of glitched by positions and projections"
   ]
  },
  {
   "cell_type": "code",
   "execution_count": 19,
   "metadata": {},
   "outputs": [
    {
     "data": {
      "image/png": "[encoded data removed]",
      "text/plain": [
       "<matplotlib.figure.Figure at 0x20e1dc8e128>"
      ]
     },
     "metadata": {},
     "output_type": "display_data"
    },
    {
     "data": {
      "image/png": "[encoded data removed]",
      "text/plain": [
       "<matplotlib.figure.Figure at 0x20e1dd98438>"
      ]
     },
     "metadata": {},
     "output_type": "display_data"
    }
   ],
   "source": [
    "filtered = filter_lagged(positions)\n",
    "keys = [x['index'] for key, x in filtered.items()]\n",
    "values = [x['count'] for key, x in filtered.items()]\n",
    "plt.plot(keys, values)\n",
    "plt.grid(True)\n",
    "plt.show()\n",
    "\n",
    "filtered = filter_lagged(projections)\n",
    "keys = [x['index'] for key, x in filtered.items()]\n",
    "values = [x['count'] for key, x in filtered.items()]\n",
    "plt.plot(keys, values)\n",
    "plt.grid(True)\n",
    "plt.show()\n"
   ]
  },
  {
   "cell_type": "markdown",
   "metadata": {},
   "source": [
    "#### computing size of projected to be deleted"
   ]
  },
  {
   "cell_type": "code",
   "execution_count": 20,
   "metadata": {},
   "outputs": [
    {
     "name": "stderr",
     "output_type": "stream",
     "text": [
      "100% 80237 |######################################################|   3.7 KiB/s\n",
      "100% 69385 |######################################################|   3.7 KiB/s\n",
      "100% 14089 |######################################################|   3.6 KiB/s\n",
      "100% 4372 |#######################################################|   3.7 KiB/s\n",
      "100% 50774 |######################################################|   3.7 KiB/s\n",
      "100% 14446 |######################################################|   3.9 KiB/s\n",
      "100% 6 |############################################################|  14.2 s/B\n"
     ]
    },
    {
     "name": "stdout",
     "output_type": "stream",
     "text": [
      "total size is 1.5 TB\n"
     ]
    }
   ],
   "source": [
    "filtered = filter_lagged(projections)\n",
    "total_size = 0\n",
    "\n",
    "widgets = [progressbar.Percentage(), ' ', progressbar.Counter(), ' ', progressbar.Bar(), ' ', progressbar.FileTransferSpeed()]\n",
    "pbar = progressbar.ProgressBar(widgets=widgets, max_value = len(filtered)).start()\n",
    "j = 0\n",
    "for projection, data in filtered.items():\n",
    "    j += 1\n",
    "    pbar.update(j)\n",
    "    i = data['index']\n",
    "    cur = conn.cursor()\n",
    "    cur.execute(\"\"\"SELECT \\\n",
    "        imagepath, \\\n",
    "        ARRAY[st_x(camera_pos), st_y(camera_pos)::double precision, st_z(camera_pos)::double precision] as position, \\\n",
    "        camera_pos \\\n",
    "    FROM snapshots \\\n",
    "      WHERE proj_matrix::NUMERIC[] = ARRAY{} \\\n",
    "    \"\"\".format(data['proj_matrix']))\n",
    "\n",
    "#    print(\"i: {}, from: {}, to: {}, same proj_matrix images: {}\".format(i, data['min'], data['max'], cur.rowcount))\n",
    "    pbar1 = progressbar.ProgressBar(widgets=widgets, max_value = cur.rowcount).start()\n",
    "    k = 0\n",
    "    for row in cur:\n",
    "        k += 1\n",
    "        pbar1.update(k)\n",
    "        img_path = path.join(JPEG_DIR, 'info-' + row['imagepath'] + '-0.jpg')\n",
    "        if not path.exists(img_path):\n",
    "            continue\n",
    "        total_size += os.path.getsize(img_path)\n",
    "        img_path = path.join(TIFF_DIR, 'info-' + row['imagepath'] + '.tiff')\n",
    "        if not path.exists(img_path):\n",
    "            continue\n",
    "        total_size += os.path.getsize(img_path)\n",
    "        img_path = path.join(TIFF_DIR, 'info-' + row['imagepath'] + '-depth.tiff')\n",
    "        if not path.exists(img_path):\n",
    "            continue\n",
    "        total_size += os.path.getsize(img_path)\n",
    "        img_path = path.join(TIFF_DIR, 'info-' + row['imagepath'] + '-stencil.tiff')\n",
    "        if not path.exists(img_path):\n",
    "            continue\n",
    "        total_size += os.path.getsize(img_path)\n",
    "    pbar1.finish()\n",
    "pbar.finish()\n",
    "        \n",
    "print('total size is {}'.format(humanize.naturalsize(total_size)))"
   ]
  },
  {
   "cell_type": "code",
   "execution_count": null,
   "metadata": {
    "collapsed": true
   },
   "outputs": [],
   "source": [
    "total_size"
   ]
  },
  {
   "cell_type": "code",
   "execution_count": null,
   "metadata": {
    "collapsed": true,
    "scrolled": true
   },
   "outputs": [],
   "source": [
    "filtered = filter_lagged(projections)\n",
    "for projection, data in sorted(filtered.items(), key=lambda x:x[1]['index']):\n",
    "    i = data['index']\n",
    "    cur = conn.cursor()\n",
    "    print(projection)\n",
    "# fucking python has only 1e-12 float position, which is not enough for postgres\n",
    "    cur.execute(\"\"\"SELECT \\\n",
    "        imagepath, \\\n",
    "        ARRAY[st_x(camera_pos), st_y(camera_pos)::double precision, st_z(camera_pos)::double precision] as position, \\\n",
    "        camera_pos \\\n",
    "    FROM snapshots \\\n",
    "      WHERE proj_matrix::NUMERIC[] = ARRAY{} \\\n",
    "      LIMIT 10 \\\n",
    "    \"\"\".format(data['proj_matrix']))\n",
    "\n",
    "    print(\"i: {}, time: {}, same proj_matrix images: {}\".format(i, data['min'], cur.rowcount))\n",
    "    for row in cur:\n",
    "        img_path = path.join(JPEG_DIR, 'info-' + row['imagepath'] + '-0.jpg')\n",
    "        if not path.exists(img_path):\n",
    "            print('image not found')\n",
    "            continue\n",
    "        plt.figure(figsize=(15,15))\n",
    "        img = Image.open(img_path)\n",
    "        plt.imshow(img)\n",
    "        plt.show()\n"
   ]
  },
  {
   "cell_type": "markdown",
   "metadata": {},
   "source": [
    "## actually deleting things"
   ]
  },
  {
   "cell_type": "code",
   "execution_count": null,
   "metadata": {
    "scrolled": true
   },
   "outputs": [],
   "source": [
    "from joblib import Parallel, delayed\n",
    "from psycopg2.pool import PoolError\n",
    "import time\n",
    "\n",
    "filtered = filter_lagged(projections)\n",
    "jpeg_names = ['info-{}-0.jpg']\n",
    "tiff_names = ['info-{}.tiff', 'info-{}-depth.tiff', 'info-{}-stencil.tiff']\n",
    "\n",
    "\n",
    "def delete_image(row):\n",
    "    global counter\n",
    "    counter += 1\n",
    "    pbar.update(counter)\n",
    "    for DIR in JPEG_DIRS:\n",
    "        for name in jpeg_names:\n",
    "            img_path = path.join(DIR, name.format(row['imagepath']))\n",
    "            if not path.exists(img_path):\n",
    "                continue\n",
    "            os.remove(img_path)\n",
    "    for name in tiff_names:\n",
    "        img_path = path.join(TIFF_DIR, name.format(row['imagepath']))\n",
    "        if not path.exists(img_path):\n",
    "            continue\n",
    "        os.remove(img_path)\n",
    "    # n_start = time.time()\n",
    "    while True:\n",
    "        try:\n",
    "            conn2 = get_connection_pooled()\n",
    "            break\n",
    "        except PoolError:\n",
    "            print('waiting for free connection')\n",
    "            time.sleep(0.5)\n",
    "            \n",
    "    cur2 = conn2.cursor()\n",
    "    cur2.execute('DELETE FROM snapshots WHERE snapshot_id = {}'.format(row['snapshot_id']))\n",
    "    # n_end = time.time()\n",
    "    # print('sql time to execute: {}'.format(n_end - n_start))\n",
    "\n",
    "\n",
    "for projection, data in sorted(filtered.items(), key=lambda x:x[1]['index']):\n",
    "    i = data['index']\n",
    "    cur = conn.cursor()\n",
    "# fucking python has only 1e-12 float position, which is not enough for postgres\n",
    "    cur.execute(\"\"\"SELECT \\\n",
    "        snapshot_id, \\\n",
    "        imagepath, \\\n",
    "        ARRAY[st_x(camera_pos), st_y(camera_pos)::double precision, st_z(camera_pos)::double precision] as position, \\\n",
    "        camera_pos \\\n",
    "    FROM snapshots \\\n",
    "      WHERE proj_matrix::NUMERIC[] = ARRAY{} \\\n",
    "    \"\"\".format(data['proj_matrix']))\n",
    "    \n",
    "    if cur.rowcount < treshold:\n",
    "        continue\n",
    "    \n",
    "    rows = cur.fetchall()\n",
    "    cur.close()\n",
    "            \n",
    "    conn_pool.closeall()\n",
    "    conn_pool = None\n",
    "\n",
    "    print(\"i: {}, time: {}, same proj_matrix images: {}, going to delete them\"\n",
    "          .format(i, data['min'], len(rows)))\n",
    "    pbar = progressbar.ProgressBar(widgets=widgets, max_value = cur.rowcount).start()\n",
    "    counter = 0\n",
    "    workers = 20\n",
    "    Parallel(n_jobs=workers, backend='threading')(delayed(delete_image)(row) for row in rows)\n",
    "    # for row in rows:\n",
    "    #     delete_image(row)\n",
    "    pbar.finish()\n"
   ]
  },
  {
   "cell_type": "code",
   "execution_count": null,
   "metadata": {
    "collapsed": true
   },
   "outputs": [],
   "source": [
    "[r['snapshot_id'] for r in rows]"
   ]
  },
  {
   "cell_type": "code",
   "execution_count": null,
   "metadata": {
    "collapsed": true
   },
   "outputs": [],
   "source": [
    "row = rows[10]\n",
    "print(row)\n",
    "for DIR in JPEG_DIRS:\n",
    "    for name in jpeg_names:\n",
    "        img_path = path.join(DIR, name.format(row['imagepath']))\n",
    "        if not path.exists(img_path):\n",
    "            print('{} not exists'.format(img_path))\n",
    "            continue\n",
    "        os.remove(img_path)\n",
    "for name in tiff_names:\n",
    "    img_path = path.join(TIFF_DIR, name.format(row['imagepath']))\n",
    "    if not path.exists(img_path):\n",
    "        print('{} not exists'.format(img_path))\n",
    "        continue\n",
    "    os.remove(img_path)\n"
   ]
  },
  {
   "cell_type": "markdown",
   "metadata": {},
   "source": [
    "#### dumping filtered values to delete"
   ]
  },
  {
   "cell_type": "code",
   "execution_count": 22,
   "metadata": {
    "scrolled": false
   },
   "outputs": [
    {
     "data": {
      "text/plain": [
       "[{'count': 80237,\n",
       "  'index': 40425,\n",
       "  'max': datetime.datetime(2017, 11, 25, 21, 5, 1, 911170, tzinfo=psycopg2.tz.FixedOffsetTimezone(offset=0, name=None)),\n",
       "  'min': datetime.datetime(2017, 11, 25, 10, 52, 34, 320765, tzinfo=psycopg2.tz.FixedOffsetTimezone(offset=0, name=None)),\n",
       "  'position': [-928.758361816406, -1908.88513183594, 31.364408493042],\n",
       "  'proj_matrix': [[1.17920100150761,\n",
       "    3.60015430661553e-10,\n",
       "    -3.93440236336542e-10,\n",
       "    -5.67915432014843e-07],\n",
       "   [-2.30142571666647e-10,\n",
       "    2.14450697480034,\n",
       "    3.19746726318293e-09,\n",
       "    2.99297685302236e-07],\n",
       "   [-6.25365155945629e-14,\n",
       "    -4.01772709060703e-15,\n",
       "    6.7949296878941e-06,\n",
       "    0.067500464359463],\n",
       "   [7.13405029495462e-17, 0.0, -1.0, 0.0]],\n",
       "  'time': datetime.timedelta(0, 36747, 590405)},\n",
       " {'count': 69385,\n",
       "  'index': 40815,\n",
       "  'max': datetime.datetime(2017, 11, 26, 11, 34, 6, 600554, tzinfo=psycopg2.tz.FixedOffsetTimezone(offset=0, name=None)),\n",
       "  'min': datetime.datetime(2017, 11, 26, 3, 34, 47, 386817, tzinfo=psycopg2.tz.FixedOffsetTimezone(offset=0, name=None)),\n",
       "  'position': [-3233.84741210938, 989.0859375, 14.1491212844849],\n",
       "  'proj_matrix': [[1.17920103110334,\n",
       "    -1.78479467316528e-09,\n",
       "    -5.39348986219185e-09,\n",
       "    -9.52361131112411e-06],\n",
       "   [6.83909281984363e-09,\n",
       "    2.14450687551249,\n",
       "    -8.2174194115936e-09,\n",
       "    -1.96937344298931e-06],\n",
       "   [-7.06560427663203e-14,\n",
       "    2.38395669646522e-14,\n",
       "    6.79492928181721e-06,\n",
       "    0.0675004651908605],\n",
       "   [-5.07406616723216e-17, 0.0, -1.0, 0.0]],\n",
       "  'time': datetime.timedelta(0, 28759, 213737)},\n",
       " {'count': 14089,\n",
       "  'index': 41656,\n",
       "  'max': datetime.datetime(2017, 11, 26, 13, 17, 24, 163894, tzinfo=psycopg2.tz.FixedOffsetTimezone(offset=0, name=None)),\n",
       "  'min': datetime.datetime(2017, 11, 26, 11, 44, 45, 510520, tzinfo=psycopg2.tz.FixedOffsetTimezone(offset=0, name=None)),\n",
       "  'position': [-1087.38562011719, 246.021133422852, 65.185791015625],\n",
       "  'proj_matrix': [[1.17920103864862,\n",
       "    -8.27448122173169e-10,\n",
       "    1.25904319076562e-08,\n",
       "    -1.60563762108268e-06],\n",
       "   [-2.42781736728426e-09,\n",
       "    2.14450699349183,\n",
       "    1.1649453568463e-08,\n",
       "    1.56316456667582e-06],\n",
       "   [-3.94290196603583e-14,\n",
       "    -1.33496090844884e-14,\n",
       "    6.79492957982352e-06,\n",
       "    0.0675004657146946],\n",
       "   [-2.40150781205539e-17, 0.0, -1.0, 0.0]],\n",
       "  'time': datetime.timedelta(0, 5558, 653374)},\n",
       " {'count': 4372,\n",
       "  'index': 45774,\n",
       "  'max': datetime.datetime(2017, 11, 26, 15, 58, 56, 558425, tzinfo=psycopg2.tz.FixedOffsetTimezone(offset=0, name=None)),\n",
       "  'min': datetime.datetime(2017, 11, 26, 15, 23, 27, 684193, tzinfo=psycopg2.tz.FixedOffsetTimezone(offset=0, name=None)),\n",
       "  'position': [181.699829101562, -1390.9287109375, 30.8102207183838],\n",
       "  'proj_matrix': [[1.17920097962402,\n",
       "    -1.75225540327562e-09,\n",
       "    3.89178407252458e-09,\n",
       "    -5.62727831265875e-06],\n",
       "   [3.88919473015559e-10,\n",
       "    2.14450703704405,\n",
       "    2.02080782663039e-09,\n",
       "    -5.21356997751354e-06],\n",
       "   [2.41343586253296e-14,\n",
       "    1.85285062727342e-14,\n",
       "    6.79492951325156e-06,\n",
       "    0.0675004664437147],\n",
       "   [5.52943107967607e-17, -1.38777878078145e-17, -1.0, 5.6843418860808e-14]],\n",
       "  'time': datetime.timedelta(0, 2128, 874232)},\n",
       " {'count': 50774,\n",
       "  'index': 107458,\n",
       "  'max': datetime.datetime(2017, 12, 14, 8, 36, 39, 747596, tzinfo=psycopg2.tz.FixedOffsetTimezone(offset=0, name=None)),\n",
       "  'min': datetime.datetime(2017, 12, 14, 3, 32, 53, 298037, tzinfo=psycopg2.tz.FixedOffsetTimezone(offset=0, name=None)),\n",
       "  'position': [-3163.49780273438, 941.975830078125, 16.0206489562988],\n",
       "  'proj_matrix': [[1.17176978661465,\n",
       "    1.27164005367386e-09,\n",
       "    -6.47461119007015e-09,\n",
       "    -3.21449192597356e-07],\n",
       "   [6.28353896692246e-10,\n",
       "    2.14450673810503,\n",
       "    -5.65579707512143e-08,\n",
       "    2.74347502227101e-06],\n",
       "   [-1.81101994553968e-15,\n",
       "    6.15353226087221e-15,\n",
       "    6.79492960261736e-06,\n",
       "    0.0675004665083191],\n",
       "   [8.23993651088983e-18, 1.38777878078145e-17, -1.0, 2.8421709430404e-14]],\n",
       "  'time': datetime.timedelta(0, 18226, 449559)},\n",
       " {'count': 14446,\n",
       "  'index': 107915,\n",
       "  'max': datetime.datetime(2017, 12, 14, 10, 50, 42, 696406, tzinfo=psycopg2.tz.FixedOffsetTimezone(offset=0, name=None)),\n",
       "  'min': datetime.datetime(2017, 12, 14, 9, 4, 30, 988130, tzinfo=psycopg2.tz.FixedOffsetTimezone(offset=0, name=None)),\n",
       "  'position': [333.397247314453, -2472.80786132812, 7.40004444122314],\n",
       "  'proj_matrix': [[1.17176976134378,\n",
       "    7.1113632343911e-10,\n",
       "    7.12121453168638e-09,\n",
       "    4.74024126333461e-05],\n",
       "   [-1.46599288264326e-09,\n",
       "    2.14450671093373,\n",
       "    -5.32054320323549e-08,\n",
       "    2.89187264002067e-06],\n",
       "   [-4.67491220181034e-14,\n",
       "    -6.05809155299091e-15,\n",
       "    6.79492955205133e-06,\n",
       "    0.0675004633723971],\n",
       "   [-1.56125112837913e-17, 0.0, -1.0, 0.0]],\n",
       "  'time': datetime.timedelta(0, 6371, 708276)}]"
      ]
     },
     "execution_count": 22,
     "metadata": {},
     "output_type": "execute_result"
    }
   ],
   "source": [
    "filtered = filter_lagged(projections)\n",
    "list(filtered.values())"
   ]
  },
  {
   "cell_type": "code",
   "execution_count": null,
   "metadata": {
    "collapsed": true
   },
   "outputs": [],
   "source": []
  }
 ],
 "metadata": {
  "kernelspec": {
   "display_name": "Python 3",
   "language": "python",
   "name": "python3"
  },
  "language_info": {
   "codemirror_mode": {
    "name": "ipython",
    "version": 3
   },
   "file_extension": ".py",
   "mimetype": "text/x-python",
   "name": "python",
   "nbconvert_exporter": "python",
   "pygments_lexer": "ipython3",
   "version": "3.6.3"
  }
 },
 "nbformat": 4,
 "nbformat_minor": 2
}
