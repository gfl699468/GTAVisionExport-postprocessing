{
 "cells": [
  {
   "cell_type": "code",
   "execution_count": 1,
   "metadata": {
    "collapsed": true
   },
   "outputs": [],
   "source": [
    "import numpy as np\n",
    "import matplotlib.pyplot as plt\n",
    "import visualization\n",
    "from math import tan, atan, radians, degrees, sin, cos, atan2"
   ]
  },
  {
   "cell_type": "code",
   "execution_count": 2,
   "metadata": {
    "collapsed": true
   },
   "outputs": [],
   "source": [
    "# by https://stackoverflow.com/questions/2891790/how-to-pretty-printing-a-numpy-array-without-scientific-notation-and-with-given\n",
    "import contextlib\n",
    "\n",
    "@contextlib.contextmanager\n",
    "def printoptions(*args, **kwargs):\n",
    "    original = np.get_printoptions()\n",
    "    np.set_printoptions(*args, **kwargs)\n",
    "    try:\n",
    "        yield\n",
    "    finally: \n",
    "        np.set_printoptions(**original)\n",
    "        "
   ]
  },
  {
   "cell_type": "markdown",
   "metadata": {},
   "source": [
    "## constructing projection matrix"
   ]
  },
  {
   "cell_type": "code",
   "execution_count": 3,
   "metadata": {
    "collapsed": true
   },
   "outputs": [],
   "source": [
    "def construct_proj_matrix(H=1080, W=1914, fov=50.0, near_clip=1.5):\n",
    "    # for z coord\n",
    "    f = near_clip  # the near clip, but f in the book\n",
    "    n = 10003.815  # the far clip, rounded value of median, after very weird values were discarded\n",
    "    # x coord\n",
    "    r = W * n * tan(radians(fov) / 2) / H\n",
    "    l = -r\n",
    "    # y coord\n",
    "    t = n * tan(radians(fov) / 2)\n",
    "    b = -t\n",
    "    # x00 = 2*n/(r-l)\n",
    "    x00 = H / (tan(radians(fov) / 2) * W)\n",
    "    # x11 = 2*n/(t-b)\n",
    "    x11 = 1 / tan(radians(fov) / 2)\n",
    "    return np.array([\n",
    "        [x00, 0, -(r + l) / (r - l), 0],\n",
    "        [0, x11, -(t + b) / (t - b), 0],\n",
    "        [0, 0, -f / (f - n), -f * n / (f - n)],\n",
    "        [0, 0, -1, 0],\n",
    "    ])\n",
    "\n",
    "def calc_matrix_params(proj):\n",
    "    x22 = proj[2, 2]\n",
    "    x23 = proj[2, 3]\n",
    "    n = -x23 / x22\n",
    "    f = -x23 / (x22 - 1)\n",
    "    return n, f"
   ]
  },
  {
   "cell_type": "markdown",
   "metadata": {},
   "source": [
    "## loading data"
   ]
  },
  {
   "cell_type": "code",
   "execution_count": 4,
   "metadata": {},
   "outputs": [
    {
     "name": "stdout",
     "output_type": "stream",
     "text": [
      "There are 33293 records\n"
     ]
    }
   ],
   "source": [
    "ini_file = \"gta-postprocessing.ini\"\n",
    "visualization.multi_page = False\n",
    "visualization.ini_file = ini_file\n",
    "\n",
    "conn = visualization.get_connection()\n",
    "cur = conn.cursor()\n",
    "cur.execute(\"\"\"SELECT snapshot_id, imagepath, proj_matrix, view_matrix, \\\n",
    "    ARRAY[st_x(camera_pos), st_y(camera_pos), st_z(camera_pos)] as camera_pos, \\\n",
    "    ARRAY[st_x(camera_rot), st_y(camera_rot), st_z(camera_rot)] as camera_rot, \\\n",
    "    ARRAY[st_x(camera_direction), st_y(camera_direction), st_z(camera_direction)] as camera_direction \\\n",
    "  FROM snapshots \\\n",
    "  WHERE run_id = 6\n",
    "  ORDER BY snapshot_id DESC \\\n",
    "  \"\"\")\n",
    "\n",
    "results = []\n",
    "for row in cur:\n",
    "    res = dict(row)\n",
    "    res['proj_matrix'] = np.array(res['proj_matrix'])\n",
    "    res['view_matrix'] = np.array(res['view_matrix'])\n",
    "    res['camera_pos'] = np.array(res['camera_pos'])\n",
    "    res['camera_rot'] = np.array(res['camera_rot'])\n",
    "    res['camera_direction'] = np.array(res['camera_direction'])\n",
    "    results.append(res)\n",
    "\n",
    "print('There are {} records'.format(len(results)))\n",
    "projs = [i['proj_matrix'] for i in results]\n",
    "views = [i['view_matrix'] for i in results]\n",
    "\n",
    "# todo: estimate far plane by least squares. The rest is known. Before that, get rid of all outliers\n",
    "# x00 = proj[0, 0]\n",
    "# x11 = proj[1, 1]\n",
    "x22s = np.array([proj[2, 2] for proj in projs])\n",
    "x23s = np.array([proj[2, 3] for proj in projs])\n",
    "\n",
    "ns = -x23s / x22s\n",
    "fs = -x23s / (x22s - 1)"
   ]
  },
  {
   "cell_type": "markdown",
   "metadata": {},
   "source": [
    "## inspecting projection matrix"
   ]
  },
  {
   "cell_type": "code",
   "execution_count": null,
   "metadata": {
    "collapsed": true,
    "scrolled": true
   },
   "outputs": [],
   "source": [
    "# showing plots with values\n",
    "%matplotlib inline\n",
    "\n",
    "fig = plt.figure(figsize=(14, 14))\n",
    "plt.yscale('log', nonposy='clip')\n",
    "plt.title('$X_{22}$')\n",
    "plt.hist(x22s, bins=1000)\n",
    "\n",
    "fig = plt.figure(figsize=(14, 14))\n",
    "plt.yscale('log', nonposy='clip')\n",
    "plt.title('$X_{23}$')\n",
    "plt.hist(x23s, bins=1000)\n",
    "\n",
    "\n",
    "fig = plt.figure(figsize=(14, 14))\n",
    "plt.title('both')\n",
    "plt.xlabel('$X_{22}$')\n",
    "plt.ylabel('$X_{23}$')\n",
    "plt.loglog(x22s, x23s, 'o', markersize=1)\n",
    "plt.show()"
   ]
  },
  {
   "cell_type": "code",
   "execution_count": null,
   "metadata": {
    "collapsed": true,
    "scrolled": true
   },
   "outputs": [],
   "source": [
    "# showing weird matrices\n",
    "with printoptions(precision=5, suppress=True):\n",
    "    print('weird x22 value in proj: ')\n",
    "    weird_projs = [proj for proj in projs if abs(proj[2, 2] - (-1)) < 1e-4]\n",
    "    for weird_proj in weird_projs:\n",
    "        print(weird_proj)\n",
    "        print(calc_matrix_params(weird_proj))\n",
    "    \n",
    "    print('correct proj')\n",
    "    print(projs[0])\n",
    "    print(calc_matrix_params(projs[0]))\n",
    "\n",
    "    print('weird x23 value in proj: ')\n",
    "    weird_projs = [proj for proj in projs if proj[2, 3] > 1000]\n",
    "    for weird_proj in weird_projs:\n",
    "        print(weird_proj)\n",
    "        print(calc_matrix_params(weird_proj))\n",
    "    \n",
    "    print('correct proj')\n",
    "    print(projs[0])\n",
    "    print(calc_matrix_params(projs[0]))\n",
    "\n"
   ]
  },
  {
   "cell_type": "code",
   "execution_count": null,
   "metadata": {
    "collapsed": true,
    "scrolled": true
   },
   "outputs": [],
   "source": [
    "# showing plots with n and f\n",
    "%matplotlib inline\n",
    "# axes[0].plot(x22s, np.zeros_like(x22s), 'x')\n",
    "fig = plt.figure(figsize=(14, 14))\n",
    "plt.yscale('log', nonposy='clip')\n",
    "plt.title('$N$')\n",
    "plt.hist(ns, bins=1000)\n",
    "\n",
    "fig = plt.figure(figsize=(14, 14))\n",
    "plt.yscale('log', nonposy='clip')\n",
    "plt.title('$F$')\n",
    "plt.hist(fs, bins=1000)\n",
    "\n",
    "fig = plt.figure(figsize=(14, 14))\n",
    "plt.title('both')\n",
    "plt.xlabel('$N$')\n",
    "plt.ylabel('$F$')\n",
    "plt.loglog(ns, fs, 'o', markersize=1)\n",
    "plt.show()\n",
    "\n",
    "fig = plt.figure(figsize=(14, 14))\n",
    "plt.title('both')\n",
    "plt.xlabel('$N$')\n",
    "plt.ylabel('$F$')\n",
    "plt.plot(ns, fs, 'o', markersize=1)\n",
    "plt.show()"
   ]
  },
  {
   "cell_type": "code",
   "execution_count": null,
   "metadata": {
    "collapsed": true
   },
   "outputs": [],
   "source": [
    "# filtered weird values\n",
    "# this filters only very weird values\n",
    "correct_projs = [proj for proj in projs if abs(proj[2, 2] - (-1)) > 1e-2 and proj[2, 3] < 1e3]\n",
    "# this filters bassed on knowledge of near clip (far clip in terminilogy of equations, f)\n",
    "correct_projs = [proj for proj in correct_projs if abs((-proj[2, 3] / (proj[2, 2] - 1)) - 1.5) < 5e-4]\n",
    "x22s = np.array([proj[2, 2] for proj in correct_projs])\n",
    "x23s = np.array([proj[2, 3] for proj in correct_projs])\n",
    "\n",
    "ns = -x23s / x22s\n",
    "fs = -x23s / (x22s - 1)\n",
    "\n",
    "print('all values count: ', len(projs))\n",
    "print('correct values count: ', len(correct_projs))\n",
    "print('filtered count: ', len(projs) - len(correct_projs))"
   ]
  },
  {
   "cell_type": "code",
   "execution_count": null,
   "metadata": {
    "collapsed": true,
    "scrolled": false
   },
   "outputs": [],
   "source": [
    "# showing plots with values\n",
    "%matplotlib inline\n",
    "\n",
    "fig = plt.figure(figsize=(14, 14))\n",
    "plt.yscale('log', nonposy='clip')\n",
    "plt.title('$X_{22}$')\n",
    "plt.hist(x22s, bins=1000)\n",
    "\n",
    "fig = plt.figure(figsize=(14, 14))\n",
    "plt.yscale('log', nonposy='clip')\n",
    "plt.title('$X_{23}$')\n",
    "plt.hist(x23s, bins=1000)\n",
    "\n",
    "\n",
    "my_proj = construct_proj_matrix()\n",
    "\n",
    "fig = plt.figure(figsize=(14, 14))\n",
    "plt.title('both')\n",
    "plt.xlabel('$X_{22}$')\n",
    "plt.ylabel('$X_{23}$')\n",
    "plt.loglog(x22s, x23s, 'o', markersize=1)\n",
    "plt.plot(my_proj[2, 2], my_proj[2, 3], 'x', markersize=7)\n",
    "plt.show()\n",
    "\n",
    "fig = plt.figure(figsize=(14, 14))\n",
    "plt.title('both')\n",
    "plt.xlabel('$X_{22}$')\n",
    "plt.ylabel('$X_{23}$')\n",
    "plt.plot(x22s, x23s, 'o', markersize=1)\n",
    "plt.plot(my_proj[2, 2], my_proj[2, 3], 'x', markersize=7)\n",
    "plt.show()\n",
    "\n",
    "dets = [np.linalg.det(proj) for proj in correct_projs]\n",
    "fig = plt.figure(figsize=(14, 14))\n",
    "plt.title('determinants')\n",
    "plt.plot(dets, np.zeros_like(dets), 'o', markersize=1)\n",
    "plt.plot(np.linalg.det(my_proj), 0, 'x', markersize=7)\n",
    "plt.show()\n"
   ]
  },
  {
   "cell_type": "code",
   "execution_count": null,
   "metadata": {
    "collapsed": true,
    "scrolled": false
   },
   "outputs": [],
   "source": [
    "# showing plots with n and f\n",
    "%matplotlib inline\n",
    "# axes[0].plot(x22s, np.zeros_like(x22s), 'x')\n",
    "fig = plt.figure(figsize=(14, 14))\n",
    "plt.yscale('log', nonposy='clip')\n",
    "plt.title('$N$')\n",
    "plt.hist(ns, bins=3000)\n",
    "\n",
    "fig = plt.figure(figsize=(14, 14))\n",
    "plt.yscale('log', nonposy='clip')\n",
    "plt.title('$F$')\n",
    "plt.hist(fs, bins=3000)\n",
    "\n",
    "fig = plt.figure(figsize=(14, 14))\n",
    "plt.title('both')\n",
    "plt.xlabel('$N$')\n",
    "plt.ylabel('$F$')\n",
    "plt.loglog(ns, fs, 'o', markersize=1)\n",
    "plt.show()\n",
    "\n",
    "fig = plt.figure(figsize=(14, 14))\n",
    "plt.title('both')\n",
    "plt.xlabel('$N$')\n",
    "plt.ylabel('$F$')\n",
    "plt.plot(ns, fs, 'o', markersize=1)\n",
    "plt.show()"
   ]
  },
  {
   "cell_type": "code",
   "execution_count": null,
   "metadata": {
    "collapsed": true,
    "scrolled": false
   },
   "outputs": [],
   "source": [
    "# fat clip, which I know precisely, is more noisy, near clip is more clear, taking value of the most frequent bin in histogram should suffice\n",
    "bins = np.linspace(np.min(ns), np.max(ns), num=1000)\n",
    "#print(bins)\n",
    "inds = np.digitize(ns, bins)\n",
    "print(inds)\n",
    "print(np.sort(np.bincount(inds)))\n",
    "print(np.argmax(np.bincount(inds)))\n",
    "print(bins[np.argmax(np.bincount(inds))])\n",
    "print(bins[np.argmax(np.bincount(inds)) - 1])\n",
    "print(bins[np.argmax(np.bincount(inds)) + 1])\n",
    "\n",
    "print('mean: ', np.mean(ns))\n",
    "print('median: ', np.median(ns))\n"
   ]
  },
  {
   "cell_type": "code",
   "execution_count": null,
   "metadata": {
    "collapsed": true
   },
   "outputs": [],
   "source": [
    "# experimenting with generated matrices\n",
    "my_proj = construct_proj_matrix()\n",
    "proj = projs[0]\n",
    "print('my_proj')\n",
    "print(my_proj)\n",
    "print('proj')\n",
    "print(proj)\n",
    "print('diff')\n",
    "print(my_proj - proj)\n",
    "print('diff sum')\n",
    "print(np.sum(abs(my_proj - proj)))\n"
   ]
  },
  {
   "cell_type": "markdown",
   "metadata": {},
   "source": [
    "### inspecting view matrices"
   ]
  },
  {
   "cell_type": "code",
   "execution_count": 16,
   "metadata": {
    "collapsed": true
   },
   "outputs": [],
   "source": [
    "def construct_view_matrix(camera_pos, camera_direction):\n",
    "    view_matrix = np.zeros((4, 4))\n",
    "    # view_matrix[0:3, 3] = camera_pos\n",
    "    view_matrix[0:3, 0:3] = create_rot_matrix(camera_direction)\n",
    "    view_matrix[3, 3] = 1\n",
    "    \n",
    "    trans_matrix = np.eye(4)\n",
    "    trans_matrix[0:3, 3] = camera_pos\n",
    "    \n",
    "    return view_matrix @ trans_matrix\n",
    "\n",
    "def create_rot_matrix(euler):\n",
    "    x = np.radians(euler[0])\n",
    "    y = np.radians(euler[1])\n",
    "    z = np.radians(euler[2])\n",
    "    Rx = np.array([[1, 0, 0],\n",
    "                   [0, cos(x), -sin(x)],\n",
    "                   [0, sin(x), cos(x)]], dtype=np.float)\n",
    "    Ry = np.array([[cos(y), 0, sin(y)],\n",
    "                   [0, 1, 0],\n",
    "                   [-sin(y), 0, cos(y)]], dtype=np.float)\n",
    "    Rz = np.array([[cos(z), -sin(z), 0],\n",
    "                   [sin(z), cos(z), 0],\n",
    "                   [0, 0, 1]], dtype=np.float)\n",
    "    result = Rz @ Ry @ Rx\n",
    "    return result\n",
    "\n",
    "def calc_view_matrix_params(view):\n",
    "    trans = view[0:3, 3]\n",
    "    rot_mat = view[0:3, 0:3]\n",
    "    return trans, rot_mat"
   ]
  },
  {
   "cell_type": "code",
   "execution_count": 17,
   "metadata": {},
   "outputs": [
    {
     "name": "stdout",
     "output_type": "stream",
     "text": [
      "view_matrix\n",
      " [[  6.36678517e-01   7.71121144e-01   3.54826893e-03   1.61233813e+03]\n",
      " [ -5.27095795e-03  -2.49394914e-04   9.99986053e-01  -2.23262062e+01]\n",
      " [  7.71111310e-01  -6.36688352e-01   3.90576315e-03   1.23375745e+03]\n",
      " [  0.00000000e+00   0.00000000e+00   0.00000000e+00   1.00000000e+00]]\n",
      "view_matrix_calc\n",
      " [[  9.99938259e-01  -8.13831685e-05   1.11118052e-02  -1.97773285e+03]\n",
      " [ -6.81646447e-05   9.99909442e-01   1.34574204e-02  -4.57459779e+02]\n",
      " [ -1.11118942e-02  -1.34573470e-02   9.99847701e-01   3.99246136e+01]\n",
      " [  0.00000000e+00   0.00000000e+00   0.00000000e+00   1.00000000e+00]]\n",
      "diff\n",
      " [[ -3.63259742e-01   7.71202527e-01  -7.56353631e-03   3.59007098e+03]\n",
      " [ -5.20279330e-03  -1.00015884e+00   9.86528632e-01   4.35133573e+02]\n",
      " [  7.82223204e-01  -6.23231005e-01  -9.95941938e-01   1.19383283e+03]\n",
      " [  0.00000000e+00   0.00000000e+00   0.00000000e+00   0.00000000e+00]]\n",
      "diff sum\n",
      " 5224.57269815\n",
      "pos\n",
      " [-1978.02319336  -457.79467773    11.78612232]\n",
      "pos length\n",
      " 2030.34249158\n",
      "rot_vec\n",
      " [ -0.22378571  -0.20330127  50.45510864]\n"
     ]
    }
   ],
   "source": [
    "view_matrix = results[0]['view_matrix']\n",
    "pos = results[0]['camera_pos']\n",
    "rot = results[0]['camera_rot']\n",
    "direc = results[0]['camera_direction']\n",
    "view_matrix_calc = construct_view_matrix(pos, direc)\n",
    "print('view_matrix\\n', view_matrix)\n",
    "print('view_matrix_calc\\n', view_matrix_calc)\n",
    "print('diff\\n', view_matrix - view_matrix_calc)\n",
    "print('diff sum\\n', np.sum(abs(view_matrix - view_matrix_calc)))\n",
    "\n",
    "print('pos\\n', pos)\n",
    "print('pos length\\n', np.linalg.norm(pos))\n",
    "print('rot_vec\\n', rot)\n"
   ]
  },
  {
   "cell_type": "code",
   "execution_count": null,
   "metadata": {},
   "outputs": [],
   "source": [
    "trans, rot_mat = calc_view_matrix_params(view_matrix)"
   ]
  },
  {
   "cell_type": "code",
   "execution_count": null,
   "metadata": {},
   "outputs": [],
   "source": [
    "print('trans\\n', trans)\n",
    "print('trans length\\n', np.linalg.norm(trans))\n",
    "print('rot\\n', rot)"
   ]
  },
  {
   "cell_type": "code",
   "execution_count": null,
   "metadata": {},
   "outputs": [],
   "source": [
    "a, b, c = rot\n",
    "rot_mat_calc = np.array([\n",
    "    [cos(a)*cos(b), cos(a)*sin(b)*sin(c) - sin(a)*cos(c), cos(a)*sin(b)*cos(c) + sin(a)*sin(c)],\n",
    "    [cos(a)*cos(b), cos(a)*sin(b)*sin(c) + cos(a)*cos(c), sin(a)*sin(b)*cos(c) - cos(a)*sin(c)],\n",
    "    [-sin(b), cos(b)*sin(c), cos(b)*cos(c)],\n",
    "])\n",
    "print('rot_mat calculated\\n', rot_mat_calc)"
   ]
  },
  {
   "cell_type": "code",
   "execution_count": 11,
   "metadata": {
    "collapsed": true
   },
   "outputs": [],
   "source": [
    "# Checks if a matrix is a valid rotation matrix.\n",
    "import math\n",
    "\n",
    "def isRotationMatrix(R) :\n",
    "    Rt = np.transpose(R)\n",
    "    shouldBeIdentity = np.dot(Rt, R)\n",
    "    I = np.identity(3, dtype = R.dtype)\n",
    "    n = np.linalg.norm(I - shouldBeIdentity)\n",
    "    return n < 1e-6\n",
    "\n",
    "\n",
    "def rotationMatrixToEulerAngles(R): \n",
    "    assert(isRotationMatrix(R))\n",
    "    sy = math.sqrt(R[0,0] * R[0,0] +  R[1,0] * R[1,0])\n",
    "     \n",
    "    singular = sy < 1e-6\n",
    " \n",
    "    if  not singular :\n",
    "        x = math.atan2(R[2,1] , R[2,2])\n",
    "        y = math.atan2(-R[2,0], sy)\n",
    "        z = math.atan2(R[1,0], R[0,0])\n",
    "    else :\n",
    "        x = math.atan2(-R[1,2], R[1,1])\n",
    "        y = math.atan2(-R[2,0], sy)\n",
    "        z = 0\n",
    " \n",
    "    return np.array([x, y, z])"
   ]
  },
  {
   "cell_type": "code",
   "execution_count": 13,
   "metadata": {},
   "outputs": [
    {
     "name": "stdout",
     "output_type": "stream",
     "text": [
      "euler angles from view matrix\n",
      " [-1.56466191 -0.88058475 -0.00827865]\n",
      "euler angles degrees\n",
      " [-89.64852359 -50.45378972  -0.47433161]\n",
      "rot_vec\n",
      " [ -0.22378571  -0.20330127  50.45510864]\n",
      "direction_vec\n",
      " [-0.77112007  0.63667774 -0.00390579]\n"
     ]
    }
   ],
   "source": [
    "euler = rotationMatrixToEulerAngles(view_matrix[0:3, 0:3])\n",
    "print('euler angles from view matrix\\n', euler)\n",
    "print('euler angles degrees\\n', np.degrees(euler))\n",
    "print('rot_vec\\n', rot)\n",
    "print('direction_vec\\n', direc)\n"
   ]
  },
  {
   "cell_type": "code",
   "execution_count": null,
   "metadata": {},
   "outputs": [],
   "source": []
  },
  {
   "cell_type": "code",
   "execution_count": null,
   "metadata": {
    "collapsed": true
   },
   "outputs": [],
   "source": []
  }
 ],
 "metadata": {
  "kernelspec": {
   "display_name": "Python 3",
   "language": "python",
   "name": "python3"
  },
  "language_info": {
   "codemirror_mode": {
    "name": "ipython",
    "version": 3
   },
   "file_extension": ".py",
   "mimetype": "text/x-python",
   "name": "python",
   "nbconvert_exporter": "python",
   "pygments_lexer": "ipython3",
   "version": "3.6.3"
  }
 },
 "nbformat": 4,
 "nbformat_minor": 1
}
