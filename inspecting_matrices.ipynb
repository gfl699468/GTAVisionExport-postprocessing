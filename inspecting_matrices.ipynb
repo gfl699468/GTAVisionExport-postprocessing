{
 "cells": [
  {
   "cell_type": "code",
   "execution_count": null,
   "metadata": {
    "collapsed": true
   },
   "outputs": [],
   "source": [
    "import numpy as np\n",
    "import matplotlib.pyplot as plt\n",
    "import visualization\n",
    "from math import tan, atan, radians, degrees"
   ]
  },
  {
   "cell_type": "code",
   "execution_count": null,
   "metadata": {
    "collapsed": true
   },
   "outputs": [],
   "source": [
    "# by https://stackoverflow.com/questions/2891790/how-to-pretty-printing-a-numpy-array-without-scientific-notation-and-with-given\n",
    "import contextlib\n",
    "\n",
    "@contextlib.contextmanager\n",
    "def printoptions(*args, **kwargs):\n",
    "    original = np.get_printoptions()\n",
    "    np.set_printoptions(*args, **kwargs)\n",
    "    try:\n",
    "        yield\n",
    "    finally: \n",
    "        np.set_printoptions(**original)\n",
    "        "
   ]
  },
  {
   "cell_type": "code",
   "execution_count": null,
   "metadata": {
    "collapsed": true
   },
   "outputs": [],
   "source": [
    "def construct_proj_matrix(H=1080, W=1914, fov=50.0, near_clip=1.5):\n",
    "    # for z coord\n",
    "    f = near_clip  # the near clip, but f in the book\n",
    "    n = 10003.815  # the far clip, rounded value of median, after very weird values were discarded\n",
    "    # x coord\n",
    "    r = W * n * tan(radians(fov) / 2) / H\n",
    "    l = -r\n",
    "    # y coord\n",
    "    t = n * tan(radians(fov) / 2)\n",
    "    b = -t\n",
    "    # x00 = 2*n/(r-l)\n",
    "    x00 = H / (tan(radians(fov) / 2) * W)\n",
    "    # x11 = 2*n/(t-b)\n",
    "    x11 = 1 / tan(radians(fov) / 2)\n",
    "    return np.array([\n",
    "        [x00, 0, -(r + l) / (r - l), 0],\n",
    "        [0, x11, -(t + b) / (t - b), 0],\n",
    "        [0, 0, -f / (f - n), -f * n / (f - n)],\n",
    "        [0, 0, -1, 0],\n",
    "    ])\n",
    "\n",
    "def calc_matrix_params(proj):\n",
    "    x22 = proj[2, 2]\n",
    "    x23 = proj[2, 3]\n",
    "    n = -x23 / x22\n",
    "    f = -x23 / (x22 - 1)\n",
    "    return n, f"
   ]
  },
  {
   "cell_type": "code",
   "execution_count": null,
   "metadata": {},
   "outputs": [],
   "source": [
    "ini_file = \"gta-postprocessing.ini\"\n",
    "visualization.multi_page = False\n",
    "visualization.ini_file = ini_file\n",
    "\n",
    "conn = visualization.get_connection()\n",
    "cur = conn.cursor()\n",
    "cur.execute(\"\"\"SELECT snapshot_id, imagepath, proj_matrix \\\n",
    "  FROM snapshots \\\n",
    "  WHERE run_id = 6\n",
    "  ORDER BY snapshot_id DESC \\\n",
    "  \"\"\")\n",
    "\n",
    "results = []\n",
    "for row in cur:\n",
    "    res = dict(row)\n",
    "    res['proj_matrix'] = np.array(res['proj_matrix'])\n",
    "    results.append(res)\n",
    "\n",
    "print('There are {} records'.format(len(results)))\n",
    "projs = [i['proj_matrix'] for i in results]\n",
    "\n",
    "# todo: estimate far plane by least squares. The rest is known. Before that, get rid of all outliers\n",
    "# x00 = proj[0, 0]\n",
    "# x11 = proj[1, 1]\n",
    "x22s = np.array([proj[2, 2] for proj in projs])\n",
    "x23s = np.array([proj[2, 3] for proj in projs])\n",
    "\n",
    "ns = -x23s / x22s\n",
    "fs = -x23s / (x22s - 1)"
   ]
  },
  {
   "cell_type": "code",
   "execution_count": null,
   "metadata": {
    "scrolled": true
   },
   "outputs": [],
   "source": [
    "# showing plots with values\n",
    "%matplotlib inline\n",
    "\n",
    "fig = plt.figure(figsize=(14, 14))\n",
    "plt.yscale('log', nonposy='clip')\n",
    "plt.title('$X_{22}$')\n",
    "plt.hist(x22s, bins=1000)\n",
    "\n",
    "fig = plt.figure(figsize=(14, 14))\n",
    "plt.yscale('log', nonposy='clip')\n",
    "plt.title('$X_{23}$')\n",
    "plt.hist(x23s, bins=1000)\n",
    "\n",
    "\n",
    "fig = plt.figure(figsize=(14, 14))\n",
    "plt.title('both')\n",
    "plt.xlabel('$X_{22}$')\n",
    "plt.ylabel('$X_{23}$')\n",
    "plt.loglog(x22s, x23s, 'o', markersize=1)\n",
    "plt.show()"
   ]
  },
  {
   "cell_type": "code",
   "execution_count": null,
   "metadata": {
    "scrolled": true
   },
   "outputs": [],
   "source": [
    "# showing weird matrices\n",
    "with printoptions(precision=5, suppress=True):\n",
    "    print('weird x22 value in proj: ')\n",
    "    weird_projs = [proj for proj in projs if abs(proj[2, 2] - (-1)) < 1e-4]\n",
    "    for weird_proj in weird_projs:\n",
    "        print(weird_proj)\n",
    "        print(calc_matrix_params(weird_proj))\n",
    "    \n",
    "    print('correct proj')\n",
    "    print(projs[0])\n",
    "    print(calc_matrix_params(projs[0]))\n",
    "\n",
    "    print('weird x23 value in proj: ')\n",
    "    weird_projs = [proj for proj in projs if proj[2, 3] > 1000]\n",
    "    for weird_proj in weird_projs:\n",
    "        print(weird_proj)\n",
    "        print(calc_matrix_params(weird_proj))\n",
    "    \n",
    "    print('correct proj')\n",
    "    print(projs[0])\n",
    "    print(calc_matrix_params(projs[0]))\n",
    "\n"
   ]
  },
  {
   "cell_type": "code",
   "execution_count": null,
   "metadata": {
    "scrolled": true
   },
   "outputs": [],
   "source": [
    "# showing plots with n and f\n",
    "%matplotlib inline\n",
    "# axes[0].plot(x22s, np.zeros_like(x22s), 'x')\n",
    "fig = plt.figure(figsize=(14, 14))\n",
    "plt.yscale('log', nonposy='clip')\n",
    "plt.title('$N$')\n",
    "plt.hist(ns, bins=1000)\n",
    "\n",
    "fig = plt.figure(figsize=(14, 14))\n",
    "plt.yscale('log', nonposy='clip')\n",
    "plt.title('$F$')\n",
    "plt.hist(fs, bins=1000)\n",
    "\n",
    "fig = plt.figure(figsize=(14, 14))\n",
    "plt.title('both')\n",
    "plt.xlabel('$N$')\n",
    "plt.ylabel('F$')\n",
    "plt.loglog(ns, fs, 'o', markersize=1)\n",
    "plt.show()\n",
    "\n",
    "fig = plt.figure(figsize=(14, 14))\n",
    "plt.title('both')\n",
    "plt.xlabel('$N$')\n",
    "plt.ylabel('F$')\n",
    "plt.plot(ns, fs, 'o', markersize=1)\n",
    "plt.show()"
   ]
  },
  {
   "cell_type": "code",
   "execution_count": null,
   "metadata": {},
   "outputs": [],
   "source": [
    "# filtered weird values\n",
    "# this filters only very weird values\n",
    "correct_projs = [proj for proj in projs if abs(proj[2, 2] - (-1)) > 1e-2 and proj[2, 3] < 1e3]\n",
    "# this filters bassed on knowledge of near clip (far clip in terminilogy of equations, f)\n",
    "correct_projs = [proj for proj in correct_projs if abs((-proj[2, 3] / (proj[2, 2] - 1)) - 1.5) < 5e-4]\n",
    "x22s = np.array([proj[2, 2] for proj in correct_projs])\n",
    "x23s = np.array([proj[2, 3] for proj in correct_projs])\n",
    "\n",
    "ns = -x23s / x22s\n",
    "fs = -x23s / (x22s - 1)\n",
    "\n",
    "print('all values count: ', len(projs))\n",
    "print('correct values count: ', len(correct_projs))\n",
    "print('filtered count: ', len(projs) - len(correct_projs))"
   ]
  },
  {
   "cell_type": "code",
   "execution_count": null,
   "metadata": {
    "scrolled": false
   },
   "outputs": [],
   "source": [
    "# showing plots with values\n",
    "%matplotlib inline\n",
    "\n",
    "fig = plt.figure(figsize=(14, 14))\n",
    "plt.yscale('log', nonposy='clip')\n",
    "plt.title('$X_{22}$')\n",
    "plt.hist(x22s, bins=1000)\n",
    "\n",
    "fig = plt.figure(figsize=(14, 14))\n",
    "plt.yscale('log', nonposy='clip')\n",
    "plt.title('$X_{23}$')\n",
    "plt.hist(x23s, bins=1000)\n",
    "\n",
    "\n",
    "my_proj = construct_proj_matrix()\n",
    "\n",
    "fig = plt.figure(figsize=(14, 14))\n",
    "plt.title('both')\n",
    "plt.xlabel('$X_{22}$')\n",
    "plt.ylabel('$X_{23}$')\n",
    "plt.loglog(x22s, x23s, 'o', markersize=1)\n",
    "plt.plot(my_proj[2, 2], my_proj[2, 3], 'x', markersize=7)\n",
    "plt.show()\n",
    "\n",
    "fig = plt.figure(figsize=(14, 14))\n",
    "plt.title('both')\n",
    "plt.xlabel('$X_{22}$')\n",
    "plt.ylabel('$X_{23}$')\n",
    "plt.plot(x22s, x23s, 'o', markersize=1)\n",
    "plt.plot(my_proj[2, 2], my_proj[2, 3], 'x', markersize=7)\n",
    "plt.show()\n",
    "\n",
    "dets = [np.linalg.det(proj) for proj in correct_projs]\n",
    "fig = plt.figure(figsize=(14, 14))\n",
    "plt.title('determinants')\n",
    "plt.plot(dets, np.zeros_like(dets), 'o', markersize=1)\n",
    "plt.plot(np.linalg.det(my_proj), 0, 'x', markersize=7)\n",
    "plt.show()\n"
   ]
  },
  {
   "cell_type": "code",
   "execution_count": null,
   "metadata": {
    "scrolled": false
   },
   "outputs": [],
   "source": [
    "# showing plots with n and f\n",
    "%matplotlib inline\n",
    "# axes[0].plot(x22s, np.zeros_like(x22s), 'x')\n",
    "fig = plt.figure(figsize=(14, 14))\n",
    "plt.yscale('log', nonposy='clip')\n",
    "plt.title('$N$')\n",
    "plt.hist(ns, bins=3000)\n",
    "\n",
    "fig = plt.figure(figsize=(14, 14))\n",
    "plt.yscale('log', nonposy='clip')\n",
    "plt.title('$F$')\n",
    "plt.hist(fs, bins=3000)\n",
    "\n",
    "fig = plt.figure(figsize=(14, 14))\n",
    "plt.title('both')\n",
    "plt.xlabel('$N$')\n",
    "plt.ylabel('F$')\n",
    "plt.loglog(ns, fs, 'o', markersize=1)\n",
    "plt.show()\n",
    "\n",
    "fig = plt.figure(figsize=(14, 14))\n",
    "plt.title('both')\n",
    "plt.xlabel('$N$')\n",
    "plt.ylabel('$F$')\n",
    "plt.plot(ns, fs, 'o', markersize=1)\n",
    "plt.show()"
   ]
  },
  {
   "cell_type": "code",
   "execution_count": null,
   "metadata": {
    "scrolled": false
   },
   "outputs": [],
   "source": [
    "# fat clip, which I know precisely, is more noisy, near clip is more clear, taking value of the most frequent bin in histogram should suffice\n",
    "bins = np.linspace(np.min(ns), np.max(ns), num=1000)\n",
    "#print(bins)\n",
    "inds = np.digitize(ns, bins)\n",
    "print(inds)\n",
    "print(np.sort(np.bincount(inds)))\n",
    "print(np.argmax(np.bincount(inds)))\n",
    "print(bins[np.argmax(np.bincount(inds))])\n",
    "print(bins[np.argmax(np.bincount(inds)) - 1])\n",
    "print(bins[np.argmax(np.bincount(inds)) + 1])\n",
    "\n",
    "print('mean: ', np.mean(ns))\n",
    "print('median: ', np.median(ns))\n"
   ]
  },
  {
   "cell_type": "code",
   "execution_count": null,
   "metadata": {},
   "outputs": [],
   "source": [
    "# experimenting with generated matrices\n",
    "my_proj = construct_proj_matrix()\n",
    "proj = projs[0]\n",
    "print('my_proj')\n",
    "print(my_proj)\n",
    "print('proj')\n",
    "print(proj)\n",
    "print('diff')\n",
    "print(my_proj - proj)\n",
    "print('diff sum')\n",
    "print(np.sum(abs(my_proj - proj)))\n"
   ]
  },
  {
   "cell_type": "code",
   "execution_count": null,
   "metadata": {
    "collapsed": true
   },
   "outputs": [],
   "source": []
  }
 ],
 "metadata": {
  "kernelspec": {
   "display_name": "Python 3",
   "language": "python",
   "name": "python3"
  },
  "language_info": {
   "codemirror_mode": {
    "name": "ipython",
    "version": 3
   },
   "file_extension": ".py",
   "mimetype": "text/x-python",
   "name": "python",
   "nbconvert_exporter": "python",
   "pygments_lexer": "ipython3",
   "version": "3.5.3"
  }
 },
 "nbformat": 4,
 "nbformat_minor": 1
}
