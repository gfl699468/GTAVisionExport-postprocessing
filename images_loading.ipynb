{
 "cells": [
  {
   "cell_type": "code",
   "execution_count": 1,
   "metadata": {
    "collapsed": true
   },
   "outputs": [],
   "source": [
    "import os\n",
    "import numpy as np\n",
    "from PIL import Image, ImageFile\n",
    "from skimage import io\n",
    "import matplotlib.pyplot as plt\n",
    "import tifffile\n",
    "from scipy import misc\n",
    "from tifffile import TiffFile\n",
    "from tifffile.tifffile import TIFF_DECOMPESSORS"
   ]
  },
  {
   "cell_type": "code",
   "execution_count": 12,
   "metadata": {
    "collapsed": true
   },
   "outputs": [],
   "source": [
    "name = 'info-2017-11-13--08-02-04.tiff'\n",
    "in_directory = './output'\n",
    "out_directory = './'\n",
    "base_name = os.path.splitext(name)[0]\n",
    "\n",
    "# os.getcwd()\n",
    "file_name = os.path.join(in_directory, name)\n",
    "# im = io.imread(file_name, plugin='tifffile')\n",
    "# im = tifffile.imread(file_name)\n",
    "# im = misc.imread(file_name)\n",
    "# im = TiffFile(file_name)\n",
    "im = Image.open(file_name)\n",
    "# im = plt.imread(file_name)\n",
    "# print(TIFF_DECOMPESSORS)\n",
    "im.seek(6)\n",
    "# print(im.getpixel((0, 0)))\n",
    "type(im)\n",
    "# data = im.asarray()\n",
    "# type(data)\n",
    "# im.shape\n",
    "arr = np.array(im)\n",
    "arr.shape\n",
    "# np.min(arr)\n",
    "im.show()"
   ]
  },
  {
   "cell_type": "code",
   "execution_count": null,
   "metadata": {
    "collapsed": true
   },
   "outputs": [],
   "source": []
  },
  {
   "cell_type": "code",
   "execution_count": null,
   "metadata": {
    "collapsed": true
   },
   "outputs": [],
   "source": []
  },
  {
   "cell_type": "code",
   "execution_count": null,
   "metadata": {
    "collapsed": true
   },
   "outputs": [],
   "source": []
  }
 ],
 "metadata": {
  "kernelspec": {
   "display_name": "Python 3",
   "language": "python",
   "name": "python3"
  },
  "language_info": {
   "codemirror_mode": {
    "name": "ipython",
    "version": 3
   },
   "file_extension": ".py",
   "mimetype": "text/x-python",
   "name": "python",
   "nbconvert_exporter": "python",
   "pygments_lexer": "ipython3",
   "version": "3.5.3"
  }
 },
 "nbformat": 4,
 "nbformat_minor": 1
}
